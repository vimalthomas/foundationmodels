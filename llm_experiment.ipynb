{
 "cells": [
  {
   "cell_type": "code",
   "execution_count": 1,
   "id": "140135ff-1b2c-45bd-a15d-2cae472bea45",
   "metadata": {
    "tags": []
   },
   "outputs": [],
   "source": [
    "import torch\n",
    "from tokenizer import TokenizerWrapper, download_and_merge_text_files, train_tokenizer,download_file_from_url\n",
    "from dataset_loader import TextDataset, collate_fn\n",
    "from gru_model import GRULanguageModel\n",
    "from train_utils import train_model, evaluate_model"
   ]
  },
  {
   "cell_type": "code",
   "execution_count": 2,
   "id": "b0e2c489-8499-48ba-9557-a627eee9044d",
   "metadata": {
    "tags": []
   },
   "outputs": [],
   "source": [
    "# Define model-specific hyperparameter grids\n",
    "hyperparams_grid = {\n",
    "    \"gru\": [\n",
    "        {\"embed_dim\": 128, \"hidden_dim\": 256, \"num_layers\": 2, \"lr\": 1e-3},\n",
    "        {\"embed_dim\": 256, \"hidden_dim\": 512, \"num_layers\": 3, \"lr\": 5e-4}\n",
    "    ],\n",
    "    \"lstm\": [\n",
    "        {\"embed_dim\": 128, \"hidden_dim\": 256, \"num_layers\": 2, \"lr\": 1e-3},\n",
    "        {\"embed_dim\": 256, \"hidden_dim\": 512, \"num_layers\": 3, \"lr\": 1e-4}\n",
    "    ],\n",
    "    \"rnn\": [\n",
    "        {\"embed_dim\": 128, \"hidden_dim\": 128, \"num_layers\": 2, \"lr\": 1e-3}\n",
    "    ],\n",
    "    \"transformer\": [\n",
    "        {\"embed_dim\": 256, \"num_heads\": 4, \"num_layers\": 2, \"lr\": 1e-3},\n",
    "        {\"embed_dim\": 512, \"num_heads\": 8, \"num_layers\": 4, \"lr\": 5e-4}\n",
    "    ]\n",
    "}\n"
   ]
  },
  {
   "cell_type": "code",
   "execution_count": 3,
   "id": "c6ee481f-25bd-4776-b207-c2b07779ef62",
   "metadata": {
    "tags": []
   },
   "outputs": [],
   "source": [
    "from train_utils import train_model, evaluate_model\n",
    "import pandas as pd\n",
    "import time\n",
    "\n",
    "results = []\n",
    "\n",
    "def run_experiments(model_type, ModelClass, grid, tokenizer, train_loader, test_loader, device):\n",
    "    for idx, config in enumerate(grid):\n",
    "        model_id = f\"{model_type}_{idx}_{int(time.time())}\"\n",
    "        print(f\"\\n Training {model_id} with config: {config}\")\n",
    "        \n",
    "        if model_type == \"transformer\":\n",
    "            model = ModelClass(\n",
    "                vocab_size=VOCAB_SIZE,\n",
    "                embed_dim=config[\"embed_dim\"],\n",
    "                num_heads=config[\"num_heads\"],\n",
    "                num_layers=config[\"num_layers\"],\n",
    "                pad_token_id=tokenizer.get_pad_id()\n",
    "            ).to(device)\n",
    "        else:\n",
    "            model = ModelClass(\n",
    "                vocab_size=VOCAB_SIZE,\n",
    "                embed_dim=config[\"embed_dim\"],\n",
    "                hidden_dim=config[\"hidden_dim\"],\n",
    "                num_layers=config[\"num_layers\"],\n",
    "                pad_token_id=tokenizer.get_pad_id()\n",
    "            ).to(device)\n",
    "        \n",
    "        save_path = f\"{model_id}.pt\"\n",
    "        train_model(model, train_loader, test_loader, tokenizer, device, save_path, lr=config[\"lr\"], epochs=50)\n",
    "\n",
    "        ppl, bleu = evaluate_model(model, save_path, test_loader, tokenizer, device)\n",
    "        results.append({\n",
    "            \"model_type\": model_type,\n",
    "            \"config\": config,\n",
    "            \"perplexity\": ppl,\n",
    "            \"bleu_score\": bleu,\n",
    "            \"model_path\": save_path\n",
    "        })\n"
   ]
  },
  {
   "cell_type": "code",
   "execution_count": 4,
   "id": "cf4b3cb9-a0e2-4536-9635-fd6ee83b2a65",
   "metadata": {
    "tags": []
   },
   "outputs": [
    {
     "name": "stderr",
     "output_type": "stream",
     "text": [
      "sentencepiece_trainer.cc(78) LOG(INFO) Starts training with : \n",
      "trainer_spec {\n",
      "  input: corpus.txt\n",
      "  input_format: \n",
      "  model_prefix: bpe_tokenizer\n",
      "  model_type: BPE\n",
      "  vocab_size: 10000\n",
      "  self_test_sample_size: 0\n",
      "  character_coverage: 0.9995\n",
      "  input_sentence_size: 0\n",
      "  shuffle_input_sentence: 1\n",
      "  seed_sentencepiece_size: 1000000\n",
      "  shrinking_factor: 0.75\n",
      "  max_sentence_length: 4192\n",
      "  num_threads: 16\n",
      "  num_sub_iterations: 2\n",
      "  max_sentencepiece_length: 16\n",
      "  split_by_unicode_script: 1\n",
      "  split_by_number: 1\n",
      "  split_by_whitespace: 1\n",
      "  split_digits: 0\n",
      "  pretokenization_delimiter: \n",
      "  treat_whitespace_as_suffix: 0\n",
      "  allow_whitespace_only_pieces: 0\n",
      "  user_defined_symbols: <bos>\n",
      "  user_defined_symbols: <eos>\n",
      "  user_defined_symbols: <pad>\n",
      "  required_chars: \n",
      "  byte_fallback: 0\n",
      "  vocabulary_output_piece_score: 1\n",
      "  train_extremely_large_corpus: 0\n",
      "  seed_sentencepieces_file: \n",
      "  hard_vocab_limit: 1\n",
      "  use_all_vocab: 0\n",
      "  unk_id: 0\n",
      "  bos_id: 1\n",
      "  eos_id: 2\n",
      "  pad_id: 3\n",
      "  unk_piece: <unk>\n",
      "  bos_piece: <s>\n",
      "  eos_piece: </s>\n",
      "  pad_piece: <pad>\n",
      "  unk_surface:  ⁇ \n",
      "  enable_differential_privacy: 0\n",
      "  differential_privacy_noise_level: 0\n",
      "  differential_privacy_clipping_threshold: 0\n",
      "}\n",
      "normalizer_spec {\n",
      "  name: nmt_nfkc\n",
      "  add_dummy_prefix: 1\n",
      "  remove_extra_whitespaces: 1\n",
      "  escape_whitespaces: 1\n",
      "  normalization_rule_tsv: \n",
      "}\n",
      "denormalizer_spec {}\n",
      "trainer_interface.cc(353) LOG(INFO) SentenceIterator is not specified. Using MultiFileSentenceIterator.\n",
      "trainer_interface.cc(185) LOG(INFO) Loading corpus: corpus.txt\n",
      "trainer_interface.cc(409) LOG(INFO) Loaded all 314308 sentences\n",
      "trainer_interface.cc(425) LOG(INFO) Adding meta_piece: <unk>\n",
      "trainer_interface.cc(425) LOG(INFO) Adding meta_piece: <s>\n",
      "trainer_interface.cc(425) LOG(INFO) Adding meta_piece: </s>\n",
      "trainer_interface.cc(425) LOG(INFO) Adding meta_piece: <pad>\n",
      "trainer_interface.cc(425) LOG(INFO) Adding meta_piece: <bos>\n",
      "trainer_interface.cc(425) LOG(INFO) Adding meta_piece: <eos>\n",
      "trainer_interface.cc(430) LOG(INFO) Normalizing sentences...\n",
      "trainer_interface.cc(539) LOG(INFO) all chars count=18739226\n",
      "trainer_interface.cc(550) LOG(INFO) Done: 99.9538% characters are covered.\n",
      "trainer_interface.cc(560) LOG(INFO) Alphabet size=84\n",
      "trainer_interface.cc(561) LOG(INFO) Final character coverage=0.999538\n",
      "trainer_interface.cc(592) LOG(INFO) Done! preprocessed 314308 sentences.\n",
      "trainer_interface.cc(598) LOG(INFO) Tokenizing input sentences with whitespace: 314308\n",
      "trainer_interface.cc(609) LOG(INFO) Done! 162273\n",
      "bpe_model_trainer.cc(159) LOG(INFO) Updating active symbols. max_freq=484303 min_freq=97\n",
      "bpe_model_trainer.cc(268) LOG(INFO) Added: freq=113041 size=20 all=2914 active=1788 piece=it\n",
      "bpe_model_trainer.cc(268) LOG(INFO) Added: freq=66763 size=40 all=4019 active=2893 piece=▁n\n",
      "bpe_model_trainer.cc(268) LOG(INFO) Added: freq=41038 size=60 all=5229 active=4103 piece=ly\n",
      "bpe_model_trainer.cc(268) LOG(INFO) Added: freq=30610 size=80 all=6155 active=5029 piece=ir\n",
      "bpe_model_trainer.cc(268) LOG(INFO) Added: freq=23823 size=100 all=7281 active=6155 piece=▁The\n",
      "bpe_model_trainer.cc(159) LOG(INFO) Updating active symbols. max_freq=23377 min_freq=1594\n",
      "bpe_model_trainer.cc(268) LOG(INFO) Added: freq=17750 size=120 all=8364 active=2068 piece=if\n",
      "bpe_model_trainer.cc(268) LOG(INFO) Added: freq=14792 size=140 all=9383 active=3087 piece=▁but\n",
      "bpe_model_trainer.cc(268) LOG(INFO) Added: freq=12955 size=160 all=10245 active=3949 piece=ant\n",
      "bpe_model_trainer.cc(268) LOG(INFO) Added: freq=11153 size=180 all=11493 active=5197 piece=▁ne\n",
      "bpe_model_trainer.cc(268) LOG(INFO) Added: freq=9815 size=200 all=12520 active=6224 piece=▁them\n",
      "bpe_model_trainer.cc(159) LOG(INFO) Updating active symbols. max_freq=9764 min_freq=1426\n",
      "bpe_model_trainer.cc(268) LOG(INFO) Added: freq=8843 size=220 all=13795 active=2273 piece=▁le\n",
      "bpe_model_trainer.cc(268) LOG(INFO) Added: freq=7866 size=240 all=14816 active=3294 piece=▁when\n",
      "bpe_model_trainer.cc(268) LOG(INFO) Added: freq=7106 size=260 all=15729 active=4207 piece=▁ro\n",
      "bpe_model_trainer.cc(268) LOG(INFO) Added: freq=6361 size=280 all=16621 active=5099 piece=▁other\n",
      "bpe_model_trainer.cc(268) LOG(INFO) Added: freq=5941 size=300 all=17485 active=5963 piece=ci\n",
      "bpe_model_trainer.cc(159) LOG(INFO) Updating active symbols. max_freq=5937 min_freq=1223\n",
      "bpe_model_trainer.cc(268) LOG(INFO) Added: freq=5488 size=320 all=18375 active=1814 piece=▁now\n",
      "bpe_model_trainer.cc(268) LOG(INFO) Added: freq=5176 size=340 all=19213 active=2652 piece=ather\n",
      "bpe_model_trainer.cc(268) LOG(INFO) Added: freq=4784 size=360 all=19946 active=3385 piece=ud\n",
      "bpe_model_trainer.cc(268) LOG(INFO) Added: freq=4419 size=380 all=20814 active=4253 piece=ally\n",
      "bpe_model_trainer.cc(268) LOG(INFO) Added: freq=4160 size=400 all=21774 active=5213 piece=▁ey\n",
      "bpe_model_trainer.cc(159) LOG(INFO) Updating active symbols. max_freq=4156 min_freq=991\n",
      "bpe_model_trainer.cc(268) LOG(INFO) Added: freq=3991 size=420 all=22302 active=1611 piece=ness\n",
      "bpe_model_trainer.cc(268) LOG(INFO) Added: freq=3686 size=440 all=23036 active=2345 piece=▁seem\n",
      "bpe_model_trainer.cc(268) LOG(INFO) Added: freq=3516 size=460 all=23458 active=2767 piece=▁ra\n",
      "bpe_model_trainer.cc(268) LOG(INFO) Added: freq=3307 size=480 all=23854 active=3163 piece=ning\n",
      "bpe_model_trainer.cc(268) LOG(INFO) Added: freq=3076 size=500 all=24454 active=3763 piece=▁back\n",
      "bpe_model_trainer.cc(159) LOG(INFO) Updating active symbols. max_freq=3072 min_freq=806\n",
      "bpe_model_trainer.cc(268) LOG(INFO) Added: freq=2919 size=520 all=25049 active=1811 piece=▁ind\n",
      "bpe_model_trainer.cc(268) LOG(INFO) Added: freq=2734 size=540 all=25688 active=2450 piece=ss\n",
      "bpe_model_trainer.cc(268) LOG(INFO) Added: freq=2581 size=560 all=26088 active=2850 piece=▁most\n",
      "bpe_model_trainer.cc(268) LOG(INFO) Added: freq=2498 size=580 all=26547 active=3309 piece=▁moment\n",
      "bpe_model_trainer.cc(268) LOG(INFO) Added: freq=2342 size=600 all=27075 active=3837 piece=▁att\n",
      "bpe_model_trainer.cc(159) LOG(INFO) Updating active symbols. max_freq=2339 min_freq=684\n",
      "bpe_model_trainer.cc(268) LOG(INFO) Added: freq=2262 size=620 all=27370 active=1634 piece=▁right\n",
      "bpe_model_trainer.cc(268) LOG(INFO) Added: freq=2192 size=640 all=27938 active=2202 piece=▁take\n",
      "bpe_model_trainer.cc(268) LOG(INFO) Added: freq=2134 size=660 all=28660 active=2924 piece=ollow\n",
      "bpe_model_trainer.cc(268) LOG(INFO) Added: freq=2031 size=680 all=29091 active=3355 piece=rib\n",
      "bpe_model_trainer.cc(268) LOG(INFO) Added: freq=1971 size=700 all=29706 active=3970 piece=▁heart\n",
      "bpe_model_trainer.cc(159) LOG(INFO) Updating active symbols. max_freq=1970 min_freq=584\n",
      "bpe_model_trainer.cc(268) LOG(INFO) Added: freq=1912 size=720 all=30008 active=1776 piece=▁round\n",
      "bpe_model_trainer.cc(268) LOG(INFO) Added: freq=1856 size=740 all=30366 active=2134 piece=▁wind\n",
      "bpe_model_trainer.cc(268) LOG(INFO) Added: freq=1794 size=760 all=30742 active=2510 piece=▁ac\n",
      "bpe_model_trainer.cc(268) LOG(INFO) Added: freq=1740 size=780 all=31157 active=2925 piece=ged\n",
      "bpe_model_trainer.cc(268) LOG(INFO) Added: freq=1682 size=800 all=31531 active=3299 piece=ail\n",
      "bpe_model_trainer.cc(159) LOG(INFO) Updating active symbols. max_freq=1681 min_freq=516\n",
      "bpe_model_trainer.cc(268) LOG(INFO) Added: freq=1641 size=820 all=32038 active=2029 piece=aken\n",
      "bpe_model_trainer.cc(268) LOG(INFO) Added: freq=1597 size=840 all=32426 active=2417 piece=▁words\n",
      "bpe_model_trainer.cc(268) LOG(INFO) Added: freq=1558 size=860 all=32692 active=2683 piece=▁don\n",
      "bpe_model_trainer.cc(268) LOG(INFO) Added: freq=1501 size=880 all=33113 active=3104 piece=▁death\n",
      "bpe_model_trainer.cc(268) LOG(INFO) Added: freq=1444 size=900 all=33493 active=3484 piece=▁ship\n",
      "bpe_model_trainer.cc(159) LOG(INFO) Updating active symbols. max_freq=1435 min_freq=459\n",
      "bpe_model_trainer.cc(268) LOG(INFO) Added: freq=1398 size=920 all=33831 active=2006 piece=▁nor\n",
      "bpe_model_trainer.cc(268) LOG(INFO) Added: freq=1369 size=940 all=34325 active=2500 piece=aven\n",
      "bpe_model_trainer.cc(268) LOG(INFO) Added: freq=1346 size=960 all=34767 active=2942 piece=▁years\n",
      "bpe_model_trainer.cc(268) LOG(INFO) Added: freq=1315 size=980 all=35059 active=3234 piece=▁understand\n",
      "bpe_model_trainer.cc(268) LOG(INFO) Added: freq=1287 size=1000 all=35369 active=3544 piece=▁home\n",
      "bpe_model_trainer.cc(159) LOG(INFO) Updating active symbols. max_freq=1287 min_freq=407\n",
      "bpe_model_trainer.cc(268) LOG(INFO) Added: freq=1252 size=1020 all=35582 active=1973 piece=▁hon\n",
      "bpe_model_trainer.cc(268) LOG(INFO) Added: freq=1223 size=1040 all=35750 active=2141 piece=▁sir\n",
      "bpe_model_trainer.cc(268) LOG(INFO) Added: freq=1196 size=1060 all=35967 active=2358 piece=ets\n",
      "bpe_model_trainer.cc(268) LOG(INFO) Added: freq=1163 size=1080 all=36219 active=2610 piece=ey\n",
      "bpe_model_trainer.cc(268) LOG(INFO) Added: freq=1135 size=1100 all=36681 active=3072 piece=▁Monte\n",
      "bpe_model_trainer.cc(159) LOG(INFO) Updating active symbols. max_freq=1135 min_freq=373\n",
      "bpe_model_trainer.cc(268) LOG(INFO) Added: freq=1116 size=1120 all=37003 active=2155 piece=▁min\n",
      "bpe_model_trainer.cc(268) LOG(INFO) Added: freq=1099 size=1140 all=37339 active=2491 piece=ms\n",
      "bpe_model_trainer.cc(268) LOG(INFO) Added: freq=1081 size=1160 all=37594 active=2746 piece=▁Em\n",
      "bpe_model_trainer.cc(268) LOG(INFO) Added: freq=1051 size=1180 all=37874 active=3026 piece=▁however\n",
      "bpe_model_trainer.cc(268) LOG(INFO) Added: freq=1024 size=1200 all=38116 active=3268 piece=▁run\n",
      "bpe_model_trainer.cc(159) LOG(INFO) Updating active symbols. max_freq=1023 min_freq=343\n",
      "bpe_model_trainer.cc(268) LOG(INFO) Added: freq=1005 size=1220 all=38410 active=2195 piece=▁aff\n",
      "bpe_model_trainer.cc(268) LOG(INFO) Added: freq=984 size=1240 all=38758 active=2543 piece=▁obs\n",
      "bpe_model_trainer.cc(268) LOG(INFO) Added: freq=963 size=1260 all=38901 active=2686 piece=▁enem\n",
      "bpe_model_trainer.cc(268) LOG(INFO) Added: freq=946 size=1280 all=39167 active=2952 piece=▁feet\n",
      "bpe_model_trainer.cc(268) LOG(INFO) Added: freq=922 size=1300 all=39408 active=3193 piece=▁why\n",
      "bpe_model_trainer.cc(159) LOG(INFO) Updating active symbols. max_freq=922 min_freq=318\n",
      "bpe_model_trainer.cc(268) LOG(INFO) Added: freq=908 size=1320 all=39713 active=2276 piece=▁bra\n",
      "bpe_model_trainer.cc(268) LOG(INFO) Added: freq=887 size=1340 all=39907 active=2470 piece=▁diffe\n",
      "bpe_model_trainer.cc(268) LOG(INFO) Added: freq=862 size=1360 all=40061 active=2624 piece=ane\n",
      "bpe_model_trainer.cc(268) LOG(INFO) Added: freq=843 size=1380 all=40473 active=3036 piece=be\n",
      "bpe_model_trainer.cc(268) LOG(INFO) Added: freq=829 size=1400 all=40719 active=3282 piece=▁least\n",
      "bpe_model_trainer.cc(159) LOG(INFO) Updating active symbols. max_freq=828 min_freq=296\n",
      "bpe_model_trainer.cc(268) LOG(INFO) Added: freq=817 size=1420 all=40865 active=2181 piece=▁battle\n",
      "bpe_model_trainer.cc(268) LOG(INFO) Added: freq=804 size=1440 all=41135 active=2451 piece=▁stra\n",
      "bpe_model_trainer.cc(268) LOG(INFO) Added: freq=794 size=1460 all=41567 active=2883 piece=ia\n",
      "bpe_model_trainer.cc(268) LOG(INFO) Added: freq=785 size=1480 all=41947 active=3263 piece=▁else\n",
      "bpe_model_trainer.cc(268) LOG(INFO) Added: freq=775 size=1500 all=42183 active=3499 piece=band\n",
      "bpe_model_trainer.cc(159) LOG(INFO) Updating active symbols. max_freq=772 min_freq=276\n",
      "bpe_model_trainer.cc(268) LOG(INFO) Added: freq=759 size=1520 all=42409 active=2317 piece=▁Mos\n",
      "bpe_model_trainer.cc(268) LOG(INFO) Added: freq=744 size=1540 all=42675 active=2583 piece=tern\n",
      "bpe_model_trainer.cc(268) LOG(INFO) Added: freq=731 size=1560 all=42899 active=2807 piece=▁spir\n",
      "bpe_model_trainer.cc(268) LOG(INFO) Added: freq=718 size=1580 all=43169 active=3077 piece=rig\n",
      "bpe_model_trainer.cc(268) LOG(INFO) Added: freq=707 size=1600 all=43464 active=3372 piece=▁women\n",
      "bpe_model_trainer.cc(159) LOG(INFO) Updating active symbols. max_freq=707 min_freq=258\n",
      "bpe_model_trainer.cc(268) LOG(INFO) Added: freq=695 size=1620 all=43617 active=2326 piece=▁gaz\n",
      "bpe_model_trainer.cc(268) LOG(INFO) Added: freq=686 size=1640 all=43945 active=2654 piece=omp\n",
      "bpe_model_trainer.cc(268) LOG(INFO) Added: freq=675 size=1660 all=44161 active=2870 piece=erm\n",
      "bpe_model_trainer.cc(268) LOG(INFO) Added: freq=663 size=1680 all=44514 active=3223 piece=resh\n",
      "bpe_model_trainer.cc(268) LOG(INFO) Added: freq=653 size=1700 all=44736 active=3445 piece=▁squ\n",
      "bpe_model_trainer.cc(159) LOG(INFO) Updating active symbols. max_freq=653 min_freq=244\n",
      "bpe_model_trainer.cc(268) LOG(INFO) Added: freq=642 size=1720 all=45060 active=2538 piece=▁cat\n",
      "bpe_model_trainer.cc(268) LOG(INFO) Added: freq=633 size=1740 all=45295 active=2773 piece=▁phil\n",
      "bpe_model_trainer.cc(268) LOG(INFO) Added: freq=625 size=1760 all=45659 active=3137 piece=Why\n",
      "bpe_model_trainer.cc(268) LOG(INFO) Added: freq=614 size=1780 all=45812 active=3290 piece=lect\n",
      "bpe_model_trainer.cc(268) LOG(INFO) Added: freq=608 size=1800 all=46052 active=3530 piece=inted\n",
      "bpe_model_trainer.cc(159) LOG(INFO) Updating active symbols. max_freq=608 min_freq=229\n",
      "bpe_model_trainer.cc(268) LOG(INFO) Added: freq=600 size=1820 all=46221 active=2457 piece=▁Prin\n",
      "bpe_model_trainer.cc(268) LOG(INFO) Added: freq=593 size=1840 all=46574 active=2810 piece=▁Sh\n",
      "bpe_model_trainer.cc(268) LOG(INFO) Added: freq=585 size=1860 all=46735 active=2971 piece=▁doctor\n",
      "bpe_model_trainer.cc(268) LOG(INFO) Added: freq=576 size=1880 all=46841 active=3077 piece=▁hast\n",
      "bpe_model_trainer.cc(268) LOG(INFO) Added: freq=569 size=1900 all=47008 active=3244 piece=erous\n",
      "bpe_model_trainer.cc(159) LOG(INFO) Updating active symbols. max_freq=569 min_freq=217\n",
      "bpe_model_trainer.cc(268) LOG(INFO) Added: freq=561 size=1920 all=47235 active=2567 piece=▁pie\n",
      "bpe_model_trainer.cc(268) LOG(INFO) Added: freq=551 size=1940 all=47444 active=2776 piece=ission\n",
      "bpe_model_trainer.cc(268) LOG(INFO) Added: freq=546 size=1960 all=47633 active=2965 piece=though\n",
      "bpe_model_trainer.cc(268) LOG(INFO) Added: freq=540 size=1980 all=47819 active=3151 piece=ency\n",
      "bpe_model_trainer.cc(268) LOG(INFO) Added: freq=535 size=2000 all=48015 active=3347 piece=▁hat\n",
      "bpe_model_trainer.cc(159) LOG(INFO) Updating active symbols. max_freq=535 min_freq=205\n",
      "bpe_model_trainer.cc(268) LOG(INFO) Added: freq=527 size=2020 all=48155 active=2530 piece=asion\n",
      "bpe_model_trainer.cc(268) LOG(INFO) Added: freq=518 size=2040 all=48275 active=2650 piece=ality\n",
      "bpe_model_trainer.cc(268) LOG(INFO) Added: freq=511 size=2060 all=48436 active=2811 piece=ivid\n",
      "bpe_model_trainer.cc(268) LOG(INFO) Added: freq=506 size=2080 all=48713 active=3088 piece=▁inform\n",
      "bpe_model_trainer.cc(268) LOG(INFO) Added: freq=501 size=2100 all=48888 active=3263 piece=▁lie\n",
      "bpe_model_trainer.cc(159) LOG(INFO) Updating active symbols. max_freq=501 min_freq=193\n",
      "bpe_model_trainer.cc(268) LOG(INFO) Added: freq=494 size=2120 all=49087 active=2640 piece=▁band\n",
      "bpe_model_trainer.cc(268) LOG(INFO) Added: freq=488 size=2140 all=49260 active=2813 piece=▁Or\n",
      "bpe_model_trainer.cc(268) LOG(INFO) Added: freq=480 size=2160 all=49399 active=2952 piece=▁experi\n",
      "bpe_model_trainer.cc(268) LOG(INFO) Added: freq=474 size=2180 all=49605 active=3158 piece=▁paid\n",
      "bpe_model_trainer.cc(268) LOG(INFO) Added: freq=467 size=2200 all=49823 active=3376 piece=yond\n",
      "bpe_model_trainer.cc(159) LOG(INFO) Updating active symbols. max_freq=467 min_freq=184\n",
      "bpe_model_trainer.cc(268) LOG(INFO) Added: freq=461 size=2220 all=50006 active=2673 piece=▁spirit\n",
      "bpe_model_trainer.cc(268) LOG(INFO) Added: freq=456 size=2240 all=50097 active=2764 piece=▁repeated\n",
      "bpe_model_trainer.cc(268) LOG(INFO) Added: freq=451 size=2260 all=50202 active=2869 piece=▁breast\n",
      "bpe_model_trainer.cc(268) LOG(INFO) Added: freq=446 size=2280 all=50264 active=2931 piece=▁history\n",
      "bpe_model_trainer.cc(268) LOG(INFO) Added: freq=441 size=2300 all=50499 active=3166 piece=antly\n",
      "bpe_model_trainer.cc(159) LOG(INFO) Updating active symbols. max_freq=441 min_freq=177\n",
      "bpe_model_trainer.cc(268) LOG(INFO) Added: freq=435 size=2320 all=50705 active=2705 piece=▁Cad\n",
      "bpe_model_trainer.cc(268) LOG(INFO) Added: freq=430 size=2340 all=50897 active=2897 piece=▁Am\n",
      "bpe_model_trainer.cc(268) LOG(INFO) Added: freq=425 size=2360 all=51041 active=3041 piece=▁Le\n",
      "bpe_model_trainer.cc(268) LOG(INFO) Added: freq=420 size=2380 all=51278 active=3278 piece=▁although\n",
      "bpe_model_trainer.cc(268) LOG(INFO) Added: freq=414 size=2400 all=51439 active=3439 piece=▁sky\n",
      "bpe_model_trainer.cc(159) LOG(INFO) Updating active symbols. max_freq=414 min_freq=170\n",
      "bpe_model_trainer.cc(268) LOG(INFO) Added: freq=411 size=2420 all=51694 active=2824 piece=▁pretty\n",
      "bpe_model_trainer.cc(268) LOG(INFO) Added: freq=406 size=2440 all=51833 active=2963 piece=▁circumst\n",
      "bpe_model_trainer.cc(268) LOG(INFO) Added: freq=399 size=2460 all=51946 active=3076 piece=▁alarm\n",
      "bpe_model_trainer.cc(268) LOG(INFO) Added: freq=394 size=2480 all=52117 active=3247 piece=asure\n",
      "bpe_model_trainer.cc(268) LOG(INFO) Added: freq=390 size=2500 all=52424 active=3554 piece=cerf\n",
      "bpe_model_trainer.cc(159) LOG(INFO) Updating active symbols. max_freq=390 min_freq=162\n",
      "bpe_model_trainer.cc(268) LOG(INFO) Added: freq=386 size=2520 all=52580 active=2775 piece=▁shut\n",
      "bpe_model_trainer.cc(268) LOG(INFO) Added: freq=382 size=2540 all=52712 active=2907 piece=▁probably\n",
      "bpe_model_trainer.cc(268) LOG(INFO) Added: freq=376 size=2560 all=52824 active=3019 piece=ously\n",
      "bpe_model_trainer.cc(268) LOG(INFO) Added: freq=372 size=2580 all=52964 active=3159 piece=▁da\n",
      "bpe_model_trainer.cc(268) LOG(INFO) Added: freq=368 size=2600 all=53050 active=3245 piece=now\n",
      "bpe_model_trainer.cc(159) LOG(INFO) Updating active symbols. max_freq=368 min_freq=156\n",
      "bpe_model_trainer.cc(268) LOG(INFO) Added: freq=364 size=2620 all=53243 active=2834 piece=ys\n",
      "bpe_model_trainer.cc(268) LOG(INFO) Added: freq=360 size=2640 all=53544 active=3135 piece=▁listened\n",
      "bpe_model_trainer.cc(268) LOG(INFO) Added: freq=355 size=2660 all=53664 active=3255 piece=▁deg\n",
      "bpe_model_trainer.cc(268) LOG(INFO) Added: freq=352 size=2680 all=53850 active=3441 piece=▁collect\n",
      "bpe_model_trainer.cc(268) LOG(INFO) Added: freq=347 size=2700 all=54028 active=3619 piece=▁fee\n",
      "bpe_model_trainer.cc(159) LOG(INFO) Updating active symbols. max_freq=347 min_freq=149\n",
      "bpe_model_trainer.cc(268) LOG(INFO) Added: freq=343 size=2720 all=54128 active=2800 piece=▁possib\n",
      "bpe_model_trainer.cc(268) LOG(INFO) Added: freq=339 size=2740 all=54316 active=2988 piece=▁rage\n",
      "bpe_model_trainer.cc(268) LOG(INFO) Added: freq=336 size=2760 all=54378 active=3050 piece=▁unknown\n",
      "bpe_model_trainer.cc(268) LOG(INFO) Added: freq=333 size=2780 all=54617 active=3289 piece=▁ves\n",
      "bpe_model_trainer.cc(268) LOG(INFO) Added: freq=331 size=2800 all=54778 active=3450 piece=▁support\n",
      "bpe_model_trainer.cc(159) LOG(INFO) Updating active symbols. max_freq=331 min_freq=143\n",
      "bpe_model_trainer.cc(268) LOG(INFO) Added: freq=328 size=2820 all=54856 active=2814 piece=▁golden\n",
      "bpe_model_trainer.cc(268) LOG(INFO) Added: freq=324 size=2840 all=55019 active=2977 piece=▁music\n",
      "bpe_model_trainer.cc(268) LOG(INFO) Added: freq=320 size=2860 all=55289 active=3247 piece=enced\n",
      "bpe_model_trainer.cc(268) LOG(INFO) Added: freq=317 size=2880 all=55411 active=3369 piece=▁bless\n",
      "bpe_model_trainer.cc(268) LOG(INFO) Added: freq=315 size=2900 all=55569 active=3527 piece=fortun\n",
      "bpe_model_trainer.cc(159) LOG(INFO) Updating active symbols. max_freq=315 min_freq=138\n",
      "bpe_model_trainer.cc(268) LOG(INFO) Added: freq=313 size=2920 all=55669 active=2870 piece=▁Monsieur\n",
      "bpe_model_trainer.cc(268) LOG(INFO) Added: freq=310 size=2940 all=55814 active=3015 piece=rill\n",
      "bpe_model_trainer.cc(268) LOG(INFO) Added: freq=307 size=2960 all=55987 active=3188 piece=▁eld\n",
      "bpe_model_trainer.cc(268) LOG(INFO) Added: freq=304 size=2980 all=56050 active=3251 piece=▁gazed\n",
      "bpe_model_trainer.cc(268) LOG(INFO) Added: freq=302 size=3000 all=56209 active=3410 piece=▁dreadful\n",
      "bpe_model_trainer.cc(159) LOG(INFO) Updating active symbols. max_freq=302 min_freq=133\n",
      "bpe_model_trainer.cc(268) LOG(INFO) Added: freq=300 size=3020 all=56281 active=2883 piece=▁knowing\n",
      "bpe_model_trainer.cc(268) LOG(INFO) Added: freq=296 size=3040 all=56405 active=3007 piece=lin\n",
      "bpe_model_trainer.cc(268) LOG(INFO) Added: freq=294 size=3060 all=56560 active=3162 piece=▁6\n",
      "bpe_model_trainer.cc(268) LOG(INFO) Added: freq=292 size=3080 all=56679 active=3281 piece=▁Gregor\n",
      "bpe_model_trainer.cc(268) LOG(INFO) Added: freq=290 size=3100 all=56848 active=3450 piece=▁affair\n",
      "bpe_model_trainer.cc(159) LOG(INFO) Updating active symbols. max_freq=290 min_freq=128\n",
      "bpe_model_trainer.cc(268) LOG(INFO) Added: freq=288 size=3120 all=56900 active=2895 piece=▁worse\n",
      "bpe_model_trainer.cc(268) LOG(INFO) Added: freq=285 size=3140 all=57038 active=3033 piece=▁stop\n",
      "bpe_model_trainer.cc(268) LOG(INFO) Added: freq=282 size=3160 all=57110 active=3105 piece=▁rock\n",
      "bpe_model_trainer.cc(268) LOG(INFO) Added: freq=281 size=3180 all=57163 active=3158 piece=▁unable\n",
      "bpe_model_trainer.cc(268) LOG(INFO) Added: freq=278 size=3200 all=57307 active=3302 piece=▁Pé\n",
      "bpe_model_trainer.cc(159) LOG(INFO) Updating active symbols. max_freq=278 min_freq=124\n",
      "bpe_model_trainer.cc(268) LOG(INFO) Added: freq=276 size=3220 all=57508 active=3058 piece=▁IN\n",
      "bpe_model_trainer.cc(268) LOG(INFO) Added: freq=275 size=3240 all=57571 active=3121 piece=▁distinct\n",
      "bpe_model_trainer.cc(268) LOG(INFO) Added: freq=271 size=3260 all=57685 active=3235 piece=LE\n",
      "bpe_model_trainer.cc(268) LOG(INFO) Added: freq=269 size=3280 all=57897 active=3447 piece=gin\n",
      "bpe_model_trainer.cc(268) LOG(INFO) Added: freq=268 size=3300 all=58055 active=3605 piece=▁mentioned\n",
      "bpe_model_trainer.cc(159) LOG(INFO) Updating active symbols. max_freq=267 min_freq=120\n",
      "bpe_model_trainer.cc(268) LOG(INFO) Added: freq=265 size=3320 all=58110 active=2958 piece=terday\n",
      "bpe_model_trainer.cc(268) LOG(INFO) Added: freq=262 size=3340 all=58198 active=3046 piece=án\n",
      "bpe_model_trainer.cc(268) LOG(INFO) Added: freq=261 size=3360 all=58484 active=3332 piece=▁jump\n",
      "bpe_model_trainer.cc(268) LOG(INFO) Added: freq=259 size=3380 all=58540 active=3388 piece=pse\n",
      "bpe_model_trainer.cc(268) LOG(INFO) Added: freq=257 size=3400 all=58655 active=3503 piece=AL\n",
      "bpe_model_trainer.cc(159) LOG(INFO) Updating active symbols. max_freq=257 min_freq=116\n",
      "bpe_model_trainer.cc(268) LOG(INFO) Added: freq=256 size=3420 all=58909 active=3133 piece=orious\n",
      "bpe_model_trainer.cc(268) LOG(INFO) Added: freq=253 size=3440 all=59040 active=3264 piece=uee\n",
      "bpe_model_trainer.cc(268) LOG(INFO) Added: freq=252 size=3460 all=59125 active=3349 piece=▁behold\n",
      "bpe_model_trainer.cc(268) LOG(INFO) Added: freq=250 size=3480 all=59263 active=3487 piece=▁uni\n",
      "bpe_model_trainer.cc(268) LOG(INFO) Added: freq=248 size=3500 all=59447 active=3671 piece=!—\n",
      "bpe_model_trainer.cc(159) LOG(INFO) Updating active symbols. max_freq=248 min_freq=111\n",
      "bpe_model_trainer.cc(268) LOG(INFO) Added: freq=247 size=3520 all=59526 active=3048 piece=▁paused\n",
      "bpe_model_trainer.cc(268) LOG(INFO) Added: freq=245 size=3540 all=59680 active=3202 piece=▁supper\n",
      "bpe_model_trainer.cc(268) LOG(INFO) Added: freq=243 size=3560 all=59756 active=3278 piece=▁Cour\n",
      "bpe_model_trainer.cc(268) LOG(INFO) Added: freq=241 size=3580 all=59850 active=3372 piece=▁nine\n",
      "bpe_model_trainer.cc(268) LOG(INFO) Added: freq=239 size=3600 all=59908 active=3430 piece=ept\n",
      "bpe_model_trainer.cc(159) LOG(INFO) Updating active symbols. max_freq=239 min_freq=108\n",
      "bpe_model_trainer.cc(268) LOG(INFO) Added: freq=238 size=3620 all=60078 active=3153 piece=▁Man\n",
      "bpe_model_trainer.cc(268) LOG(INFO) Added: freq=236 size=3640 all=60201 active=3276 piece=my\n",
      "bpe_model_trainer.cc(268) LOG(INFO) Added: freq=235 size=3660 all=60346 active=3421 piece=▁saved\n",
      "bpe_model_trainer.cc(268) LOG(INFO) Added: freq=233 size=3680 all=60431 active=3506 piece=▁march\n",
      "bpe_model_trainer.cc(268) LOG(INFO) Added: freq=230 size=3700 all=60561 active=3636 piece=arse\n",
      "bpe_model_trainer.cc(159) LOG(INFO) Updating active symbols. max_freq=230 min_freq=105\n",
      "bpe_model_trainer.cc(268) LOG(INFO) Added: freq=229 size=3720 all=60624 active=3081 piece=▁shadows\n",
      "bpe_model_trainer.cc(268) LOG(INFO) Added: freq=227 size=3740 all=60730 active=3187 piece=▁song\n",
      "bpe_model_trainer.cc(268) LOG(INFO) Added: freq=225 size=3760 all=60897 active=3354 piece=▁Pig\n",
      "bpe_model_trainer.cc(268) LOG(INFO) Added: freq=224 size=3780 all=60954 active=3411 piece=▁pleasant\n",
      "bpe_model_trainer.cc(268) LOG(INFO) Added: freq=222 size=3800 all=61077 active=3534 piece=▁persu\n",
      "bpe_model_trainer.cc(159) LOG(INFO) Updating active symbols. max_freq=222 min_freq=102\n",
      "bpe_model_trainer.cc(268) LOG(INFO) Added: freq=220 size=3820 all=61180 active=3152 piece=▁states\n",
      "bpe_model_trainer.cc(268) LOG(INFO) Added: freq=218 size=3840 all=61287 active=3259 piece=▁mess\n",
      "bpe_model_trainer.cc(268) LOG(INFO) Added: freq=216 size=3860 all=61406 active=3378 piece=▁wore\n",
      "bpe_model_trainer.cc(268) LOG(INFO) Added: freq=214 size=3880 all=61592 active=3564 piece=▁Rep\n",
      "bpe_model_trainer.cc(268) LOG(INFO) Added: freq=213 size=3900 all=61777 active=3749 piece=▁Somet\n",
      "bpe_model_trainer.cc(159) LOG(INFO) Updating active symbols. max_freq=213 min_freq=99\n",
      "bpe_model_trainer.cc(268) LOG(INFO) Added: freq=212 size=3920 all=61843 active=3152 piece=▁victory\n",
      "bpe_model_trainer.cc(268) LOG(INFO) Added: freq=210 size=3940 all=61958 active=3267 piece=▁Socr\n",
      "bpe_model_trainer.cc(268) LOG(INFO) Added: freq=208 size=3960 all=62084 active=3393 piece=ids\n",
      "bpe_model_trainer.cc(268) LOG(INFO) Added: freq=206 size=3980 all=62188 active=3497 piece=oop\n",
      "bpe_model_trainer.cc(268) LOG(INFO) Added: freq=205 size=4000 all=62364 active=3673 piece=▁priest\n",
      "bpe_model_trainer.cc(159) LOG(INFO) Updating active symbols. max_freq=205 min_freq=95\n",
      "bpe_model_trainer.cc(268) LOG(INFO) Added: freq=203 size=4020 all=62424 active=3177 piece=▁tomb\n",
      "bpe_model_trainer.cc(268) LOG(INFO) Added: freq=202 size=4040 all=62500 active=3253 piece=▁impati\n",
      "bpe_model_trainer.cc(268) LOG(INFO) Added: freq=201 size=4060 all=62576 active=3329 piece=▁communic\n",
      "bpe_model_trainer.cc(268) LOG(INFO) Added: freq=200 size=4080 all=62605 active=3358 piece=----------------\n",
      "bpe_model_trainer.cc(268) LOG(INFO) Added: freq=198 size=4100 all=62702 active=3455 piece=isher\n",
      "bpe_model_trainer.cc(159) LOG(INFO) Updating active symbols. max_freq=198 min_freq=93\n",
      "bpe_model_trainer.cc(268) LOG(INFO) Added: freq=196 size=4120 all=62811 active=3227 piece=▁sty\n",
      "bpe_model_trainer.cc(268) LOG(INFO) Added: freq=195 size=4140 all=62853 active=3269 piece=▁anger\n",
      "bpe_model_trainer.cc(268) LOG(INFO) Added: freq=194 size=4160 all=62902 active=3318 piece=▁scream\n",
      "bpe_model_trainer.cc(268) LOG(INFO) Added: freq=192 size=4180 all=63014 active=3430 piece=ère\n",
      "bpe_model_trainer.cc(268) LOG(INFO) Added: freq=191 size=4200 all=63106 active=3522 piece=▁miles\n",
      "bpe_model_trainer.cc(159) LOG(INFO) Updating active symbols. max_freq=191 min_freq=91\n",
      "bpe_model_trainer.cc(268) LOG(INFO) Added: freq=190 size=4220 all=63144 active=3194 piece=▁splendid\n",
      "bpe_model_trainer.cc(268) LOG(INFO) Added: freq=188 size=4240 all=63219 active=3269 piece=▁hither\n",
      "bpe_model_trainer.cc(268) LOG(INFO) Added: freq=187 size=4260 all=63377 active=3427 piece=▁square\n",
      "bpe_model_trainer.cc(268) LOG(INFO) Added: freq=186 size=4280 all=63499 active=3549 piece=▁defect\n",
      "bpe_model_trainer.cc(268) LOG(INFO) Added: freq=185 size=4300 all=63534 active=3584 piece=▁Jonathan\n",
      "bpe_model_trainer.cc(159) LOG(INFO) Updating active symbols. max_freq=185 min_freq=89\n",
      "bpe_model_trainer.cc(268) LOG(INFO) Added: freq=183 size=4320 all=63598 active=3241 piece=▁dwell\n",
      "bpe_model_trainer.cc(268) LOG(INFO) Added: freq=182 size=4340 all=63719 active=3362 piece=▁wisdom\n",
      "bpe_model_trainer.cc(268) LOG(INFO) Added: freq=181 size=4360 all=63835 active=3478 piece=▁worn\n",
      "bpe_model_trainer.cc(268) LOG(INFO) Added: freq=180 size=4380 all=63932 active=3575 piece=▁deeply\n",
      "bpe_model_trainer.cc(268) LOG(INFO) Added: freq=179 size=4400 all=64100 active=3743 piece=▁skies\n",
      "bpe_model_trainer.cc(159) LOG(INFO) Updating active symbols. max_freq=179 min_freq=86\n",
      "bpe_model_trainer.cc(268) LOG(INFO) Added: freq=178 size=4420 all=64155 active=3260 piece=▁exch\n",
      "bpe_model_trainer.cc(268) LOG(INFO) Added: freq=177 size=4440 all=64274 active=3379 piece=▁glit\n",
      "bpe_model_trainer.cc(268) LOG(INFO) Added: freq=176 size=4460 all=64342 active=3447 piece=▁wand\n",
      "bpe_model_trainer.cc(268) LOG(INFO) Added: freq=174 size=4480 all=64417 active=3522 piece=ait\n",
      "bpe_model_trainer.cc(268) LOG(INFO) Added: freq=174 size=4500 all=64502 active=3607 piece=▁prepare\n",
      "bpe_model_trainer.cc(159) LOG(INFO) Updating active symbols. max_freq=174 min_freq=83\n",
      "bpe_model_trainer.cc(268) LOG(INFO) Added: freq=173 size=4520 all=64527 active=3251 piece=▁Bolkónski\n",
      "bpe_model_trainer.cc(268) LOG(INFO) Added: freq=171 size=4540 all=64583 active=3307 piece=Very\n",
      "bpe_model_trainer.cc(268) LOG(INFO) Added: freq=170 size=4560 all=64654 active=3378 piece=▁mal\n",
      "bpe_model_trainer.cc(268) LOG(INFO) Added: freq=169 size=4580 all=64694 active=3418 piece=5.\n",
      "bpe_model_trainer.cc(268) LOG(INFO) Added: freq=168 size=4600 all=64868 active=3592 piece=igs\n",
      "bpe_model_trainer.cc(159) LOG(INFO) Updating active symbols. max_freq=168 min_freq=81\n",
      "bpe_model_trainer.cc(268) LOG(INFO) Added: freq=168 size=4620 all=64980 active=3344 piece=▁Cossack\n",
      "bpe_model_trainer.cc(268) LOG(INFO) Added: freq=166 size=4640 all=65014 active=3378 piece=hand\n",
      "bpe_model_trainer.cc(268) LOG(INFO) Added: freq=165 size=4660 all=65054 active=3418 piece=.\"]\n",
      "bpe_model_trainer.cc(268) LOG(INFO) Added: freq=164 size=4680 all=65172 active=3536 piece=ips\n",
      "bpe_model_trainer.cc(268) LOG(INFO) Added: freq=163 size=4700 all=65263 active=3627 piece=Wh\n",
      "bpe_model_trainer.cc(159) LOG(INFO) Updating active symbols. max_freq=163 min_freq=79\n",
      "bpe_model_trainer.cc(268) LOG(INFO) Added: freq=163 size=4720 all=65325 active=3313 piece=▁acquainted\n",
      "bpe_model_trainer.cc(268) LOG(INFO) Added: freq=162 size=4740 all=65373 active=3361 piece=▁represent\n",
      "bpe_model_trainer.cc(268) LOG(INFO) Added: freq=160 size=4760 all=65452 active=3440 piece=▁rust\n",
      "bpe_model_trainer.cc(268) LOG(INFO) Added: freq=159 size=4780 all=65539 active=3527 piece=was\n",
      "bpe_model_trainer.cc(268) LOG(INFO) Added: freq=159 size=4800 all=65612 active=3600 piece=▁ignorant\n",
      "bpe_model_trainer.cc(159) LOG(INFO) Updating active symbols. max_freq=159 min_freq=77\n",
      "bpe_model_trainer.cc(268) LOG(INFO) Added: freq=158 size=4820 all=65765 active=3434 piece=▁strike\n",
      "bpe_model_trainer.cc(268) LOG(INFO) Added: freq=157 size=4840 all=65877 active=3546 piece=itive\n",
      "bpe_model_trainer.cc(268) LOG(INFO) Added: freq=156 size=4860 all=65954 active=3623 piece=atión\n",
      "bpe_model_trainer.cc(268) LOG(INFO) Added: freq=155 size=4880 all=65992 active=3661 piece=place\n",
      "bpe_model_trainer.cc(268) LOG(INFO) Added: freq=155 size=4900 all=66025 active=3694 piece=▁permitted\n",
      "bpe_model_trainer.cc(159) LOG(INFO) Updating active symbols. max_freq=155 min_freq=75\n",
      "bpe_model_trainer.cc(268) LOG(INFO) Added: freq=154 size=4920 all=66152 active=3429 piece=▁sewer\n",
      "bpe_model_trainer.cc(268) LOG(INFO) Added: freq=153 size=4940 all=66185 active=3462 piece=▁arts\n",
      "bpe_model_trainer.cc(268) LOG(INFO) Added: freq=152 size=4960 all=66236 active=3513 piece=quis\n",
      "bpe_model_trainer.cc(268) LOG(INFO) Added: freq=151 size=4980 all=66326 active=3603 piece=▁Yu\n",
      "bpe_model_trainer.cc(268) LOG(INFO) Added: freq=150 size=5000 all=66398 active=3675 piece=▁ta\n",
      "bpe_model_trainer.cc(159) LOG(INFO) Updating active symbols. max_freq=150 min_freq=73\n",
      "bpe_model_trainer.cc(268) LOG(INFO) Added: freq=150 size=5020 all=66447 active=3363 piece=▁mistress\n",
      "bpe_model_trainer.cc(268) LOG(INFO) Added: freq=149 size=5040 all=66524 active=3440 piece=▁procure\n",
      "bpe_model_trainer.cc(268) LOG(INFO) Added: freq=148 size=5060 all=66687 active=3603 piece=▁cours\n",
      "bpe_model_trainer.cc(268) LOG(INFO) Added: freq=147 size=5080 all=66789 active=3705 piece=pended\n",
      "bpe_model_trainer.cc(268) LOG(INFO) Added: freq=146 size=5100 all=66825 active=3741 piece=estic\n",
      "bpe_model_trainer.cc(159) LOG(INFO) Updating active symbols. max_freq=146 min_freq=72\n",
      "bpe_model_trainer.cc(268) LOG(INFO) Added: freq=145 size=5120 all=66911 active=3421 piece=▁NO\n",
      "bpe_model_trainer.cc(268) LOG(INFO) Added: freq=145 size=5140 all=67054 active=3564 piece=▁sentence\n",
      "bpe_model_trainer.cc(268) LOG(INFO) Added: freq=144 size=5160 all=67177 active=3687 piece=▁driving\n",
      "bpe_model_trainer.cc(268) LOG(INFO) Added: freq=143 size=5180 all=67249 active=3759 piece=ivered\n",
      "bpe_model_trainer.cc(268) LOG(INFO) Added: freq=142 size=5200 all=67282 active=3792 piece=▁hal\n",
      "bpe_model_trainer.cc(159) LOG(INFO) Updating active symbols. max_freq=142 min_freq=70\n",
      "bpe_model_trainer.cc(268) LOG(INFO) Added: freq=141 size=5220 all=67359 active=3435 piece=aunt\n",
      "bpe_model_trainer.cc(268) LOG(INFO) Added: freq=140 size=5240 all=67455 active=3531 piece=len\n",
      "bpe_model_trainer.cc(268) LOG(INFO) Added: freq=140 size=5260 all=67583 active=3659 piece=▁embarrass\n",
      "bpe_model_trainer.cc(268) LOG(INFO) Added: freq=139 size=5280 all=67703 active=3779 piece=▁instruct\n",
      "bpe_model_trainer.cc(268) LOG(INFO) Added: freq=138 size=5300 all=67797 active=3873 piece=▁stared\n",
      "bpe_model_trainer.cc(159) LOG(INFO) Updating active symbols. max_freq=138 min_freq=68\n",
      "bpe_model_trainer.cc(268) LOG(INFO) Added: freq=137 size=5320 all=67831 active=3424 piece=▁fleet\n",
      "bpe_model_trainer.cc(268) LOG(INFO) Added: freq=136 size=5340 all=67902 active=3495 piece=▁jew\n",
      "bpe_model_trainer.cc(268) LOG(INFO) Added: freq=135 size=5360 all=67970 active=3563 piece=▁lin\n",
      "bpe_model_trainer.cc(268) LOG(INFO) Added: freq=134 size=5380 all=68025 active=3618 piece=kháy\n",
      "bpe_model_trainer.cc(268) LOG(INFO) Added: freq=133 size=5400 all=68071 active=3664 piece=well\n",
      "bpe_model_trainer.cc(159) LOG(INFO) Updating active symbols. max_freq=133 min_freq=67\n",
      "bpe_model_trainer.cc(268) LOG(INFO) Added: freq=133 size=5420 all=68134 active=3458 piece=▁attitude\n",
      "bpe_model_trainer.cc(268) LOG(INFO) Added: freq=132 size=5440 all=68252 active=3576 piece=▁nin\n",
      "bpe_model_trainer.cc(268) LOG(INFO) Added: freq=131 size=5460 all=68312 active=3636 piece=rat\n",
      "bpe_model_trainer.cc(268) LOG(INFO) Added: freq=131 size=5480 all=68419 active=3743 piece=▁Eugénie\n",
      "bpe_model_trainer.cc(268) LOG(INFO) Added: freq=130 size=5500 all=68483 active=3807 piece=▁cord\n",
      "bpe_model_trainer.cc(159) LOG(INFO) Updating active symbols. max_freq=130 min_freq=65\n",
      "bpe_model_trainer.cc(268) LOG(INFO) Added: freq=130 size=5520 all=68499 active=3434 piece=▁perceive\n",
      "bpe_model_trainer.cc(268) LOG(INFO) Added: freq=129 size=5540 all=68554 active=3489 piece=▁angel\n",
      "bpe_model_trainer.cc(268) LOG(INFO) Added: freq=128 size=5560 all=68574 active=3509 piece=Re\n",
      "bpe_model_trainer.cc(268) LOG(INFO) Added: freq=128 size=5580 all=68722 active=3657 piece=▁solic\n",
      "bpe_model_trainer.cc(268) LOG(INFO) Added: freq=127 size=5600 all=68783 active=3718 piece=omin\n",
      "bpe_model_trainer.cc(159) LOG(INFO) Updating active symbols. max_freq=127 min_freq=64\n",
      "bpe_model_trainer.cc(268) LOG(INFO) Added: freq=127 size=5620 all=68882 active=3508 piece=▁slave\n",
      "bpe_model_trainer.cc(268) LOG(INFO) Added: freq=126 size=5640 all=68929 active=3555 piece=íts\n",
      "bpe_model_trainer.cc(268) LOG(INFO) Added: freq=126 size=5660 all=68984 active=3610 piece=▁nonsense\n",
      "bpe_model_trainer.cc(268) LOG(INFO) Added: freq=125 size=5680 all=69052 active=3678 piece=rences\n",
      "bpe_model_trainer.cc(268) LOG(INFO) Added: freq=124 size=5700 all=69136 active=3762 piece=zes\n",
      "bpe_model_trainer.cc(159) LOG(INFO) Updating active symbols. max_freq=124 min_freq=62\n",
      "bpe_model_trainer.cc(268) LOG(INFO) Added: freq=124 size=5720 all=69177 active=3485 piece=▁taught\n",
      "bpe_model_trainer.cc(268) LOG(INFO) Added: freq=123 size=5740 all=69240 active=3548 piece=ulse\n",
      "bpe_model_trainer.cc(268) LOG(INFO) Added: freq=123 size=5760 all=69265 active=3573 piece=▁portion\n",
      "bpe_model_trainer.cc(268) LOG(INFO) Added: freq=122 size=5780 all=69429 active=3737 piece=levard\n",
      "bpe_model_trainer.cc(268) LOG(INFO) Added: freq=122 size=5800 all=69436 active=3744 piece=▁bourgeois\n",
      "bpe_model_trainer.cc(159) LOG(INFO) Updating active symbols. max_freq=122 min_freq=61\n",
      "bpe_model_trainer.cc(268) LOG(INFO) Added: freq=121 size=5820 all=69494 active=3529 piece=▁corrupt\n",
      "bpe_model_trainer.cc(268) LOG(INFO) Added: freq=120 size=5840 all=69550 active=3585 piece=▁maids\n",
      "bpe_model_trainer.cc(268) LOG(INFO) Added: freq=119 size=5860 all=69590 active=3625 piece=Take\n",
      "bpe_model_trainer.cc(268) LOG(INFO) Added: freq=119 size=5880 all=69678 active=3713 piece=▁mission\n",
      "bpe_model_trainer.cc(268) LOG(INFO) Added: freq=118 size=5900 all=69813 active=3848 piece=▁trif\n",
      "bpe_model_trainer.cc(159) LOG(INFO) Updating active symbols. max_freq=118 min_freq=60\n",
      "bpe_model_trainer.cc(268) LOG(INFO) Added: freq=118 size=5920 all=69824 active=3498 piece=▁infantry\n",
      "bpe_model_trainer.cc(268) LOG(INFO) Added: freq=117 size=5940 all=69911 active=3585 piece=▁jave\n",
      "bpe_model_trainer.cc(268) LOG(INFO) Added: freq=116 size=5960 all=69994 active=3668 piece=énsk\n",
      "bpe_model_trainer.cc(268) LOG(INFO) Added: freq=116 size=5980 all=70026 active=3700 piece=▁license\n",
      "bpe_model_trainer.cc(268) LOG(INFO) Added: freq=115 size=6000 all=70082 active=3756 piece=▁epoch\n",
      "bpe_model_trainer.cc(159) LOG(INFO) Updating active symbols. max_freq=115 min_freq=58\n",
      "bpe_model_trainer.cc(268) LOG(INFO) Added: freq=114 size=6020 all=70197 active=3619 piece=when\n",
      "bpe_model_trainer.cc(268) LOG(INFO) Added: freq=114 size=6040 all=70219 active=3641 piece=▁quarrel\n",
      "bpe_model_trainer.cc(268) LOG(INFO) Added: freq=113 size=6060 all=70339 active=3761 piece=▁apply\n",
      "bpe_model_trainer.cc(268) LOG(INFO) Added: freq=112 size=6080 all=70342 active=3764 piece=▁ST\n",
      "bpe_model_trainer.cc(268) LOG(INFO) Added: freq=112 size=6100 all=70457 active=3879 piece=▁divided\n",
      "bpe_model_trainer.cc(159) LOG(INFO) Updating active symbols. max_freq=112 min_freq=57\n",
      "bpe_model_trainer.cc(268) LOG(INFO) Added: freq=111 size=6120 all=70623 active=3689 piece=kward\n",
      "bpe_model_trainer.cc(268) LOG(INFO) Added: freq=111 size=6140 all=70702 active=3768 piece=▁Penelope\n",
      "bpe_model_trainer.cc(268) LOG(INFO) Added: freq=110 size=6160 all=70810 active=3876 piece=▁mead\n",
      "bpe_model_trainer.cc(268) LOG(INFO) Added: freq=110 size=6180 all=70837 active=3903 piece=▁Neptune\n",
      "bpe_model_trainer.cc(268) LOG(INFO) Added: freq=109 size=6200 all=70911 active=3977 piece=▁Dick\n",
      "bpe_model_trainer.cc(159) LOG(INFO) Updating active symbols. max_freq=109 min_freq=56\n",
      "bpe_model_trainer.cc(268) LOG(INFO) Added: freq=109 size=6220 all=70928 active=3563 piece=▁lights\n",
      "bpe_model_trainer.cc(268) LOG(INFO) Added: freq=108 size=6240 all=70980 active=3615 piece=▁page\n",
      "bpe_model_trainer.cc(268) LOG(INFO) Added: freq=107 size=6260 all=71018 active=3653 piece=tr\n",
      "bpe_model_trainer.cc(268) LOG(INFO) Added: freq=107 size=6280 all=71188 active=3823 piece=▁title\n",
      "bpe_model_trainer.cc(268) LOG(INFO) Added: freq=106 size=6300 all=71241 active=3876 piece=▁Cle\n",
      "bpe_model_trainer.cc(159) LOG(INFO) Updating active symbols. max_freq=106 min_freq=55\n",
      "bpe_model_trainer.cc(268) LOG(INFO) Added: freq=106 size=6320 all=71307 active=3613 piece=▁labor\n",
      "bpe_model_trainer.cc(268) LOG(INFO) Added: freq=106 size=6340 all=71310 active=3616 piece=▁involuntarily\n",
      "bpe_model_trainer.cc(268) LOG(INFO) Added: freq=105 size=6360 all=71354 active=3660 piece=▁mayor\n",
      "bpe_model_trainer.cc(268) LOG(INFO) Added: freq=104 size=6380 all=71448 active=3754 piece=▁fac\n",
      "bpe_model_trainer.cc(268) LOG(INFO) Added: freq=104 size=6400 all=71518 active=3824 piece=▁deliber\n",
      "bpe_model_trainer.cc(159) LOG(INFO) Updating active symbols. max_freq=104 min_freq=54\n",
      "bpe_model_trainer.cc(268) LOG(INFO) Added: freq=103 size=6420 all=71574 active=3627 piece=▁unb\n",
      "bpe_model_trainer.cc(268) LOG(INFO) Added: freq=103 size=6440 all=71639 active=3692 piece=▁nearest\n",
      "bpe_model_trainer.cc(268) LOG(INFO) Added: freq=102 size=6460 all=71731 active=3784 piece=▁row\n",
      "bpe_model_trainer.cc(268) LOG(INFO) Added: freq=102 size=6480 all=71788 active=3841 piece=▁visited\n",
      "bpe_model_trainer.cc(268) LOG(INFO) Added: freq=101 size=6500 all=71875 active=3928 piece=▁sche\n",
      "bpe_model_trainer.cc(159) LOG(INFO) Updating active symbols. max_freq=101 min_freq=53\n",
      "bpe_model_trainer.cc(268) LOG(INFO) Added: freq=101 size=6520 all=71917 active=3631 piece=▁prospect\n",
      "bpe_model_trainer.cc(268) LOG(INFO) Added: freq=100 size=6540 all=72032 active=3746 piece=Indeed\n",
      "bpe_model_trainer.cc(268) LOG(INFO) Added: freq=100 size=6560 all=72037 active=3751 piece=▁descending\n",
      "bpe_model_trainer.cc(268) LOG(INFO) Added: freq=99 size=6580 all=72238 active=3952 piece=stead\n",
      "bpe_model_trainer.cc(268) LOG(INFO) Added: freq=99 size=6600 all=72331 active=4045 piece=▁notary\n",
      "bpe_model_trainer.cc(159) LOG(INFO) Updating active symbols. max_freq=99 min_freq=51\n",
      "bpe_model_trainer.cc(268) LOG(INFO) Added: freq=98 size=6620 all=72318 active=3604 piece=sing\n",
      "bpe_model_trainer.cc(268) LOG(INFO) Added: freq=98 size=6640 all=72401 active=3687 piece=▁masses\n",
      "bpe_model_trainer.cc(268) LOG(INFO) Added: freq=98 size=6660 all=72388 active=3674 piece=▁occasionally\n",
      "bpe_model_trainer.cc(268) LOG(INFO) Added: freq=97 size=6680 all=72486 active=3772 piece=▁habits\n",
      "bpe_model_trainer.cc(268) LOG(INFO) Added: freq=97 size=6700 all=72479 active=3765 piece=▁footsteps\n",
      "bpe_model_trainer.cc(159) LOG(INFO) Updating active symbols. max_freq=97 min_freq=51\n",
      "bpe_model_trainer.cc(268) LOG(INFO) Added: freq=96 size=6720 all=72596 active=3741 piece=▁brass\n",
      "bpe_model_trainer.cc(268) LOG(INFO) Added: freq=96 size=6740 all=72603 active=3748 piece=▁misfortunes\n",
      "bpe_model_trainer.cc(268) LOG(INFO) Added: freq=95 size=6760 all=72754 active=3899 piece=igneur\n",
      "bpe_model_trainer.cc(268) LOG(INFO) Added: freq=94 size=6780 all=72791 active=3936 piece=unn\n",
      "bpe_model_trainer.cc(268) LOG(INFO) Added: freq=94 size=6800 all=72879 active=4024 piece=▁equip\n",
      "bpe_model_trainer.cc(159) LOG(INFO) Updating active symbols. max_freq=94 min_freq=50\n",
      "bpe_model_trainer.cc(268) LOG(INFO) Added: freq=94 size=6820 all=72871 active=3633 piece=▁discovery\n",
      "bpe_model_trainer.cc(268) LOG(INFO) Added: freq=93 size=6840 all=72953 active=3715 piece=▁obli\n",
      "bpe_model_trainer.cc(268) LOG(INFO) Added: freq=93 size=6860 all=73023 active=3785 piece=▁cellar\n",
      "bpe_model_trainer.cc(268) LOG(INFO) Added: freq=92 size=6880 all=73042 active=3804 piece=▁AG\n",
      "bpe_model_trainer.cc(268) LOG(INFO) Added: freq=92 size=6900 all=73122 active=3884 piece=▁bestow\n",
      "bpe_model_trainer.cc(159) LOG(INFO) Updating active symbols. max_freq=92 min_freq=49\n",
      "bpe_model_trainer.cc(268) LOG(INFO) Added: freq=91 size=6920 all=73136 active=3670 piece=yes\n",
      "bpe_model_trainer.cc(268) LOG(INFO) Added: freq=91 size=6940 all=73198 active=3732 piece=▁flour\n",
      "bpe_model_trainer.cc(268) LOG(INFO) Added: freq=91 size=6960 all=73196 active=3730 piece=▁assembled\n",
      "bpe_model_trainer.cc(268) LOG(INFO) Added: freq=90 size=6980 all=73321 active=3855 piece=▁hers\n",
      "bpe_model_trainer.cc(268) LOG(INFO) Added: freq=90 size=7000 all=73354 active=3888 piece=▁parties\n",
      "bpe_model_trainer.cc(159) LOG(INFO) Updating active symbols. max_freq=90 min_freq=48\n",
      "bpe_model_trainer.cc(268) LOG(INFO) Added: freq=89 size=7020 all=73367 active=3681 piece=▁bol\n",
      "bpe_model_trainer.cc(268) LOG(INFO) Added: freq=89 size=7040 all=73406 active=3720 piece=▁darted\n",
      "bpe_model_trainer.cc(268) LOG(INFO) Added: freq=89 size=7060 all=73396 active=3710 piece=▁tranquil\n",
      "bpe_model_trainer.cc(268) LOG(INFO) Added: freq=88 size=7080 all=73486 active=3800 piece=reci\n",
      "bpe_model_trainer.cc(268) LOG(INFO) Added: freq=88 size=7100 all=73566 active=3880 piece=▁Right\n",
      "bpe_model_trainer.cc(159) LOG(INFO) Updating active symbols. max_freq=88 min_freq=47\n",
      "bpe_model_trainer.cc(268) LOG(INFO) Added: freq=88 size=7120 all=73573 active=3683 piece=▁unusual\n",
      "bpe_model_trainer.cc(268) LOG(INFO) Added: freq=87 size=7140 all=73628 active=3738 piece=lain\n",
      "bpe_model_trainer.cc(268) LOG(INFO) Added: freq=87 size=7160 all=73692 active=3802 piece=▁stuck\n",
      "bpe_model_trainer.cc(268) LOG(INFO) Added: freq=87 size=7180 all=73690 active=3800 piece=▁moonlight\n",
      "bpe_model_trainer.cc(268) LOG(INFO) Added: freq=86 size=7200 all=73783 active=3893 piece=▁aloft\n",
      "bpe_model_trainer.cc(159) LOG(INFO) Updating active symbols. max_freq=86 min_freq=46\n",
      "bpe_model_trainer.cc(268) LOG(INFO) Added: freq=86 size=7220 all=73783 active=3690 piece=▁floating\n",
      "bpe_model_trainer.cc(268) LOG(INFO) Added: freq=85 size=7240 all=73908 active=3815 piece=tell\n",
      "bpe_model_trainer.cc(268) LOG(INFO) Added: freq=85 size=7260 all=74004 active=3911 piece=▁Jonah\n",
      "bpe_model_trainer.cc(268) LOG(INFO) Added: freq=85 size=7280 all=74000 active=3907 piece=▁tranquill\n",
      "bpe_model_trainer.cc(268) LOG(INFO) Added: freq=84 size=7300 all=74115 active=4022 piece=▁pear\n",
      "bpe_model_trainer.cc(159) LOG(INFO) Updating active symbols. max_freq=84 min_freq=45\n",
      "bpe_model_trainer.cc(268) LOG(INFO) Added: freq=84 size=7320 all=74142 active=3731 piece=▁traces\n",
      "bpe_model_trainer.cc(268) LOG(INFO) Added: freq=83 size=7340 all=74168 active=3757 piece=ste\n",
      "bpe_model_trainer.cc(268) LOG(INFO) Added: freq=83 size=7360 all=74301 active=3890 piece=ranean\n",
      "bpe_model_trainer.cc(268) LOG(INFO) Added: freq=83 size=7380 all=74308 active=3897 piece=▁grasped\n",
      "bpe_model_trainer.cc(268) LOG(INFO) Added: freq=82 size=7400 all=74308 active=3897 piece=HT\n",
      "bpe_model_trainer.cc(159) LOG(INFO) Updating active symbols. max_freq=82 min_freq=44\n",
      "bpe_model_trainer.cc(268) LOG(INFO) Added: freq=82 size=7420 all=74425 active=3826 piece=▁Alas\n",
      "bpe_model_trainer.cc(268) LOG(INFO) Added: freq=82 size=7440 all=74504 active=3905 piece=▁interm\n",
      "bpe_model_trainer.cc(268) LOG(INFO) Added: freq=82 size=7460 all=74513 active=3914 piece=▁incident\n",
      "bpe_model_trainer.cc(268) LOG(INFO) Added: freq=81 size=7480 all=74643 active=4044 piece=▁Gen\n",
      "bpe_model_trainer.cc(268) LOG(INFO) Added: freq=81 size=7500 all=74730 active=4131 piece=▁appet\n",
      "bpe_model_trainer.cc(159) LOG(INFO) Updating active symbols. max_freq=81 min_freq=44\n",
      "bpe_model_trainer.cc(268) LOG(INFO) Added: freq=81 size=7520 all=74719 active=3722 piece=▁intently\n",
      "bpe_model_trainer.cc(268) LOG(INFO) Added: freq=80 size=7540 all=74847 active=3850 piece=oard\n",
      "bpe_model_trainer.cc(268) LOG(INFO) Added: freq=80 size=7560 all=74879 active=3882 piece=▁ninet\n",
      "bpe_model_trainer.cc(268) LOG(INFO) Added: freq=80 size=7580 all=74889 active=3892 piece=▁pulling\n",
      "bpe_model_trainer.cc(268) LOG(INFO) Added: freq=79 size=7600 all=74936 active=3939 piece=upt\n",
      "bpe_model_trainer.cc(159) LOG(INFO) Updating active symbols. max_freq=79 min_freq=43\n",
      "bpe_model_trainer.cc(268) LOG(INFO) Added: freq=79 size=7620 all=75036 active=3836 piece=inking\n",
      "bpe_model_trainer.cc(268) LOG(INFO) Added: freq=79 size=7640 all=75062 active=3862 piece=▁benevol\n",
      "bpe_model_trainer.cc(268) LOG(INFO) Added: freq=78 size=7660 all=75118 active=3918 piece=▁Dol\n",
      "bpe_model_trainer.cc(268) LOG(INFO) Added: freq=78 size=7680 all=75167 active=3967 piece=▁hated\n",
      "bpe_model_trainer.cc(268) LOG(INFO) Added: freq=78 size=7700 all=75169 active=3969 piece=▁Bennigsen\n",
      "bpe_model_trainer.cc(159) LOG(INFO) Updating active symbols. max_freq=78 min_freq=42\n",
      "bpe_model_trainer.cc(268) LOG(INFO) Added: freq=77 size=7720 all=75215 active=3804 piece=amin\n",
      "bpe_model_trainer.cc(268) LOG(INFO) Added: freq=77 size=7740 all=75299 active=3888 piece=▁goods\n",
      "bpe_model_trainer.cc(268) LOG(INFO) Added: freq=77 size=7760 all=75305 active=3894 piece=▁creating\n",
      "bpe_model_trainer.cc(268) LOG(INFO) Added: freq=76 size=7780 all=75346 active=3935 piece=Cap\n",
      "bpe_model_trainer.cc(268) LOG(INFO) Added: freq=76 size=7800 all=75428 active=4017 piece=▁surm\n",
      "bpe_model_trainer.cc(159) LOG(INFO) Updating active symbols. max_freq=76 min_freq=42\n",
      "bpe_model_trainer.cc(268) LOG(INFO) Added: freq=76 size=7820 all=75472 active=3809 piece=▁labours\n",
      "bpe_model_trainer.cc(268) LOG(INFO) Added: freq=75 size=7840 all=75500 active=3837 piece=mas\n",
      "bpe_model_trainer.cc(268) LOG(INFO) Added: freq=75 size=7860 all=75592 active=3929 piece=▁stag\n",
      "bpe_model_trainer.cc(268) LOG(INFO) Added: freq=75 size=7880 all=75583 active=3920 piece=▁thanked\n",
      "bpe_model_trainer.cc(268) LOG(INFO) Added: freq=74 size=7900 all=75632 active=3969 piece=hind\n",
      "bpe_model_trainer.cc(159) LOG(INFO) Updating active symbols. max_freq=74 min_freq=41\n",
      "bpe_model_trainer.cc(268) LOG(INFO) Added: freq=74 size=7920 all=75655 active=3801 piece=▁pitch\n",
      "bpe_model_trainer.cc(268) LOG(INFO) Added: freq=74 size=7940 all=75669 active=3815 piece=▁helpless\n",
      "bpe_model_trainer.cc(268) LOG(INFO) Added: freq=73 size=7960 all=75729 active=3875 piece=▁Kur\n",
      "bpe_model_trainer.cc(268) LOG(INFO) Added: freq=73 size=7980 all=75782 active=3928 piece=▁boldly\n",
      "bpe_model_trainer.cc(268) LOG(INFO) Added: freq=73 size=8000 all=75793 active=3939 piece=▁discipl\n",
      "bpe_model_trainer.cc(159) LOG(INFO) Updating active symbols. max_freq=73 min_freq=40\n",
      "bpe_model_trainer.cc(268) LOG(INFO) Added: freq=73 size=8020 all=75782 active=3776 piece=▁Montfermeil\n",
      "bpe_model_trainer.cc(268) LOG(INFO) Added: freq=72 size=8040 all=75867 active=3861 piece=▁hint\n",
      "bpe_model_trainer.cc(268) LOG(INFO) Added: freq=72 size=8060 all=75886 active=3880 piece=▁upset\n",
      "bpe_model_trainer.cc(268) LOG(INFO) Added: freq=72 size=8080 all=75878 active=3872 piece=▁foremost\n",
      "bpe_model_trainer.cc(268) LOG(INFO) Added: freq=71 size=8100 all=75882 active=3876 piece=oes\n",
      "bpe_model_trainer.cc(159) LOG(INFO) Updating active symbols. max_freq=71 min_freq=40\n",
      "bpe_model_trainer.cc(268) LOG(INFO) Added: freq=71 size=8120 all=76035 active=3928 piece=▁XIII\n",
      "bpe_model_trainer.cc(268) LOG(INFO) Added: freq=71 size=8140 all=76064 active=3957 piece=▁butter\n",
      "bpe_model_trainer.cc(268) LOG(INFO) Added: freq=71 size=8160 all=76075 active=3968 piece=▁selfish\n",
      "bpe_model_trainer.cc(268) LOG(INFO) Added: freq=70 size=8180 all=76096 active=3989 piece=▁Bo\n",
      "bpe_model_trainer.cc(268) LOG(INFO) Added: freq=70 size=8200 all=76204 active=4097 piece=▁Henry\n",
      "bpe_model_trainer.cc(159) LOG(INFO) Updating active symbols. max_freq=70 min_freq=39\n",
      "bpe_model_trainer.cc(268) LOG(INFO) Added: freq=70 size=8220 all=76224 active=3831 piece=▁enlight\n",
      "bpe_model_trainer.cc(268) LOG(INFO) Added: freq=70 size=8240 all=76225 active=3832 piece=▁contradict\n",
      "bpe_model_trainer.cc(268) LOG(INFO) Added: freq=69 size=8260 all=76322 active=3929 piece=▁rud\n",
      "bpe_model_trainer.cc(268) LOG(INFO) Added: freq=69 size=8280 all=76377 active=3984 piece=▁swung\n",
      "bpe_model_trainer.cc(268) LOG(INFO) Added: freq=69 size=8300 all=76381 active=3988 piece=▁effects\n",
      "bpe_model_trainer.cc(159) LOG(INFO) Updating active symbols. max_freq=69 min_freq=38\n",
      "bpe_model_trainer.cc(268) LOG(INFO) Added: freq=69 size=8320 all=76375 active=3814 piece=▁treasures\n",
      "bpe_model_trainer.cc(268) LOG(INFO) Added: freq=68 size=8340 all=76506 active=3945 piece=▁aye\n",
      "bpe_model_trainer.cc(268) LOG(INFO) Added: freq=68 size=8360 all=76565 active=4004 piece=formed\n",
      "bpe_model_trainer.cc(268) LOG(INFO) Added: freq=68 size=8380 all=76577 active=4016 piece=▁opposed\n",
      "bpe_model_trainer.cc(268) LOG(INFO) Added: freq=67 size=8400 all=76577 active=4016 piece=Or\n",
      "bpe_model_trainer.cc(159) LOG(INFO) Updating active symbols. max_freq=67 min_freq=38\n",
      "bpe_model_trainer.cc(268) LOG(INFO) Added: freq=67 size=8420 all=76696 active=3941 piece=Count\n",
      "bpe_model_trainer.cc(268) LOG(INFO) Added: freq=67 size=8440 all=76747 active=3992 piece=▁exert\n",
      "bpe_model_trainer.cc(268) LOG(INFO) Added: freq=67 size=8460 all=76772 active=4017 piece=▁shores\n",
      "bpe_model_trainer.cc(268) LOG(INFO) Added: freq=67 size=8480 all=76762 active=4007 piece=▁threatened\n",
      "bpe_model_trainer.cc(268) LOG(INFO) Added: freq=66 size=8500 all=76913 active=4158 piece=▁FRI\n",
      "bpe_model_trainer.cc(159) LOG(INFO) Updating active symbols. max_freq=66 min_freq=37\n",
      "bpe_model_trainer.cc(268) LOG(INFO) Added: freq=66 size=8520 all=76957 active=3887 piece=▁banqu\n",
      "bpe_model_trainer.cc(268) LOG(INFO) Added: freq=66 size=8540 all=76966 active=3896 piece=▁artific\n",
      "bpe_model_trainer.cc(268) LOG(INFO) Added: freq=66 size=8560 all=76959 active=3889 piece=▁compliment\n",
      "bpe_model_trainer.cc(268) LOG(INFO) Added: freq=65 size=8580 all=77023 active=3953 piece=▁egg\n",
      "bpe_model_trainer.cc(268) LOG(INFO) Added: freq=65 size=8600 all=77068 active=3998 piece=▁bowing\n",
      "bpe_model_trainer.cc(159) LOG(INFO) Updating active symbols. max_freq=65 min_freq=36\n",
      "bpe_model_trainer.cc(268) LOG(INFO) Added: freq=65 size=8620 all=77064 active=3850 piece=▁Parisian\n",
      "bpe_model_trainer.cc(268) LOG(INFO) Added: freq=64 size=8640 all=77136 active=3922 piece=▁Gl\n",
      "bpe_model_trainer.cc(268) LOG(INFO) Added: freq=64 size=8660 all=77218 active=4004 piece=▁lads\n",
      "bpe_model_trainer.cc(268) LOG(INFO) Added: freq=64 size=8680 all=77228 active=4014 piece=▁winding\n",
      "bpe_model_trainer.cc(268) LOG(INFO) Added: freq=64 size=8700 all=77213 active=3999 piece=▁describing\n",
      "bpe_model_trainer.cc(159) LOG(INFO) Updating active symbols. max_freq=64 min_freq=36\n",
      "bpe_model_trainer.cc(268) LOG(INFO) Added: freq=63 size=8720 all=77325 active=3973 piece=actly\n",
      "bpe_model_trainer.cc(268) LOG(INFO) Added: freq=63 size=8740 all=77360 active=4008 piece=▁panic\n",
      "bpe_model_trainer.cc(268) LOG(INFO) Added: freq=63 size=8760 all=77392 active=4040 piece=▁transf\n",
      "bpe_model_trainer.cc(268) LOG(INFO) Added: freq=63 size=8780 all=77388 active=4036 piece=▁fourteen\n",
      "bpe_model_trainer.cc(268) LOG(INFO) Added: freq=62 size=8800 all=77476 active=4124 piece=kers\n",
      "bpe_model_trainer.cc(159) LOG(INFO) Updating active symbols. max_freq=62 min_freq=35\n",
      "bpe_model_trainer.cc(268) LOG(INFO) Added: freq=62 size=8820 all=77559 active=3948 piece=▁anter\n",
      "bpe_model_trainer.cc(268) LOG(INFO) Added: freq=62 size=8840 all=77568 active=3957 piece=▁seamen\n",
      "bpe_model_trainer.cc(268) LOG(INFO) Added: freq=62 size=8860 all=77562 active=3951 piece=▁searching\n",
      "bpe_model_trainer.cc(268) LOG(INFO) Added: freq=61 size=8880 all=77655 active=4044 piece=Some\n",
      "bpe_model_trainer.cc(268) LOG(INFO) Added: freq=61 size=8900 all=77760 active=4149 piece=olomy\n",
      "bpe_model_trainer.cc(159) LOG(INFO) Updating active symbols. max_freq=61 min_freq=35\n",
      "bpe_model_trainer.cc(268) LOG(INFO) Added: freq=61 size=8920 all=77791 active=3917 piece=▁scrap\n",
      "bpe_model_trainer.cc(268) LOG(INFO) Added: freq=61 size=8940 all=77805 active=3931 piece=▁Olympus\n",
      "bpe_model_trainer.cc(268) LOG(INFO) Added: freq=61 size=8960 all=77800 active=3926 piece=▁Aristotle\n",
      "bpe_model_trainer.cc(268) LOG(INFO) Added: freq=60 size=8980 all=77859 active=3985 piece=ems\n",
      "bpe_model_trainer.cc(268) LOG(INFO) Added: freq=60 size=9000 all=77973 active=4099 piece=▁clad\n",
      "bpe_model_trainer.cc(159) LOG(INFO) Updating active symbols. max_freq=60 min_freq=34\n",
      "bpe_model_trainer.cc(268) LOG(INFO) Added: freq=60 size=9020 all=77980 active=3906 piece=▁thigh\n",
      "bpe_model_trainer.cc(268) LOG(INFO) Added: freq=60 size=9040 all=77981 active=3907 piece=▁twisted\n",
      "bpe_model_trainer.cc(268) LOG(INFO) Added: freq=60 size=9060 all=77968 active=3894 piece=▁acquaintances\n",
      "bpe_model_trainer.cc(268) LOG(INFO) Added: freq=59 size=9080 all=78047 active=3973 piece=abled\n",
      "bpe_model_trainer.cc(268) LOG(INFO) Added: freq=59 size=9100 all=78096 active=4022 piece=▁miser\n",
      "bpe_model_trainer.cc(159) LOG(INFO) Updating active symbols. max_freq=59 min_freq=34\n",
      "bpe_model_trainer.cc(268) LOG(INFO) Added: freq=59 size=9120 all=78114 active=3921 piece=▁oppose\n",
      "bpe_model_trainer.cc(268) LOG(INFO) Added: freq=59 size=9140 all=78100 active=3907 piece=▁enjoyment\n",
      "bpe_model_trainer.cc(268) LOG(INFO) Added: freq=58 size=9160 all=78193 active=4000 piece=▁tub\n",
      "bpe_model_trainer.cc(268) LOG(INFO) Added: freq=58 size=9180 all=78273 active=4080 piece=▁Murat\n",
      "bpe_model_trainer.cc(268) LOG(INFO) Added: freq=58 size=9200 all=78280 active=4087 piece=▁flowed\n",
      "bpe_model_trainer.cc(159) LOG(INFO) Updating active symbols. max_freq=58 min_freq=33\n",
      "bpe_model_trainer.cc(268) LOG(INFO) Added: freq=58 size=9220 all=78289 active=3923 piece=▁marched\n",
      "bpe_model_trainer.cc(268) LOG(INFO) Added: freq=58 size=9240 all=78275 active=3909 piece=▁sentiments\n",
      "bpe_model_trainer.cc(268) LOG(INFO) Added: freq=57 size=9260 all=78340 active=3974 piece=▁Sec\n",
      "bpe_model_trainer.cc(268) LOG(INFO) Added: freq=57 size=9280 all=78387 active=4021 piece=digger\n",
      "bpe_model_trainer.cc(268) LOG(INFO) Added: freq=57 size=9300 all=78392 active=4026 piece=▁nerves\n",
      "bpe_model_trainer.cc(159) LOG(INFO) Updating active symbols. max_freq=57 min_freq=33\n",
      "bpe_model_trainer.cc(268) LOG(INFO) Added: freq=57 size=9320 all=78378 active=3906 piece=▁attempted\n",
      "bpe_model_trainer.cc(268) LOG(INFO) Added: freq=56 size=9340 all=78486 active=4014 piece=ieth\n",
      "bpe_model_trainer.cc(268) LOG(INFO) Added: freq=56 size=9360 all=78558 active=4086 piece=▁hare\n",
      "bpe_model_trainer.cc(268) LOG(INFO) Added: freq=56 size=9380 all=78575 active=4103 piece=▁morrow\n",
      "bpe_model_trainer.cc(268) LOG(INFO) Added: freq=56 size=9400 all=78568 active=4096 piece=▁cupboard\n",
      "bpe_model_trainer.cc(159) LOG(INFO) Updating active symbols. max_freq=56 min_freq=32\n",
      "bpe_model_trainer.cc(268) LOG(INFO) Added: freq=56 size=9420 all=78554 active=3915 piece=▁Phaeacians\n",
      "bpe_model_trainer.cc(268) LOG(INFO) Added: freq=55 size=9440 all=78689 active=4050 piece=ruck\n",
      "bpe_model_trainer.cc(268) LOG(INFO) Added: freq=55 size=9460 all=78758 active=4119 piece=▁ratt\n",
      "bpe_model_trainer.cc(268) LOG(INFO) Added: freq=55 size=9480 all=78781 active=4142 piece=atching\n",
      "bpe_model_trainer.cc(268) LOG(INFO) Added: freq=55 size=9500 all=78782 active=4143 piece=▁prudent\n",
      "bpe_model_trainer.cc(159) LOG(INFO) Updating active symbols. max_freq=55 min_freq=32\n",
      "bpe_model_trainer.cc(268) LOG(INFO) Added: freq=55 size=9520 all=78769 active=3927 piece=▁adjoining\n",
      "bpe_model_trainer.cc(268) LOG(INFO) Added: freq=54 size=9540 all=78802 active=3960 piece=bru\n",
      "bpe_model_trainer.cc(268) LOG(INFO) Added: freq=54 size=9560 all=78939 active=4097 piece=▁buzz\n",
      "bpe_model_trainer.cc(268) LOG(INFO) Added: freq=54 size=9580 all=78965 active=4123 piece=▁incom\n",
      "bpe_model_trainer.cc(268) LOG(INFO) Added: freq=54 size=9600 all=78969 active=4127 piece=▁weighed\n",
      "bpe_model_trainer.cc(159) LOG(INFO) Updating active symbols. max_freq=54 min_freq=31\n",
      "bpe_model_trainer.cc(268) LOG(INFO) Added: freq=54 size=9620 all=78955 active=3935 piece=▁continual\n",
      "bpe_model_trainer.cc(268) LOG(INFO) Added: freq=53 size=9640 all=78947 active=3927 piece=Was\n",
      "bpe_model_trainer.cc(268) LOG(INFO) Added: freq=53 size=9660 all=79061 active=4041 piece=▁vow\n",
      "bpe_model_trainer.cc(268) LOG(INFO) Added: freq=53 size=9680 all=79123 active=4103 piece=▁knoll\n",
      "bpe_model_trainer.cc(268) LOG(INFO) Added: freq=53 size=9700 all=79129 active=4109 piece=▁Justine\n",
      "bpe_model_trainer.cc(159) LOG(INFO) Updating active symbols. max_freq=53 min_freq=31\n",
      "bpe_model_trainer.cc(268) LOG(INFO) Added: freq=53 size=9720 all=79121 active=3949 piece=▁security\n",
      "bpe_model_trainer.cc(268) LOG(INFO) Added: freq=52 size=9740 all=79118 active=3946 piece=gon\n",
      "bpe_model_trainer.cc(268) LOG(INFO) Added: freq=52 size=9760 all=79252 active=4080 piece=rical\n",
      "bpe_model_trainer.cc(268) LOG(INFO) Added: freq=52 size=9780 all=79319 active=4147 piece=urable\n",
      "bpe_model_trainer.cc(268) LOG(INFO) Added: freq=52 size=9800 all=79342 active=4170 piece=▁drawer\n",
      "bpe_model_trainer.cc(159) LOG(INFO) Updating active symbols. max_freq=52 min_freq=30\n",
      "bpe_model_trainer.cc(268) LOG(INFO) Added: freq=52 size=9820 all=79336 active=3962 piece=▁oppress\n",
      "bpe_model_trainer.cc(268) LOG(INFO) Added: freq=52 size=9840 all=79323 active=3949 piece=▁residence\n",
      "bpe_model_trainer.cc(268) LOG(INFO) Added: freq=51 size=9860 all=79392 active=4018 piece=cend\n",
      "bpe_model_trainer.cc(268) LOG(INFO) Added: freq=51 size=9880 all=79507 active=4133 piece=▁bite\n",
      "bpe_model_trainer.cc(268) LOG(INFO) Added: freq=51 size=9900 all=79531 active=4157 piece=▁plump\n",
      "bpe_model_trainer.cc(159) LOG(INFO) Updating active symbols. max_freq=51 min_freq=30\n",
      "trainer_interface.cc(687) LOG(INFO) Saving model: bpe_tokenizer.model\n",
      "trainer_interface.cc(699) LOG(INFO) Saving vocabs: bpe_tokenizer.vocab\n"
     ]
    }
   ],
   "source": [
    "\n",
    "CORPUS_FILE = \"corpus.txt\"\n",
    "TRAIN_FILE = \"train.jsonl\"\n",
    "TEST_FILE = \"test.jsonl\"\n",
    "TOKENIZER_PREFIX = \"bpe_tokenizer\"\n",
    "VOCAB_SIZE = 10000\n",
    "MAX_SEQ_LEN = 128\n",
    "BATCH_SIZE = 256\n",
    "EPOCHS = 50\n",
    "DEVICE = torch.device(\"cuda\" if torch.cuda.is_available() else \"cpu\")\n",
    "\n",
    "# === Select Model Here ===\n",
    "#MODEL_TYPE = \"transformer\"  # Options: 'gru', 'lstm', 'rnn', 'transformer'\n",
    "#MODEL_SAVE_PATH = f\"best_{MODEL_TYPE}_model.pt\"\n",
    "\n",
    "# --- Step 1: Download data & train tokenizer ---\n",
    "#download_file_from_url(TRAIN_URL, TRAIN_FILE)\n",
    "#download_file_from_url(TEST_URL, TEST_FILE)\n",
    "#download_and_merge_text_files(DATA_URL, CORPUS_FILE)\n",
    "train_tokenizer(CORPUS_FILE, TOKENIZER_PREFIX, vocab_size=VOCAB_SIZE)\n",
    "tokenizer = TokenizerWrapper(f\"{TOKENIZER_PREFIX}.model\")\n",
    "     "
   ]
  },
  {
   "cell_type": "code",
   "execution_count": 5,
   "id": "7f886b40-f24e-4d8b-81ff-8ba93b472a4a",
   "metadata": {
    "tags": []
   },
   "outputs": [],
   "source": [
    "train_dataset = TextDataset(TRAIN_FILE, tokenizer, MAX_SEQ_LEN)\n",
    "test_dataset = TextDataset(TEST_FILE, tokenizer, MAX_SEQ_LEN)\n",
    "train_loader = torch.utils.data.DataLoader(train_dataset, batch_size=BATCH_SIZE, shuffle=True, collate_fn=lambda b: collate_fn(b, tokenizer.get_pad_id()))\n",
    "test_loader = torch.utils.data.DataLoader(test_dataset, batch_size=BATCH_SIZE, shuffle=False, collate_fn=lambda b: collate_fn(b, tokenizer.get_pad_id()))\n",
    "     "
   ]
  },
  {
   "cell_type": "code",
   "execution_count": 6,
   "id": "73f1a39e-dabc-4f16-af0e-aa2299ed9416",
   "metadata": {
    "tags": []
   },
   "outputs": [
    {
     "name": "stdout",
     "output_type": "stream",
     "text": [
      "\n",
      " Training gru_0_1744850565 with config: {'embed_dim': 128, 'hidden_dim': 256, 'num_layers': 2, 'lr': 0.001}\n"
     ]
    },
    {
     "name": "stderr",
     "output_type": "stream",
     "text": [
      "/home/vjosep3/.local/lib/python3.11/site-packages/torch/optim/lr_scheduler.py:62: UserWarning: The verbose parameter is deprecated. Please use get_last_lr() to access the learning rate.\n",
      "  warnings.warn(\n",
      "Epoch 1/50: 100%|██████████| 155/155 [00:08<00:00, 18.06it/s]\n"
     ]
    },
    {
     "name": "stdout",
     "output_type": "stream",
     "text": [
      "Epoch 1 | Train Loss: 6.9670 | Val Loss: 6.6449\n",
      " Model saved to gru_0_1744850565.pt\n"
     ]
    },
    {
     "name": "stderr",
     "output_type": "stream",
     "text": [
      "Epoch 2/50: 100%|██████████| 155/155 [00:08<00:00, 19.11it/s]\n"
     ]
    },
    {
     "name": "stdout",
     "output_type": "stream",
     "text": [
      "Epoch 2 | Train Loss: 6.5663 | Val Loss: 6.3638\n",
      " Model saved to gru_0_1744850565.pt\n"
     ]
    },
    {
     "name": "stderr",
     "output_type": "stream",
     "text": [
      "Epoch 3/50: 100%|██████████| 155/155 [00:08<00:00, 19.05it/s]\n"
     ]
    },
    {
     "name": "stdout",
     "output_type": "stream",
     "text": [
      "Epoch 3 | Train Loss: 6.3275 | Val Loss: 6.1364\n",
      " Model saved to gru_0_1744850565.pt\n"
     ]
    },
    {
     "name": "stderr",
     "output_type": "stream",
     "text": [
      "Epoch 4/50: 100%|██████████| 155/155 [00:08<00:00, 19.05it/s]\n"
     ]
    },
    {
     "name": "stdout",
     "output_type": "stream",
     "text": [
      "Epoch 4 | Train Loss: 6.1418 | Val Loss: 5.9534\n",
      " Model saved to gru_0_1744850565.pt\n"
     ]
    },
    {
     "name": "stderr",
     "output_type": "stream",
     "text": [
      "Epoch 5/50: 100%|██████████| 155/155 [00:08<00:00, 18.57it/s]\n"
     ]
    },
    {
     "name": "stdout",
     "output_type": "stream",
     "text": [
      "Epoch 5 | Train Loss: 5.9856 | Val Loss: 5.8078\n",
      " Model saved to gru_0_1744850565.pt\n"
     ]
    },
    {
     "name": "stderr",
     "output_type": "stream",
     "text": [
      "Epoch 6/50: 100%|██████████| 155/155 [00:08<00:00, 18.94it/s]\n"
     ]
    },
    {
     "name": "stdout",
     "output_type": "stream",
     "text": [
      "Epoch 6 | Train Loss: 5.8744 | Val Loss: 5.7101\n",
      " Model saved to gru_0_1744850565.pt\n"
     ]
    },
    {
     "name": "stderr",
     "output_type": "stream",
     "text": [
      "Epoch 7/50: 100%|██████████| 155/155 [00:08<00:00, 18.92it/s]\n"
     ]
    },
    {
     "name": "stdout",
     "output_type": "stream",
     "text": [
      "Epoch 7 | Train Loss: 5.7854 | Val Loss: 5.6151\n",
      " Model saved to gru_0_1744850565.pt\n"
     ]
    },
    {
     "name": "stderr",
     "output_type": "stream",
     "text": [
      "Epoch 8/50: 100%|██████████| 155/155 [00:08<00:00, 18.93it/s]\n"
     ]
    },
    {
     "name": "stdout",
     "output_type": "stream",
     "text": [
      "Epoch 8 | Train Loss: 5.6914 | Val Loss: 5.5177\n",
      " Model saved to gru_0_1744850565.pt\n"
     ]
    },
    {
     "name": "stderr",
     "output_type": "stream",
     "text": [
      "Epoch 9/50: 100%|██████████| 155/155 [00:08<00:00, 18.88it/s]\n"
     ]
    },
    {
     "name": "stdout",
     "output_type": "stream",
     "text": [
      "Epoch 9 | Train Loss: 5.5903 | Val Loss: 5.4156\n",
      " Model saved to gru_0_1744850565.pt\n"
     ]
    },
    {
     "name": "stderr",
     "output_type": "stream",
     "text": [
      "Epoch 10/50: 100%|██████████| 155/155 [00:08<00:00, 18.87it/s]\n"
     ]
    },
    {
     "name": "stdout",
     "output_type": "stream",
     "text": [
      "Epoch 10 | Train Loss: 5.4871 | Val Loss: 5.3166\n",
      " Model saved to gru_0_1744850565.pt\n"
     ]
    },
    {
     "name": "stderr",
     "output_type": "stream",
     "text": [
      "Epoch 11/50: 100%|██████████| 155/155 [00:08<00:00, 18.87it/s]\n"
     ]
    },
    {
     "name": "stdout",
     "output_type": "stream",
     "text": [
      "Epoch 11 | Train Loss: 5.3881 | Val Loss: 5.2292\n",
      " Model saved to gru_0_1744850565.pt\n"
     ]
    },
    {
     "name": "stderr",
     "output_type": "stream",
     "text": [
      "Epoch 12/50: 100%|██████████| 155/155 [00:08<00:00, 18.84it/s]\n"
     ]
    },
    {
     "name": "stdout",
     "output_type": "stream",
     "text": [
      "Epoch 12 | Train Loss: 5.3007 | Val Loss: 5.1490\n",
      " Model saved to gru_0_1744850565.pt\n"
     ]
    },
    {
     "name": "stderr",
     "output_type": "stream",
     "text": [
      "Epoch 13/50: 100%|██████████| 155/155 [00:08<00:00, 18.45it/s]\n"
     ]
    },
    {
     "name": "stdout",
     "output_type": "stream",
     "text": [
      "Epoch 13 | Train Loss: 5.2228 | Val Loss: 5.0848\n",
      " Model saved to gru_0_1744850565.pt\n"
     ]
    },
    {
     "name": "stderr",
     "output_type": "stream",
     "text": [
      "Epoch 14/50: 100%|██████████| 155/155 [00:08<00:00, 18.82it/s]\n"
     ]
    },
    {
     "name": "stdout",
     "output_type": "stream",
     "text": [
      "Epoch 14 | Train Loss: 5.1559 | Val Loss: 5.0209\n",
      " Model saved to gru_0_1744850565.pt\n"
     ]
    },
    {
     "name": "stderr",
     "output_type": "stream",
     "text": [
      "Epoch 15/50: 100%|██████████| 155/155 [00:08<00:00, 18.82it/s]\n"
     ]
    },
    {
     "name": "stdout",
     "output_type": "stream",
     "text": [
      "Epoch 15 | Train Loss: 5.0964 | Val Loss: 4.9737\n",
      " Model saved to gru_0_1744850565.pt\n"
     ]
    },
    {
     "name": "stderr",
     "output_type": "stream",
     "text": [
      "Epoch 16/50: 100%|██████████| 155/155 [00:08<00:00, 18.87it/s]\n"
     ]
    },
    {
     "name": "stdout",
     "output_type": "stream",
     "text": [
      "Epoch 16 | Train Loss: 5.0436 | Val Loss: 4.9261\n",
      " Model saved to gru_0_1744850565.pt\n"
     ]
    },
    {
     "name": "stderr",
     "output_type": "stream",
     "text": [
      "Epoch 17/50: 100%|██████████| 155/155 [00:08<00:00, 18.82it/s]\n"
     ]
    },
    {
     "name": "stdout",
     "output_type": "stream",
     "text": [
      "Epoch 17 | Train Loss: 4.9983 | Val Loss: 4.8842\n",
      " Model saved to gru_0_1744850565.pt\n"
     ]
    },
    {
     "name": "stderr",
     "output_type": "stream",
     "text": [
      "Epoch 18/50: 100%|██████████| 155/155 [00:08<00:00, 18.86it/s]\n"
     ]
    },
    {
     "name": "stdout",
     "output_type": "stream",
     "text": [
      "Epoch 18 | Train Loss: 4.9570 | Val Loss: 4.8535\n",
      " Model saved to gru_0_1744850565.pt\n"
     ]
    },
    {
     "name": "stderr",
     "output_type": "stream",
     "text": [
      "Epoch 19/50: 100%|██████████| 155/155 [00:08<00:00, 18.82it/s]\n"
     ]
    },
    {
     "name": "stdout",
     "output_type": "stream",
     "text": [
      "Epoch 19 | Train Loss: 4.9213 | Val Loss: 4.8218\n",
      " Model saved to gru_0_1744850565.pt\n"
     ]
    },
    {
     "name": "stderr",
     "output_type": "stream",
     "text": [
      "Epoch 20/50: 100%|██████████| 155/155 [00:08<00:00, 18.49it/s]\n"
     ]
    },
    {
     "name": "stdout",
     "output_type": "stream",
     "text": [
      "Epoch 20 | Train Loss: 4.8901 | Val Loss: 4.7999\n",
      " Model saved to gru_0_1744850565.pt\n"
     ]
    },
    {
     "name": "stderr",
     "output_type": "stream",
     "text": [
      "Epoch 21/50: 100%|██████████| 155/155 [00:08<00:00, 18.83it/s]\n"
     ]
    },
    {
     "name": "stdout",
     "output_type": "stream",
     "text": [
      "Epoch 21 | Train Loss: 4.8623 | Val Loss: 4.7737\n",
      " Model saved to gru_0_1744850565.pt\n"
     ]
    },
    {
     "name": "stderr",
     "output_type": "stream",
     "text": [
      "Epoch 22/50: 100%|██████████| 155/155 [00:08<00:00, 18.88it/s]\n"
     ]
    },
    {
     "name": "stdout",
     "output_type": "stream",
     "text": [
      "Epoch 22 | Train Loss: 4.8364 | Val Loss: 4.7521\n",
      " Model saved to gru_0_1744850565.pt\n"
     ]
    },
    {
     "name": "stderr",
     "output_type": "stream",
     "text": [
      "Epoch 23/50: 100%|██████████| 155/155 [00:08<00:00, 18.86it/s]\n"
     ]
    },
    {
     "name": "stdout",
     "output_type": "stream",
     "text": [
      "Epoch 23 | Train Loss: 4.8132 | Val Loss: 4.7336\n",
      " Model saved to gru_0_1744850565.pt\n"
     ]
    },
    {
     "name": "stderr",
     "output_type": "stream",
     "text": [
      "Epoch 24/50: 100%|██████████| 155/155 [00:08<00:00, 18.84it/s]\n"
     ]
    },
    {
     "name": "stdout",
     "output_type": "stream",
     "text": [
      "Epoch 24 | Train Loss: 4.7926 | Val Loss: 4.7177\n",
      " Model saved to gru_0_1744850565.pt\n"
     ]
    },
    {
     "name": "stderr",
     "output_type": "stream",
     "text": [
      "Epoch 25/50: 100%|██████████| 155/155 [00:08<00:00, 18.89it/s]\n"
     ]
    },
    {
     "name": "stdout",
     "output_type": "stream",
     "text": [
      "Epoch 25 | Train Loss: 4.7726 | Val Loss: 4.7023\n",
      " Model saved to gru_0_1744850565.pt\n"
     ]
    },
    {
     "name": "stderr",
     "output_type": "stream",
     "text": [
      "Epoch 26/50: 100%|██████████| 155/155 [00:08<00:00, 18.85it/s]\n"
     ]
    },
    {
     "name": "stdout",
     "output_type": "stream",
     "text": [
      "Epoch 26 | Train Loss: 4.7539 | Val Loss: 4.6909\n",
      " Model saved to gru_0_1744850565.pt\n"
     ]
    },
    {
     "name": "stderr",
     "output_type": "stream",
     "text": [
      "Epoch 27/50: 100%|██████████| 155/155 [00:08<00:00, 18.89it/s]\n"
     ]
    },
    {
     "name": "stdout",
     "output_type": "stream",
     "text": [
      "Epoch 27 | Train Loss: 4.7381 | Val Loss: 4.6814\n",
      " Model saved to gru_0_1744850565.pt\n"
     ]
    },
    {
     "name": "stderr",
     "output_type": "stream",
     "text": [
      "Epoch 28/50: 100%|██████████| 155/155 [00:08<00:00, 18.50it/s]\n"
     ]
    },
    {
     "name": "stdout",
     "output_type": "stream",
     "text": [
      "Epoch 28 | Train Loss: 4.7215 | Val Loss: 4.6682\n",
      " Model saved to gru_0_1744850565.pt\n"
     ]
    },
    {
     "name": "stderr",
     "output_type": "stream",
     "text": [
      "Epoch 29/50: 100%|██████████| 155/155 [00:08<00:00, 18.87it/s]\n"
     ]
    },
    {
     "name": "stdout",
     "output_type": "stream",
     "text": [
      "Epoch 29 | Train Loss: 4.7143 | Val Loss: 4.6589\n",
      " Model saved to gru_0_1744850565.pt\n"
     ]
    },
    {
     "name": "stderr",
     "output_type": "stream",
     "text": [
      "Epoch 30/50: 100%|██████████| 155/155 [00:08<00:00, 18.87it/s]\n"
     ]
    },
    {
     "name": "stdout",
     "output_type": "stream",
     "text": [
      "Epoch 30 | Train Loss: 4.6966 | Val Loss: 4.6498\n",
      " Model saved to gru_0_1744850565.pt\n"
     ]
    },
    {
     "name": "stderr",
     "output_type": "stream",
     "text": [
      "Epoch 31/50: 100%|██████████| 155/155 [00:08<00:00, 18.89it/s]\n"
     ]
    },
    {
     "name": "stdout",
     "output_type": "stream",
     "text": [
      "Epoch 31 | Train Loss: 4.6823 | Val Loss: 4.6399\n",
      " Model saved to gru_0_1744850565.pt\n"
     ]
    },
    {
     "name": "stderr",
     "output_type": "stream",
     "text": [
      "Epoch 32/50: 100%|██████████| 155/155 [00:08<00:00, 18.84it/s]\n"
     ]
    },
    {
     "name": "stdout",
     "output_type": "stream",
     "text": [
      "Epoch 32 | Train Loss: 4.6710 | Val Loss: 4.6297\n",
      " Model saved to gru_0_1744850565.pt\n"
     ]
    },
    {
     "name": "stderr",
     "output_type": "stream",
     "text": [
      "Epoch 33/50: 100%|██████████| 155/155 [00:08<00:00, 18.83it/s]\n"
     ]
    },
    {
     "name": "stdout",
     "output_type": "stream",
     "text": [
      "Epoch 33 | Train Loss: 4.6599 | Val Loss: 4.6240\n",
      " Model saved to gru_0_1744850565.pt\n"
     ]
    },
    {
     "name": "stderr",
     "output_type": "stream",
     "text": [
      "Epoch 34/50: 100%|██████████| 155/155 [00:08<00:00, 18.89it/s]\n"
     ]
    },
    {
     "name": "stdout",
     "output_type": "stream",
     "text": [
      "Epoch 34 | Train Loss: 4.6491 | Val Loss: 4.6167\n",
      " Model saved to gru_0_1744850565.pt\n"
     ]
    },
    {
     "name": "stderr",
     "output_type": "stream",
     "text": [
      "Epoch 35/50: 100%|██████████| 155/155 [00:08<00:00, 18.52it/s]\n"
     ]
    },
    {
     "name": "stdout",
     "output_type": "stream",
     "text": [
      "Epoch 35 | Train Loss: 4.6389 | Val Loss: 4.6100\n",
      " Model saved to gru_0_1744850565.pt\n"
     ]
    },
    {
     "name": "stderr",
     "output_type": "stream",
     "text": [
      "Epoch 36/50: 100%|██████████| 155/155 [00:08<00:00, 18.89it/s]\n"
     ]
    },
    {
     "name": "stdout",
     "output_type": "stream",
     "text": [
      "Epoch 36 | Train Loss: 4.6296 | Val Loss: 4.6051\n",
      " Model saved to gru_0_1744850565.pt\n"
     ]
    },
    {
     "name": "stderr",
     "output_type": "stream",
     "text": [
      "Epoch 37/50: 100%|██████████| 155/155 [00:08<00:00, 18.88it/s]\n"
     ]
    },
    {
     "name": "stdout",
     "output_type": "stream",
     "text": [
      "Epoch 37 | Train Loss: 4.6197 | Val Loss: 4.5999\n",
      " Model saved to gru_0_1744850565.pt\n"
     ]
    },
    {
     "name": "stderr",
     "output_type": "stream",
     "text": [
      "Epoch 38/50: 100%|██████████| 155/155 [00:08<00:00, 18.86it/s]\n"
     ]
    },
    {
     "name": "stdout",
     "output_type": "stream",
     "text": [
      "Epoch 38 | Train Loss: 4.6106 | Val Loss: 4.5935\n",
      " Model saved to gru_0_1744850565.pt\n"
     ]
    },
    {
     "name": "stderr",
     "output_type": "stream",
     "text": [
      "Epoch 39/50: 100%|██████████| 155/155 [00:08<00:00, 18.88it/s]\n"
     ]
    },
    {
     "name": "stdout",
     "output_type": "stream",
     "text": [
      "Epoch 39 | Train Loss: 4.6023 | Val Loss: 4.5890\n",
      " Model saved to gru_0_1744850565.pt\n"
     ]
    },
    {
     "name": "stderr",
     "output_type": "stream",
     "text": [
      "Epoch 40/50: 100%|██████████| 155/155 [00:08<00:00, 18.89it/s]\n"
     ]
    },
    {
     "name": "stdout",
     "output_type": "stream",
     "text": [
      "Epoch 40 | Train Loss: 4.5954 | Val Loss: 4.5872\n",
      " Model saved to gru_0_1744850565.pt\n"
     ]
    },
    {
     "name": "stderr",
     "output_type": "stream",
     "text": [
      "Epoch 41/50: 100%|██████████| 155/155 [00:08<00:00, 18.88it/s]\n"
     ]
    },
    {
     "name": "stdout",
     "output_type": "stream",
     "text": [
      "Epoch 41 | Train Loss: 4.5872 | Val Loss: 4.5823\n",
      " Model saved to gru_0_1744850565.pt\n"
     ]
    },
    {
     "name": "stderr",
     "output_type": "stream",
     "text": [
      "Epoch 42/50: 100%|██████████| 155/155 [00:08<00:00, 18.85it/s]\n"
     ]
    },
    {
     "name": "stdout",
     "output_type": "stream",
     "text": [
      "Epoch 42 | Train Loss: 4.5791 | Val Loss: 4.5778\n",
      " Model saved to gru_0_1744850565.pt\n"
     ]
    },
    {
     "name": "stderr",
     "output_type": "stream",
     "text": [
      "Epoch 43/50: 100%|██████████| 155/155 [00:08<00:00, 18.53it/s]\n"
     ]
    },
    {
     "name": "stdout",
     "output_type": "stream",
     "text": [
      "Epoch 43 | Train Loss: 4.5713 | Val Loss: 4.5732\n",
      " Model saved to gru_0_1744850565.pt\n"
     ]
    },
    {
     "name": "stderr",
     "output_type": "stream",
     "text": [
      "Epoch 44/50: 100%|██████████| 155/155 [00:08<00:00, 18.90it/s]\n"
     ]
    },
    {
     "name": "stdout",
     "output_type": "stream",
     "text": [
      "Epoch 44 | Train Loss: 4.5653 | Val Loss: 4.5700\n",
      " Model saved to gru_0_1744850565.pt\n"
     ]
    },
    {
     "name": "stderr",
     "output_type": "stream",
     "text": [
      "Epoch 45/50: 100%|██████████| 155/155 [00:08<00:00, 18.86it/s]\n"
     ]
    },
    {
     "name": "stdout",
     "output_type": "stream",
     "text": [
      "Epoch 45 | Train Loss: 4.5583 | Val Loss: 4.5672\n",
      " Model saved to gru_0_1744850565.pt\n"
     ]
    },
    {
     "name": "stderr",
     "output_type": "stream",
     "text": [
      "Epoch 46/50: 100%|██████████| 155/155 [00:08<00:00, 18.91it/s]\n"
     ]
    },
    {
     "name": "stdout",
     "output_type": "stream",
     "text": [
      "Epoch 46 | Train Loss: 4.5519 | Val Loss: 4.5641\n",
      " Model saved to gru_0_1744850565.pt\n"
     ]
    },
    {
     "name": "stderr",
     "output_type": "stream",
     "text": [
      "Epoch 47/50: 100%|██████████| 155/155 [00:08<00:00, 18.91it/s]\n"
     ]
    },
    {
     "name": "stdout",
     "output_type": "stream",
     "text": [
      "Epoch 47 | Train Loss: 4.5460 | Val Loss: 4.5596\n",
      " Model saved to gru_0_1744850565.pt\n"
     ]
    },
    {
     "name": "stderr",
     "output_type": "stream",
     "text": [
      "Epoch 48/50: 100%|██████████| 155/155 [00:08<00:00, 18.89it/s]\n"
     ]
    },
    {
     "name": "stdout",
     "output_type": "stream",
     "text": [
      "Epoch 48 | Train Loss: 4.5392 | Val Loss: 4.5578\n",
      " Model saved to gru_0_1744850565.pt\n"
     ]
    },
    {
     "name": "stderr",
     "output_type": "stream",
     "text": [
      "Epoch 49/50: 100%|██████████| 155/155 [00:08<00:00, 18.90it/s]\n"
     ]
    },
    {
     "name": "stdout",
     "output_type": "stream",
     "text": [
      "Epoch 49 | Train Loss: 4.5332 | Val Loss: 4.5564\n",
      " Model saved to gru_0_1744850565.pt\n"
     ]
    },
    {
     "name": "stderr",
     "output_type": "stream",
     "text": [
      "Epoch 50/50: 100%|██████████| 155/155 [00:08<00:00, 18.47it/s]\n"
     ]
    },
    {
     "name": "stdout",
     "output_type": "stream",
     "text": [
      "Epoch 50 | Train Loss: 4.5269 | Val Loss: 4.5528\n",
      " Model saved to gru_0_1744850565.pt\n",
      "📈 Saved loss curve as: GRULanguageModel_loss_curve_20250416_195026.png\n",
      "\n",
      " Test Perplexity: 94.8999\n",
      " Average BLEU Score: 0.0139\n",
      "\n",
      " Training gru_1_1744851030 with config: {'embed_dim': 256, 'hidden_dim': 512, 'num_layers': 3, 'lr': 0.0005}\n"
     ]
    },
    {
     "name": "stderr",
     "output_type": "stream",
     "text": [
      "Epoch 1/50: 100%|██████████| 155/155 [00:14<00:00, 10.80it/s]\n"
     ]
    },
    {
     "name": "stdout",
     "output_type": "stream",
     "text": [
      "Epoch 1 | Train Loss: 6.9973 | Val Loss: 6.8219\n",
      " Model saved to gru_1_1744851030.pt\n"
     ]
    },
    {
     "name": "stderr",
     "output_type": "stream",
     "text": [
      "Epoch 2/50: 100%|██████████| 155/155 [00:14<00:00, 10.82it/s]\n"
     ]
    },
    {
     "name": "stdout",
     "output_type": "stream",
     "text": [
      "Epoch 2 | Train Loss: 6.8622 | Val Loss: 6.7981\n",
      " Model saved to gru_1_1744851030.pt\n"
     ]
    },
    {
     "name": "stderr",
     "output_type": "stream",
     "text": [
      "Epoch 3/50: 100%|██████████| 155/155 [00:14<00:00, 10.79it/s]\n"
     ]
    },
    {
     "name": "stdout",
     "output_type": "stream",
     "text": [
      "Epoch 3 | Train Loss: 6.7166 | Val Loss: 6.5617\n",
      " Model saved to gru_1_1744851030.pt\n"
     ]
    },
    {
     "name": "stderr",
     "output_type": "stream",
     "text": [
      "Epoch 4/50: 100%|██████████| 155/155 [00:14<00:00, 10.79it/s]\n"
     ]
    },
    {
     "name": "stdout",
     "output_type": "stream",
     "text": [
      "Epoch 4 | Train Loss: 6.5082 | Val Loss: 6.3596\n",
      " Model saved to gru_1_1744851030.pt\n"
     ]
    },
    {
     "name": "stderr",
     "output_type": "stream",
     "text": [
      "Epoch 5/50: 100%|██████████| 155/155 [00:14<00:00, 10.79it/s]\n"
     ]
    },
    {
     "name": "stdout",
     "output_type": "stream",
     "text": [
      "Epoch 5 | Train Loss: 6.3141 | Val Loss: 6.1263\n",
      " Model saved to gru_1_1744851030.pt\n"
     ]
    },
    {
     "name": "stderr",
     "output_type": "stream",
     "text": [
      "Epoch 6/50: 100%|██████████| 155/155 [00:14<00:00, 10.78it/s]\n"
     ]
    },
    {
     "name": "stdout",
     "output_type": "stream",
     "text": [
      "Epoch 6 | Train Loss: 6.0708 | Val Loss: 5.8941\n",
      " Model saved to gru_1_1744851030.pt\n"
     ]
    },
    {
     "name": "stderr",
     "output_type": "stream",
     "text": [
      "Epoch 7/50: 100%|██████████| 155/155 [00:14<00:00, 10.67it/s]\n"
     ]
    },
    {
     "name": "stdout",
     "output_type": "stream",
     "text": [
      "Epoch 7 | Train Loss: 5.8960 | Val Loss: 5.7433\n",
      " Model saved to gru_1_1744851030.pt\n"
     ]
    },
    {
     "name": "stderr",
     "output_type": "stream",
     "text": [
      "Epoch 8/50: 100%|██████████| 155/155 [00:14<00:00, 10.78it/s]\n"
     ]
    },
    {
     "name": "stdout",
     "output_type": "stream",
     "text": [
      "Epoch 8 | Train Loss: 5.7655 | Val Loss: 5.6150\n",
      " Model saved to gru_1_1744851030.pt\n"
     ]
    },
    {
     "name": "stderr",
     "output_type": "stream",
     "text": [
      "Epoch 9/50: 100%|██████████| 155/155 [00:14<00:00, 10.80it/s]\n"
     ]
    },
    {
     "name": "stdout",
     "output_type": "stream",
     "text": [
      "Epoch 9 | Train Loss: 5.6406 | Val Loss: 5.4890\n",
      " Model saved to gru_1_1744851030.pt\n"
     ]
    },
    {
     "name": "stderr",
     "output_type": "stream",
     "text": [
      "Epoch 10/50: 100%|██████████| 155/155 [00:14<00:00, 10.77it/s]\n"
     ]
    },
    {
     "name": "stdout",
     "output_type": "stream",
     "text": [
      "Epoch 10 | Train Loss: 5.5263 | Val Loss: 5.3775\n",
      " Model saved to gru_1_1744851030.pt\n"
     ]
    },
    {
     "name": "stderr",
     "output_type": "stream",
     "text": [
      "Epoch 11/50: 100%|██████████| 155/155 [00:14<00:00, 10.77it/s]\n"
     ]
    },
    {
     "name": "stdout",
     "output_type": "stream",
     "text": [
      "Epoch 11 | Train Loss: 5.4116 | Val Loss: 5.2685\n",
      " Model saved to gru_1_1744851030.pt\n"
     ]
    },
    {
     "name": "stderr",
     "output_type": "stream",
     "text": [
      "Epoch 12/50: 100%|██████████| 155/155 [00:14<00:00, 10.80it/s]\n"
     ]
    },
    {
     "name": "stdout",
     "output_type": "stream",
     "text": [
      "Epoch 12 | Train Loss: 5.2936 | Val Loss: 5.1581\n",
      " Model saved to gru_1_1744851030.pt\n"
     ]
    },
    {
     "name": "stderr",
     "output_type": "stream",
     "text": [
      "Epoch 13/50: 100%|██████████| 155/155 [00:14<00:00, 10.80it/s]\n"
     ]
    },
    {
     "name": "stdout",
     "output_type": "stream",
     "text": [
      "Epoch 13 | Train Loss: 5.1859 | Val Loss: 5.0643\n",
      " Model saved to gru_1_1744851030.pt\n"
     ]
    },
    {
     "name": "stderr",
     "output_type": "stream",
     "text": [
      "Epoch 14/50: 100%|██████████| 155/155 [00:14<00:00, 10.80it/s]\n"
     ]
    },
    {
     "name": "stdout",
     "output_type": "stream",
     "text": [
      "Epoch 14 | Train Loss: 5.0901 | Val Loss: 4.9807\n",
      " Model saved to gru_1_1744851030.pt\n"
     ]
    },
    {
     "name": "stderr",
     "output_type": "stream",
     "text": [
      "Epoch 15/50: 100%|██████████| 155/155 [00:14<00:00, 10.69it/s]\n"
     ]
    },
    {
     "name": "stdout",
     "output_type": "stream",
     "text": [
      "Epoch 15 | Train Loss: 5.0052 | Val Loss: 4.9160\n",
      " Model saved to gru_1_1744851030.pt\n"
     ]
    },
    {
     "name": "stderr",
     "output_type": "stream",
     "text": [
      "Epoch 16/50: 100%|██████████| 155/155 [00:14<00:00, 10.77it/s]\n"
     ]
    },
    {
     "name": "stdout",
     "output_type": "stream",
     "text": [
      "Epoch 16 | Train Loss: 4.9313 | Val Loss: 4.8543\n",
      " Model saved to gru_1_1744851030.pt\n"
     ]
    },
    {
     "name": "stderr",
     "output_type": "stream",
     "text": [
      "Epoch 17/50: 100%|██████████| 155/155 [00:14<00:00, 10.76it/s]\n"
     ]
    },
    {
     "name": "stdout",
     "output_type": "stream",
     "text": [
      "Epoch 17 | Train Loss: 4.8676 | Val Loss: 4.8076\n",
      " Model saved to gru_1_1744851030.pt\n"
     ]
    },
    {
     "name": "stderr",
     "output_type": "stream",
     "text": [
      "Epoch 18/50: 100%|██████████| 155/155 [00:14<00:00, 10.79it/s]\n"
     ]
    },
    {
     "name": "stdout",
     "output_type": "stream",
     "text": [
      "Epoch 18 | Train Loss: 4.8135 | Val Loss: 4.7660\n",
      " Model saved to gru_1_1744851030.pt\n"
     ]
    },
    {
     "name": "stderr",
     "output_type": "stream",
     "text": [
      "Epoch 19/50: 100%|██████████| 155/155 [00:14<00:00, 10.80it/s]\n"
     ]
    },
    {
     "name": "stdout",
     "output_type": "stream",
     "text": [
      "Epoch 19 | Train Loss: 4.7625 | Val Loss: 4.7285\n",
      " Model saved to gru_1_1744851030.pt\n"
     ]
    },
    {
     "name": "stderr",
     "output_type": "stream",
     "text": [
      "Epoch 20/50: 100%|██████████| 155/155 [00:14<00:00, 10.77it/s]\n"
     ]
    },
    {
     "name": "stdout",
     "output_type": "stream",
     "text": [
      "Epoch 20 | Train Loss: 4.7239 | Val Loss: 4.7089\n",
      " Model saved to gru_1_1744851030.pt\n"
     ]
    },
    {
     "name": "stderr",
     "output_type": "stream",
     "text": [
      "Epoch 21/50: 100%|██████████| 155/155 [00:14<00:00, 10.79it/s]\n"
     ]
    },
    {
     "name": "stdout",
     "output_type": "stream",
     "text": [
      "Epoch 21 | Train Loss: 4.6847 | Val Loss: 4.6720\n",
      " Model saved to gru_1_1744851030.pt\n"
     ]
    },
    {
     "name": "stderr",
     "output_type": "stream",
     "text": [
      "Epoch 22/50: 100%|██████████| 155/155 [00:14<00:00, 10.65it/s]\n"
     ]
    },
    {
     "name": "stdout",
     "output_type": "stream",
     "text": [
      "Epoch 22 | Train Loss: 4.6446 | Val Loss: 4.6473\n",
      " Model saved to gru_1_1744851030.pt\n"
     ]
    },
    {
     "name": "stderr",
     "output_type": "stream",
     "text": [
      "Epoch 23/50: 100%|██████████| 155/155 [00:14<00:00, 10.80it/s]\n"
     ]
    },
    {
     "name": "stdout",
     "output_type": "stream",
     "text": [
      "Epoch 23 | Train Loss: 4.6119 | Val Loss: 4.6274\n",
      " Model saved to gru_1_1744851030.pt\n"
     ]
    },
    {
     "name": "stderr",
     "output_type": "stream",
     "text": [
      "Epoch 24/50: 100%|██████████| 155/155 [00:14<00:00, 10.80it/s]\n"
     ]
    },
    {
     "name": "stdout",
     "output_type": "stream",
     "text": [
      "Epoch 24 | Train Loss: 4.5811 | Val Loss: 4.6096\n",
      " Model saved to gru_1_1744851030.pt\n"
     ]
    },
    {
     "name": "stderr",
     "output_type": "stream",
     "text": [
      "Epoch 25/50: 100%|██████████| 155/155 [00:14<00:00, 10.80it/s]\n"
     ]
    },
    {
     "name": "stdout",
     "output_type": "stream",
     "text": [
      "Epoch 25 | Train Loss: 4.5525 | Val Loss: 4.5941\n",
      " Model saved to gru_1_1744851030.pt\n"
     ]
    },
    {
     "name": "stderr",
     "output_type": "stream",
     "text": [
      "Epoch 26/50: 100%|██████████| 155/155 [00:14<00:00, 10.76it/s]\n"
     ]
    },
    {
     "name": "stdout",
     "output_type": "stream",
     "text": [
      "Epoch 26 | Train Loss: 4.5278 | Val Loss: 4.5792\n",
      " Model saved to gru_1_1744851030.pt\n"
     ]
    },
    {
     "name": "stderr",
     "output_type": "stream",
     "text": [
      "Epoch 27/50: 100%|██████████| 155/155 [00:14<00:00, 10.76it/s]\n"
     ]
    },
    {
     "name": "stdout",
     "output_type": "stream",
     "text": [
      "Epoch 27 | Train Loss: 4.5042 | Val Loss: 4.5665\n",
      " Model saved to gru_1_1744851030.pt\n"
     ]
    },
    {
     "name": "stderr",
     "output_type": "stream",
     "text": [
      "Epoch 28/50: 100%|██████████| 155/155 [00:14<00:00, 10.79it/s]\n"
     ]
    },
    {
     "name": "stdout",
     "output_type": "stream",
     "text": [
      "Epoch 28 | Train Loss: 4.6759 | Val Loss: 4.6662\n"
     ]
    },
    {
     "name": "stderr",
     "output_type": "stream",
     "text": [
      "Epoch 29/50: 100%|██████████| 155/155 [00:14<00:00, 10.79it/s]\n"
     ]
    },
    {
     "name": "stdout",
     "output_type": "stream",
     "text": [
      "Epoch 29 | Train Loss: 4.5947 | Val Loss: 4.6373\n"
     ]
    },
    {
     "name": "stderr",
     "output_type": "stream",
     "text": [
      "Epoch 30/50: 100%|██████████| 155/155 [00:14<00:00, 10.66it/s]\n"
     ]
    },
    {
     "name": "stdout",
     "output_type": "stream",
     "text": [
      "Epoch 30 | Train Loss: 4.5422 | Val Loss: 4.6149\n"
     ]
    },
    {
     "name": "stderr",
     "output_type": "stream",
     "text": [
      "Epoch 31/50: 100%|██████████| 155/155 [00:14<00:00, 10.79it/s]\n"
     ]
    },
    {
     "name": "stdout",
     "output_type": "stream",
     "text": [
      "Epoch 31 | Train Loss: 4.5220 | Val Loss: 4.6057\n"
     ]
    },
    {
     "name": "stderr",
     "output_type": "stream",
     "text": [
      "Epoch 32/50: 100%|██████████| 155/155 [00:14<00:00, 10.79it/s]\n"
     ]
    },
    {
     "name": "stdout",
     "output_type": "stream",
     "text": [
      "Epoch 32 | Train Loss: 4.4986 | Val Loss: 4.5975\n"
     ]
    },
    {
     "name": "stderr",
     "output_type": "stream",
     "text": [
      "Epoch 33/50: 100%|██████████| 155/155 [00:14<00:00, 10.79it/s]\n"
     ]
    },
    {
     "name": "stdout",
     "output_type": "stream",
     "text": [
      "Epoch 33 | Train Loss: 4.4896 | Val Loss: 4.5923\n"
     ]
    },
    {
     "name": "stderr",
     "output_type": "stream",
     "text": [
      "Epoch 34/50: 100%|██████████| 155/155 [00:14<00:00, 10.79it/s]\n"
     ]
    },
    {
     "name": "stdout",
     "output_type": "stream",
     "text": [
      "Epoch 34 | Train Loss: 4.4777 | Val Loss: 4.5894\n"
     ]
    },
    {
     "name": "stderr",
     "output_type": "stream",
     "text": [
      "Epoch 35/50: 100%|██████████| 155/155 [00:14<00:00, 10.79it/s]\n"
     ]
    },
    {
     "name": "stdout",
     "output_type": "stream",
     "text": [
      "Epoch 35 | Train Loss: 4.4741 | Val Loss: 4.5856\n"
     ]
    },
    {
     "name": "stderr",
     "output_type": "stream",
     "text": [
      "Epoch 36/50: 100%|██████████| 155/155 [00:14<00:00, 10.76it/s]\n"
     ]
    },
    {
     "name": "stdout",
     "output_type": "stream",
     "text": [
      "Epoch 36 | Train Loss: 4.4684 | Val Loss: 4.5846\n"
     ]
    },
    {
     "name": "stderr",
     "output_type": "stream",
     "text": [
      "Epoch 37/50: 100%|██████████| 155/155 [00:14<00:00, 10.66it/s]\n"
     ]
    },
    {
     "name": "stdout",
     "output_type": "stream",
     "text": [
      "Epoch 37 | Train Loss: 4.4656 | Val Loss: 4.5834\n"
     ]
    },
    {
     "name": "stderr",
     "output_type": "stream",
     "text": [
      "Epoch 38/50: 100%|██████████| 155/155 [00:14<00:00, 10.80it/s]\n"
     ]
    },
    {
     "name": "stdout",
     "output_type": "stream",
     "text": [
      "Epoch 38 | Train Loss: 4.4627 | Val Loss: 4.5825\n"
     ]
    },
    {
     "name": "stderr",
     "output_type": "stream",
     "text": [
      "Epoch 39/50: 100%|██████████| 155/155 [00:14<00:00, 10.77it/s]\n"
     ]
    },
    {
     "name": "stdout",
     "output_type": "stream",
     "text": [
      "Epoch 39 | Train Loss: 4.4617 | Val Loss: 4.5819\n"
     ]
    },
    {
     "name": "stderr",
     "output_type": "stream",
     "text": [
      "Epoch 40/50: 100%|██████████| 155/155 [00:14<00:00, 10.80it/s]\n"
     ]
    },
    {
     "name": "stdout",
     "output_type": "stream",
     "text": [
      "Epoch 40 | Train Loss: 4.4595 | Val Loss: 4.5815\n"
     ]
    },
    {
     "name": "stderr",
     "output_type": "stream",
     "text": [
      "Epoch 41/50: 100%|██████████| 155/155 [00:14<00:00, 10.77it/s]\n"
     ]
    },
    {
     "name": "stdout",
     "output_type": "stream",
     "text": [
      "Epoch 41 | Train Loss: 4.4595 | Val Loss: 4.5813\n"
     ]
    },
    {
     "name": "stderr",
     "output_type": "stream",
     "text": [
      "Epoch 42/50: 100%|██████████| 155/155 [00:14<00:00, 10.77it/s]\n"
     ]
    },
    {
     "name": "stdout",
     "output_type": "stream",
     "text": [
      "Epoch 42 | Train Loss: 4.4585 | Val Loss: 4.5811\n"
     ]
    },
    {
     "name": "stderr",
     "output_type": "stream",
     "text": [
      "Epoch 43/50: 100%|██████████| 155/155 [00:14<00:00, 10.81it/s]\n"
     ]
    },
    {
     "name": "stdout",
     "output_type": "stream",
     "text": [
      "Epoch 43 | Train Loss: 4.4589 | Val Loss: 4.5809\n"
     ]
    },
    {
     "name": "stderr",
     "output_type": "stream",
     "text": [
      "Epoch 44/50: 100%|██████████| 155/155 [00:14<00:00, 10.72it/s]\n"
     ]
    },
    {
     "name": "stdout",
     "output_type": "stream",
     "text": [
      "Epoch 44 | Train Loss: 4.4582 | Val Loss: 4.5808\n"
     ]
    },
    {
     "name": "stderr",
     "output_type": "stream",
     "text": [
      "Epoch 45/50: 100%|██████████| 155/155 [00:14<00:00, 10.68it/s]\n"
     ]
    },
    {
     "name": "stdout",
     "output_type": "stream",
     "text": [
      "Epoch 45 | Train Loss: 4.4573 | Val Loss: 4.5807\n"
     ]
    },
    {
     "name": "stderr",
     "output_type": "stream",
     "text": [
      "Epoch 46/50: 100%|██████████| 155/155 [00:14<00:00, 10.77it/s]\n"
     ]
    },
    {
     "name": "stdout",
     "output_type": "stream",
     "text": [
      "Epoch 46 | Train Loss: 4.4580 | Val Loss: 4.5807\n"
     ]
    },
    {
     "name": "stderr",
     "output_type": "stream",
     "text": [
      "Epoch 47/50: 100%|██████████| 155/155 [00:14<00:00, 10.77it/s]\n"
     ]
    },
    {
     "name": "stdout",
     "output_type": "stream",
     "text": [
      "Epoch 47 | Train Loss: 4.4574 | Val Loss: 4.5806\n"
     ]
    },
    {
     "name": "stderr",
     "output_type": "stream",
     "text": [
      "Epoch 48/50: 100%|██████████| 155/155 [00:14<00:00, 10.77it/s]\n"
     ]
    },
    {
     "name": "stdout",
     "output_type": "stream",
     "text": [
      "Epoch 48 | Train Loss: 4.4573 | Val Loss: 4.5806\n"
     ]
    },
    {
     "name": "stderr",
     "output_type": "stream",
     "text": [
      "Epoch 49/50: 100%|██████████| 155/155 [00:14<00:00, 10.77it/s]\n"
     ]
    },
    {
     "name": "stdout",
     "output_type": "stream",
     "text": [
      "Epoch 49 | Train Loss: 4.4576 | Val Loss: 4.5806\n"
     ]
    },
    {
     "name": "stderr",
     "output_type": "stream",
     "text": [
      "Epoch 50/50: 100%|██████████| 155/155 [00:14<00:00, 10.77it/s]\n"
     ]
    },
    {
     "name": "stdout",
     "output_type": "stream",
     "text": [
      "Epoch 50 | Train Loss: 4.4565 | Val Loss: 4.5806\n",
      "📈 Saved loss curve as: GRULanguageModel_loss_curve_20250416_200343.png\n",
      "\n",
      " Test Perplexity: 96.2091\n",
      " Average BLEU Score: 0.0143\n",
      "\n",
      " Training lstm_0_1744851828 with config: {'embed_dim': 128, 'hidden_dim': 256, 'num_layers': 2, 'lr': 0.001}\n"
     ]
    },
    {
     "name": "stderr",
     "output_type": "stream",
     "text": [
      "Epoch 1/50: 100%|██████████| 155/155 [00:08<00:00, 18.33it/s]\n"
     ]
    },
    {
     "name": "stdout",
     "output_type": "stream",
     "text": [
      "Epoch 1 | Train Loss: 7.0331 | Val Loss: 6.7877\n",
      " Model saved to lstm_0_1744851828.pt\n"
     ]
    },
    {
     "name": "stderr",
     "output_type": "stream",
     "text": [
      "Epoch 2/50: 100%|██████████| 155/155 [00:08<00:00, 18.01it/s]\n"
     ]
    },
    {
     "name": "stdout",
     "output_type": "stream",
     "text": [
      "Epoch 2 | Train Loss: 6.5859 | Val Loss: 6.2670\n",
      " Model saved to lstm_0_1744851828.pt\n"
     ]
    },
    {
     "name": "stderr",
     "output_type": "stream",
     "text": [
      "Epoch 3/50: 100%|██████████| 155/155 [00:08<00:00, 18.32it/s]\n"
     ]
    },
    {
     "name": "stdout",
     "output_type": "stream",
     "text": [
      "Epoch 3 | Train Loss: 6.1455 | Val Loss: 5.9351\n",
      " Model saved to lstm_0_1744851828.pt\n"
     ]
    },
    {
     "name": "stderr",
     "output_type": "stream",
     "text": [
      "Epoch 4/50: 100%|██████████| 155/155 [00:08<00:00, 18.31it/s]\n"
     ]
    },
    {
     "name": "stdout",
     "output_type": "stream",
     "text": [
      "Epoch 4 | Train Loss: 5.8885 | Val Loss: 5.7384\n",
      " Model saved to lstm_0_1744851828.pt\n"
     ]
    },
    {
     "name": "stderr",
     "output_type": "stream",
     "text": [
      "Epoch 5/50: 100%|██████████| 155/155 [00:08<00:00, 18.30it/s]\n"
     ]
    },
    {
     "name": "stdout",
     "output_type": "stream",
     "text": [
      "Epoch 5 | Train Loss: 5.7306 | Val Loss: 5.6082\n",
      " Model saved to lstm_0_1744851828.pt\n"
     ]
    },
    {
     "name": "stderr",
     "output_type": "stream",
     "text": [
      "Epoch 6/50: 100%|██████████| 155/155 [00:08<00:00, 18.30it/s]\n"
     ]
    },
    {
     "name": "stdout",
     "output_type": "stream",
     "text": [
      "Epoch 6 | Train Loss: 5.6160 | Val Loss: 5.5041\n",
      " Model saved to lstm_0_1744851828.pt\n"
     ]
    },
    {
     "name": "stderr",
     "output_type": "stream",
     "text": [
      "Epoch 7/50: 100%|██████████| 155/155 [00:08<00:00, 18.29it/s]\n"
     ]
    },
    {
     "name": "stdout",
     "output_type": "stream",
     "text": [
      "Epoch 7 | Train Loss: 5.5268 | Val Loss: 5.4253\n",
      " Model saved to lstm_0_1744851828.pt\n"
     ]
    },
    {
     "name": "stderr",
     "output_type": "stream",
     "text": [
      "Epoch 8/50: 100%|██████████| 155/155 [00:08<00:00, 18.29it/s]\n"
     ]
    },
    {
     "name": "stdout",
     "output_type": "stream",
     "text": [
      "Epoch 8 | Train Loss: 5.4554 | Val Loss: 5.3617\n",
      " Model saved to lstm_0_1744851828.pt\n"
     ]
    },
    {
     "name": "stderr",
     "output_type": "stream",
     "text": [
      "Epoch 9/50: 100%|██████████| 155/155 [00:08<00:00, 18.30it/s]\n"
     ]
    },
    {
     "name": "stdout",
     "output_type": "stream",
     "text": [
      "Epoch 9 | Train Loss: 5.3944 | Val Loss: 5.3012\n",
      " Model saved to lstm_0_1744851828.pt\n"
     ]
    },
    {
     "name": "stderr",
     "output_type": "stream",
     "text": [
      "Epoch 10/50: 100%|██████████| 155/155 [00:08<00:00, 17.96it/s]\n"
     ]
    },
    {
     "name": "stdout",
     "output_type": "stream",
     "text": [
      "Epoch 10 | Train Loss: 5.3387 | Val Loss: 5.2472\n",
      " Model saved to lstm_0_1744851828.pt\n"
     ]
    },
    {
     "name": "stderr",
     "output_type": "stream",
     "text": [
      "Epoch 11/50: 100%|██████████| 155/155 [00:08<00:00, 18.29it/s]\n"
     ]
    },
    {
     "name": "stdout",
     "output_type": "stream",
     "text": [
      "Epoch 11 | Train Loss: 5.2875 | Val Loss: 5.1994\n",
      " Model saved to lstm_0_1744851828.pt\n"
     ]
    },
    {
     "name": "stderr",
     "output_type": "stream",
     "text": [
      "Epoch 12/50: 100%|██████████| 155/155 [00:08<00:00, 18.29it/s]\n"
     ]
    },
    {
     "name": "stdout",
     "output_type": "stream",
     "text": [
      "Epoch 12 | Train Loss: 5.2422 | Val Loss: 5.1574\n",
      " Model saved to lstm_0_1744851828.pt\n"
     ]
    },
    {
     "name": "stderr",
     "output_type": "stream",
     "text": [
      "Epoch 13/50: 100%|██████████| 155/155 [00:08<00:00, 18.28it/s]\n"
     ]
    },
    {
     "name": "stdout",
     "output_type": "stream",
     "text": [
      "Epoch 13 | Train Loss: 5.2013 | Val Loss: 5.1203\n",
      " Model saved to lstm_0_1744851828.pt\n"
     ]
    },
    {
     "name": "stderr",
     "output_type": "stream",
     "text": [
      "Epoch 14/50: 100%|██████████| 155/155 [00:08<00:00, 18.29it/s]\n"
     ]
    },
    {
     "name": "stdout",
     "output_type": "stream",
     "text": [
      "Epoch 14 | Train Loss: 5.1642 | Val Loss: 5.0873\n",
      " Model saved to lstm_0_1744851828.pt\n"
     ]
    },
    {
     "name": "stderr",
     "output_type": "stream",
     "text": [
      "Epoch 15/50: 100%|██████████| 155/155 [00:08<00:00, 18.29it/s]\n"
     ]
    },
    {
     "name": "stdout",
     "output_type": "stream",
     "text": [
      "Epoch 15 | Train Loss: 5.1306 | Val Loss: 5.0551\n",
      " Model saved to lstm_0_1744851828.pt\n"
     ]
    },
    {
     "name": "stderr",
     "output_type": "stream",
     "text": [
      "Epoch 16/50: 100%|██████████| 155/155 [00:08<00:00, 18.28it/s]\n"
     ]
    },
    {
     "name": "stdout",
     "output_type": "stream",
     "text": [
      "Epoch 16 | Train Loss: 5.0992 | Val Loss: 5.0266\n",
      " Model saved to lstm_0_1744851828.pt\n"
     ]
    },
    {
     "name": "stderr",
     "output_type": "stream",
     "text": [
      "Epoch 17/50: 100%|██████████| 155/155 [00:08<00:00, 17.97it/s]\n"
     ]
    },
    {
     "name": "stdout",
     "output_type": "stream",
     "text": [
      "Epoch 17 | Train Loss: 5.0700 | Val Loss: 4.9984\n",
      " Model saved to lstm_0_1744851828.pt\n"
     ]
    },
    {
     "name": "stderr",
     "output_type": "stream",
     "text": [
      "Epoch 18/50: 100%|██████████| 155/155 [00:08<00:00, 18.30it/s]\n"
     ]
    },
    {
     "name": "stdout",
     "output_type": "stream",
     "text": [
      "Epoch 18 | Train Loss: 5.0440 | Val Loss: 4.9739\n",
      " Model saved to lstm_0_1744851828.pt\n"
     ]
    },
    {
     "name": "stderr",
     "output_type": "stream",
     "text": [
      "Epoch 19/50: 100%|██████████| 155/155 [00:08<00:00, 18.28it/s]\n"
     ]
    },
    {
     "name": "stdout",
     "output_type": "stream",
     "text": [
      "Epoch 19 | Train Loss: 5.0176 | Val Loss: 4.9498\n",
      " Model saved to lstm_0_1744851828.pt\n"
     ]
    },
    {
     "name": "stderr",
     "output_type": "stream",
     "text": [
      "Epoch 20/50: 100%|██████████| 155/155 [00:08<00:00, 18.27it/s]\n"
     ]
    },
    {
     "name": "stdout",
     "output_type": "stream",
     "text": [
      "Epoch 20 | Train Loss: 4.9940 | Val Loss: 4.9273\n",
      " Model saved to lstm_0_1744851828.pt\n"
     ]
    },
    {
     "name": "stderr",
     "output_type": "stream",
     "text": [
      "Epoch 21/50: 100%|██████████| 155/155 [00:08<00:00, 18.28it/s]\n"
     ]
    },
    {
     "name": "stdout",
     "output_type": "stream",
     "text": [
      "Epoch 21 | Train Loss: 4.9706 | Val Loss: 4.9089\n",
      " Model saved to lstm_0_1744851828.pt\n"
     ]
    },
    {
     "name": "stderr",
     "output_type": "stream",
     "text": [
      "Epoch 22/50: 100%|██████████| 155/155 [00:08<00:00, 18.27it/s]\n"
     ]
    },
    {
     "name": "stdout",
     "output_type": "stream",
     "text": [
      "Epoch 22 | Train Loss: 4.9489 | Val Loss: 4.8879\n",
      " Model saved to lstm_0_1744851828.pt\n"
     ]
    },
    {
     "name": "stderr",
     "output_type": "stream",
     "text": [
      "Epoch 23/50: 100%|██████████| 155/155 [00:08<00:00, 18.26it/s]\n"
     ]
    },
    {
     "name": "stdout",
     "output_type": "stream",
     "text": [
      "Epoch 23 | Train Loss: 4.9287 | Val Loss: 4.8691\n",
      " Model saved to lstm_0_1744851828.pt\n"
     ]
    },
    {
     "name": "stderr",
     "output_type": "stream",
     "text": [
      "Epoch 24/50: 100%|██████████| 155/155 [00:08<00:00, 18.27it/s]\n"
     ]
    },
    {
     "name": "stdout",
     "output_type": "stream",
     "text": [
      "Epoch 24 | Train Loss: 4.9098 | Val Loss: 4.8513\n",
      " Model saved to lstm_0_1744851828.pt\n"
     ]
    },
    {
     "name": "stderr",
     "output_type": "stream",
     "text": [
      "Epoch 25/50: 100%|██████████| 155/155 [00:08<00:00, 17.95it/s]\n"
     ]
    },
    {
     "name": "stdout",
     "output_type": "stream",
     "text": [
      "Epoch 25 | Train Loss: 4.8912 | Val Loss: 4.8353\n",
      " Model saved to lstm_0_1744851828.pt\n"
     ]
    },
    {
     "name": "stderr",
     "output_type": "stream",
     "text": [
      "Epoch 26/50: 100%|██████████| 155/155 [00:08<00:00, 18.28it/s]\n"
     ]
    },
    {
     "name": "stdout",
     "output_type": "stream",
     "text": [
      "Epoch 26 | Train Loss: 4.8739 | Val Loss: 4.8209\n",
      " Model saved to lstm_0_1744851828.pt\n"
     ]
    },
    {
     "name": "stderr",
     "output_type": "stream",
     "text": [
      "Epoch 27/50: 100%|██████████| 155/155 [00:08<00:00, 18.28it/s]\n"
     ]
    },
    {
     "name": "stdout",
     "output_type": "stream",
     "text": [
      "Epoch 27 | Train Loss: 4.8567 | Val Loss: 4.8053\n",
      " Model saved to lstm_0_1744851828.pt\n"
     ]
    },
    {
     "name": "stderr",
     "output_type": "stream",
     "text": [
      "Epoch 28/50: 100%|██████████| 155/155 [00:08<00:00, 18.27it/s]\n"
     ]
    },
    {
     "name": "stdout",
     "output_type": "stream",
     "text": [
      "Epoch 28 | Train Loss: 4.8415 | Val Loss: 4.7927\n",
      " Model saved to lstm_0_1744851828.pt\n"
     ]
    },
    {
     "name": "stderr",
     "output_type": "stream",
     "text": [
      "Epoch 29/50: 100%|██████████| 155/155 [00:08<00:00, 18.26it/s]\n"
     ]
    },
    {
     "name": "stdout",
     "output_type": "stream",
     "text": [
      "Epoch 29 | Train Loss: 4.8276 | Val Loss: 4.7795\n",
      " Model saved to lstm_0_1744851828.pt\n"
     ]
    },
    {
     "name": "stderr",
     "output_type": "stream",
     "text": [
      "Epoch 30/50: 100%|██████████| 155/155 [00:08<00:00, 18.27it/s]\n"
     ]
    },
    {
     "name": "stdout",
     "output_type": "stream",
     "text": [
      "Epoch 30 | Train Loss: 4.8115 | Val Loss: 4.7659\n",
      " Model saved to lstm_0_1744851828.pt\n"
     ]
    },
    {
     "name": "stderr",
     "output_type": "stream",
     "text": [
      "Epoch 31/50: 100%|██████████| 155/155 [00:08<00:00, 18.27it/s]\n"
     ]
    },
    {
     "name": "stdout",
     "output_type": "stream",
     "text": [
      "Epoch 31 | Train Loss: 4.7985 | Val Loss: 4.7560\n",
      " Model saved to lstm_0_1744851828.pt\n"
     ]
    },
    {
     "name": "stderr",
     "output_type": "stream",
     "text": [
      "Epoch 32/50: 100%|██████████| 155/155 [00:08<00:00, 18.27it/s]\n"
     ]
    },
    {
     "name": "stdout",
     "output_type": "stream",
     "text": [
      "Epoch 32 | Train Loss: 4.7849 | Val Loss: 4.7454\n",
      " Model saved to lstm_0_1744851828.pt\n"
     ]
    },
    {
     "name": "stderr",
     "output_type": "stream",
     "text": [
      "Epoch 33/50: 100%|██████████| 155/155 [00:08<00:00, 18.28it/s]\n"
     ]
    },
    {
     "name": "stdout",
     "output_type": "stream",
     "text": [
      "Epoch 33 | Train Loss: 4.7716 | Val Loss: 4.7343\n",
      " Model saved to lstm_0_1744851828.pt\n"
     ]
    },
    {
     "name": "stderr",
     "output_type": "stream",
     "text": [
      "Epoch 34/50: 100%|██████████| 155/155 [00:08<00:00, 18.26it/s]\n"
     ]
    },
    {
     "name": "stdout",
     "output_type": "stream",
     "text": [
      "Epoch 34 | Train Loss: 4.7602 | Val Loss: 4.7243\n",
      " Model saved to lstm_0_1744851828.pt\n"
     ]
    },
    {
     "name": "stderr",
     "output_type": "stream",
     "text": [
      "Epoch 35/50: 100%|██████████| 155/155 [00:08<00:00, 18.26it/s]\n"
     ]
    },
    {
     "name": "stdout",
     "output_type": "stream",
     "text": [
      "Epoch 35 | Train Loss: 4.7484 | Val Loss: 4.7148\n",
      " Model saved to lstm_0_1744851828.pt\n"
     ]
    },
    {
     "name": "stderr",
     "output_type": "stream",
     "text": [
      "Epoch 36/50: 100%|██████████| 155/155 [00:08<00:00, 18.27it/s]\n"
     ]
    },
    {
     "name": "stdout",
     "output_type": "stream",
     "text": [
      "Epoch 36 | Train Loss: 4.7362 | Val Loss: 4.7055\n",
      " Model saved to lstm_0_1744851828.pt\n"
     ]
    },
    {
     "name": "stderr",
     "output_type": "stream",
     "text": [
      "Epoch 37/50: 100%|██████████| 155/155 [00:08<00:00, 18.26it/s]\n"
     ]
    },
    {
     "name": "stdout",
     "output_type": "stream",
     "text": [
      "Epoch 37 | Train Loss: 4.7261 | Val Loss: 4.6975\n",
      " Model saved to lstm_0_1744851828.pt\n"
     ]
    },
    {
     "name": "stderr",
     "output_type": "stream",
     "text": [
      "Epoch 38/50: 100%|██████████| 155/155 [00:08<00:00, 18.27it/s]\n"
     ]
    },
    {
     "name": "stdout",
     "output_type": "stream",
     "text": [
      "Epoch 38 | Train Loss: 4.7151 | Val Loss: 4.6880\n",
      " Model saved to lstm_0_1744851828.pt\n"
     ]
    },
    {
     "name": "stderr",
     "output_type": "stream",
     "text": [
      "Epoch 39/50: 100%|██████████| 155/155 [00:08<00:00, 18.26it/s]\n"
     ]
    },
    {
     "name": "stdout",
     "output_type": "stream",
     "text": [
      "Epoch 39 | Train Loss: 4.7048 | Val Loss: 4.6805\n",
      " Model saved to lstm_0_1744851828.pt\n"
     ]
    },
    {
     "name": "stderr",
     "output_type": "stream",
     "text": [
      "Epoch 40/50: 100%|██████████| 155/155 [00:08<00:00, 17.95it/s]\n"
     ]
    },
    {
     "name": "stdout",
     "output_type": "stream",
     "text": [
      "Epoch 40 | Train Loss: 4.6952 | Val Loss: 4.6724\n",
      " Model saved to lstm_0_1744851828.pt\n"
     ]
    },
    {
     "name": "stderr",
     "output_type": "stream",
     "text": [
      "Epoch 41/50: 100%|██████████| 155/155 [00:08<00:00, 18.26it/s]\n"
     ]
    },
    {
     "name": "stdout",
     "output_type": "stream",
     "text": [
      "Epoch 41 | Train Loss: 4.6851 | Val Loss: 4.6655\n",
      " Model saved to lstm_0_1744851828.pt\n"
     ]
    },
    {
     "name": "stderr",
     "output_type": "stream",
     "text": [
      "Epoch 42/50: 100%|██████████| 155/155 [00:08<00:00, 18.27it/s]\n"
     ]
    },
    {
     "name": "stdout",
     "output_type": "stream",
     "text": [
      "Epoch 42 | Train Loss: 4.6759 | Val Loss: 4.6610\n",
      " Model saved to lstm_0_1744851828.pt\n"
     ]
    },
    {
     "name": "stderr",
     "output_type": "stream",
     "text": [
      "Epoch 43/50: 100%|██████████| 155/155 [00:08<00:00, 18.26it/s]\n"
     ]
    },
    {
     "name": "stdout",
     "output_type": "stream",
     "text": [
      "Epoch 43 | Train Loss: 4.6662 | Val Loss: 4.6515\n",
      " Model saved to lstm_0_1744851828.pt\n"
     ]
    },
    {
     "name": "stderr",
     "output_type": "stream",
     "text": [
      "Epoch 44/50: 100%|██████████| 155/155 [00:08<00:00, 18.26it/s]\n"
     ]
    },
    {
     "name": "stdout",
     "output_type": "stream",
     "text": [
      "Epoch 44 | Train Loss: 4.6581 | Val Loss: 4.6465\n",
      " Model saved to lstm_0_1744851828.pt\n"
     ]
    },
    {
     "name": "stderr",
     "output_type": "stream",
     "text": [
      "Epoch 45/50: 100%|██████████| 155/155 [00:08<00:00, 18.27it/s]\n"
     ]
    },
    {
     "name": "stdout",
     "output_type": "stream",
     "text": [
      "Epoch 45 | Train Loss: 4.6489 | Val Loss: 4.6401\n",
      " Model saved to lstm_0_1744851828.pt\n"
     ]
    },
    {
     "name": "stderr",
     "output_type": "stream",
     "text": [
      "Epoch 46/50: 100%|██████████| 155/155 [00:08<00:00, 18.26it/s]\n"
     ]
    },
    {
     "name": "stdout",
     "output_type": "stream",
     "text": [
      "Epoch 46 | Train Loss: 4.6413 | Val Loss: 4.6342\n",
      " Model saved to lstm_0_1744851828.pt\n"
     ]
    },
    {
     "name": "stderr",
     "output_type": "stream",
     "text": [
      "Epoch 47/50: 100%|██████████| 155/155 [00:08<00:00, 18.27it/s]\n"
     ]
    },
    {
     "name": "stdout",
     "output_type": "stream",
     "text": [
      "Epoch 47 | Train Loss: 4.6327 | Val Loss: 4.6273\n",
      " Model saved to lstm_0_1744851828.pt\n"
     ]
    },
    {
     "name": "stderr",
     "output_type": "stream",
     "text": [
      "Epoch 48/50: 100%|██████████| 155/155 [00:08<00:00, 17.95it/s]\n"
     ]
    },
    {
     "name": "stdout",
     "output_type": "stream",
     "text": [
      "Epoch 48 | Train Loss: 4.6248 | Val Loss: 4.6231\n",
      " Model saved to lstm_0_1744851828.pt\n"
     ]
    },
    {
     "name": "stderr",
     "output_type": "stream",
     "text": [
      "Epoch 49/50: 100%|██████████| 155/155 [00:08<00:00, 18.26it/s]\n"
     ]
    },
    {
     "name": "stdout",
     "output_type": "stream",
     "text": [
      "Epoch 49 | Train Loss: 4.6178 | Val Loss: 4.6168\n",
      " Model saved to lstm_0_1744851828.pt\n"
     ]
    },
    {
     "name": "stderr",
     "output_type": "stream",
     "text": [
      "Epoch 50/50: 100%|██████████| 155/155 [00:08<00:00, 18.27it/s]\n"
     ]
    },
    {
     "name": "stdout",
     "output_type": "stream",
     "text": [
      "Epoch 50 | Train Loss: 4.6097 | Val Loss: 4.6122\n",
      " Model saved to lstm_0_1744851828.pt\n",
      "📈 Saved loss curve as: LSTMLanguageModel_loss_curve_20250416_201142.png\n",
      "\n",
      " Test Perplexity: 100.7093\n",
      " Average BLEU Score: 0.0128\n",
      "\n",
      " Training lstm_1_1744852306 with config: {'embed_dim': 256, 'hidden_dim': 512, 'num_layers': 3, 'lr': 0.0001}\n"
     ]
    },
    {
     "name": "stderr",
     "output_type": "stream",
     "text": [
      "Epoch 1/50: 100%|██████████| 155/155 [00:14<00:00, 10.45it/s]\n"
     ]
    },
    {
     "name": "stdout",
     "output_type": "stream",
     "text": [
      "Epoch 1 | Train Loss: 7.3688 | Val Loss: 6.8272\n",
      " Model saved to lstm_1_1744852306.pt\n"
     ]
    },
    {
     "name": "stderr",
     "output_type": "stream",
     "text": [
      "Epoch 2/50: 100%|██████████| 155/155 [00:14<00:00, 10.46it/s]\n"
     ]
    },
    {
     "name": "stdout",
     "output_type": "stream",
     "text": [
      "Epoch 2 | Train Loss: 6.8766 | Val Loss: 6.8185\n",
      " Model saved to lstm_1_1744852306.pt\n"
     ]
    },
    {
     "name": "stderr",
     "output_type": "stream",
     "text": [
      "Epoch 3/50: 100%|██████████| 155/155 [00:14<00:00, 10.42it/s]\n"
     ]
    },
    {
     "name": "stdout",
     "output_type": "stream",
     "text": [
      "Epoch 3 | Train Loss: 6.8600 | Val Loss: 6.8112\n",
      " Model saved to lstm_1_1744852306.pt\n"
     ]
    },
    {
     "name": "stderr",
     "output_type": "stream",
     "text": [
      "Epoch 4/50: 100%|██████████| 155/155 [00:14<00:00, 10.45it/s]\n"
     ]
    },
    {
     "name": "stdout",
     "output_type": "stream",
     "text": [
      "Epoch 4 | Train Loss: 6.8455 | Val Loss: 6.7987\n",
      " Model saved to lstm_1_1744852306.pt\n"
     ]
    },
    {
     "name": "stderr",
     "output_type": "stream",
     "text": [
      "Epoch 5/50: 100%|██████████| 155/155 [00:15<00:00, 10.32it/s]\n"
     ]
    },
    {
     "name": "stdout",
     "output_type": "stream",
     "text": [
      "Epoch 5 | Train Loss: 6.8020 | Val Loss: 6.7159\n",
      " Model saved to lstm_1_1744852306.pt\n"
     ]
    },
    {
     "name": "stderr",
     "output_type": "stream",
     "text": [
      "Epoch 6/50: 100%|██████████| 155/155 [00:14<00:00, 10.44it/s]\n"
     ]
    },
    {
     "name": "stdout",
     "output_type": "stream",
     "text": [
      "Epoch 6 | Train Loss: 6.6898 | Val Loss: 6.6016\n",
      " Model saved to lstm_1_1744852306.pt\n"
     ]
    },
    {
     "name": "stderr",
     "output_type": "stream",
     "text": [
      "Epoch 7/50: 100%|██████████| 155/155 [00:14<00:00, 10.41it/s]\n"
     ]
    },
    {
     "name": "stdout",
     "output_type": "stream",
     "text": [
      "Epoch 7 | Train Loss: 6.5899 | Val Loss: 6.5088\n",
      " Model saved to lstm_1_1744852306.pt\n"
     ]
    },
    {
     "name": "stderr",
     "output_type": "stream",
     "text": [
      "Epoch 8/50: 100%|██████████| 155/155 [00:14<00:00, 10.39it/s]\n"
     ]
    },
    {
     "name": "stdout",
     "output_type": "stream",
     "text": [
      "Epoch 8 | Train Loss: 6.4906 | Val Loss: 6.3938\n",
      " Model saved to lstm_1_1744852306.pt\n"
     ]
    },
    {
     "name": "stderr",
     "output_type": "stream",
     "text": [
      "Epoch 9/50: 100%|██████████| 155/155 [00:14<00:00, 10.43it/s]\n"
     ]
    },
    {
     "name": "stdout",
     "output_type": "stream",
     "text": [
      "Epoch 9 | Train Loss: 6.3626 | Val Loss: 6.2579\n",
      " Model saved to lstm_1_1744852306.pt\n"
     ]
    },
    {
     "name": "stderr",
     "output_type": "stream",
     "text": [
      "Epoch 10/50: 100%|██████████| 155/155 [00:14<00:00, 10.39it/s]\n"
     ]
    },
    {
     "name": "stdout",
     "output_type": "stream",
     "text": [
      "Epoch 10 | Train Loss: 6.2390 | Val Loss: 6.1495\n",
      " Model saved to lstm_1_1744852306.pt\n"
     ]
    },
    {
     "name": "stderr",
     "output_type": "stream",
     "text": [
      "Epoch 11/50: 100%|██████████| 155/155 [00:14<00:00, 10.41it/s]\n"
     ]
    },
    {
     "name": "stdout",
     "output_type": "stream",
     "text": [
      "Epoch 11 | Train Loss: 6.1396 | Val Loss: 6.0549\n",
      " Model saved to lstm_1_1744852306.pt\n"
     ]
    },
    {
     "name": "stderr",
     "output_type": "stream",
     "text": [
      "Epoch 12/50: 100%|██████████| 155/155 [00:14<00:00, 10.39it/s]\n"
     ]
    },
    {
     "name": "stdout",
     "output_type": "stream",
     "text": [
      "Epoch 12 | Train Loss: 6.0512 | Val Loss: 5.9713\n",
      " Model saved to lstm_1_1744852306.pt\n"
     ]
    },
    {
     "name": "stderr",
     "output_type": "stream",
     "text": [
      "Epoch 13/50: 100%|██████████| 155/155 [00:14<00:00, 10.42it/s]\n"
     ]
    },
    {
     "name": "stdout",
     "output_type": "stream",
     "text": [
      "Epoch 13 | Train Loss: 5.9761 | Val Loss: 5.9035\n",
      " Model saved to lstm_1_1744852306.pt\n"
     ]
    },
    {
     "name": "stderr",
     "output_type": "stream",
     "text": [
      "Epoch 14/50: 100%|██████████| 155/155 [00:14<00:00, 10.39it/s]\n"
     ]
    },
    {
     "name": "stdout",
     "output_type": "stream",
     "text": [
      "Epoch 14 | Train Loss: 5.9138 | Val Loss: 5.8451\n",
      " Model saved to lstm_1_1744852306.pt\n"
     ]
    },
    {
     "name": "stderr",
     "output_type": "stream",
     "text": [
      "Epoch 15/50: 100%|██████████| 155/155 [00:14<00:00, 10.39it/s]\n"
     ]
    },
    {
     "name": "stdout",
     "output_type": "stream",
     "text": [
      "Epoch 15 | Train Loss: 5.8598 | Val Loss: 5.7945\n",
      " Model saved to lstm_1_1744852306.pt\n"
     ]
    },
    {
     "name": "stderr",
     "output_type": "stream",
     "text": [
      "Epoch 16/50: 100%|██████████| 155/155 [00:14<00:00, 10.42it/s]\n"
     ]
    },
    {
     "name": "stdout",
     "output_type": "stream",
     "text": [
      "Epoch 16 | Train Loss: 5.8123 | Val Loss: 5.7505\n",
      " Model saved to lstm_1_1744852306.pt\n"
     ]
    },
    {
     "name": "stderr",
     "output_type": "stream",
     "text": [
      "Epoch 17/50: 100%|██████████| 155/155 [00:14<00:00, 10.42it/s]\n"
     ]
    },
    {
     "name": "stdout",
     "output_type": "stream",
     "text": [
      "Epoch 17 | Train Loss: 5.7693 | Val Loss: 5.7096\n",
      " Model saved to lstm_1_1744852306.pt\n"
     ]
    },
    {
     "name": "stderr",
     "output_type": "stream",
     "text": [
      "Epoch 18/50: 100%|██████████| 155/155 [00:14<00:00, 10.39it/s]\n"
     ]
    },
    {
     "name": "stdout",
     "output_type": "stream",
     "text": [
      "Epoch 18 | Train Loss: 5.7307 | Val Loss: 5.6726\n",
      " Model saved to lstm_1_1744852306.pt\n"
     ]
    },
    {
     "name": "stderr",
     "output_type": "stream",
     "text": [
      "Epoch 19/50: 100%|██████████| 155/155 [00:14<00:00, 10.42it/s]\n"
     ]
    },
    {
     "name": "stdout",
     "output_type": "stream",
     "text": [
      "Epoch 19 | Train Loss: 5.6955 | Val Loss: 5.6398\n",
      " Model saved to lstm_1_1744852306.pt\n"
     ]
    },
    {
     "name": "stderr",
     "output_type": "stream",
     "text": [
      "Epoch 20/50: 100%|██████████| 155/155 [00:15<00:00, 10.31it/s]\n"
     ]
    },
    {
     "name": "stdout",
     "output_type": "stream",
     "text": [
      "Epoch 20 | Train Loss: 5.6626 | Val Loss: 5.6099\n",
      " Model saved to lstm_1_1744852306.pt\n"
     ]
    },
    {
     "name": "stderr",
     "output_type": "stream",
     "text": [
      "Epoch 21/50: 100%|██████████| 155/155 [00:14<00:00, 10.42it/s]\n"
     ]
    },
    {
     "name": "stdout",
     "output_type": "stream",
     "text": [
      "Epoch 21 | Train Loss: 5.6327 | Val Loss: 5.5799\n",
      " Model saved to lstm_1_1744852306.pt\n"
     ]
    },
    {
     "name": "stderr",
     "output_type": "stream",
     "text": [
      "Epoch 22/50: 100%|██████████| 155/155 [00:14<00:00, 10.34it/s]\n"
     ]
    },
    {
     "name": "stdout",
     "output_type": "stream",
     "text": [
      "Epoch 22 | Train Loss: 5.6036 | Val Loss: 5.5522\n",
      " Model saved to lstm_1_1744852306.pt\n"
     ]
    },
    {
     "name": "stderr",
     "output_type": "stream",
     "text": [
      "Epoch 23/50: 100%|██████████| 155/155 [00:14<00:00, 10.42it/s]\n"
     ]
    },
    {
     "name": "stdout",
     "output_type": "stream",
     "text": [
      "Epoch 23 | Train Loss: 5.5766 | Val Loss: 5.5265\n",
      " Model saved to lstm_1_1744852306.pt\n"
     ]
    },
    {
     "name": "stderr",
     "output_type": "stream",
     "text": [
      "Epoch 24/50: 100%|██████████| 155/155 [00:14<00:00, 10.40it/s]\n"
     ]
    },
    {
     "name": "stdout",
     "output_type": "stream",
     "text": [
      "Epoch 24 | Train Loss: 5.5509 | Val Loss: 5.5019\n",
      " Model saved to lstm_1_1744852306.pt\n"
     ]
    },
    {
     "name": "stderr",
     "output_type": "stream",
     "text": [
      "Epoch 25/50: 100%|██████████| 155/155 [00:14<00:00, 10.40it/s]\n"
     ]
    },
    {
     "name": "stdout",
     "output_type": "stream",
     "text": [
      "Epoch 25 | Train Loss: 5.5255 | Val Loss: 5.4777\n",
      " Model saved to lstm_1_1744852306.pt\n"
     ]
    },
    {
     "name": "stderr",
     "output_type": "stream",
     "text": [
      "Epoch 26/50: 100%|██████████| 155/155 [00:14<00:00, 10.40it/s]\n"
     ]
    },
    {
     "name": "stdout",
     "output_type": "stream",
     "text": [
      "Epoch 26 | Train Loss: 5.5011 | Val Loss: 5.4542\n",
      " Model saved to lstm_1_1744852306.pt\n"
     ]
    },
    {
     "name": "stderr",
     "output_type": "stream",
     "text": [
      "Epoch 27/50: 100%|██████████| 155/155 [00:14<00:00, 10.40it/s]\n"
     ]
    },
    {
     "name": "stdout",
     "output_type": "stream",
     "text": [
      "Epoch 27 | Train Loss: 5.4773 | Val Loss: 5.4313\n",
      " Model saved to lstm_1_1744852306.pt\n"
     ]
    },
    {
     "name": "stderr",
     "output_type": "stream",
     "text": [
      "Epoch 28/50: 100%|██████████| 155/155 [00:15<00:00, 10.31it/s]\n"
     ]
    },
    {
     "name": "stdout",
     "output_type": "stream",
     "text": [
      "Epoch 28 | Train Loss: 5.4545 | Val Loss: 5.4123\n",
      " Model saved to lstm_1_1744852306.pt\n"
     ]
    },
    {
     "name": "stderr",
     "output_type": "stream",
     "text": [
      "Epoch 29/50: 100%|██████████| 155/155 [00:14<00:00, 10.40it/s]\n"
     ]
    },
    {
     "name": "stdout",
     "output_type": "stream",
     "text": [
      "Epoch 29 | Train Loss: 5.4331 | Val Loss: 5.3903\n",
      " Model saved to lstm_1_1744852306.pt\n"
     ]
    },
    {
     "name": "stderr",
     "output_type": "stream",
     "text": [
      "Epoch 30/50: 100%|██████████| 155/155 [00:14<00:00, 10.39it/s]\n"
     ]
    },
    {
     "name": "stdout",
     "output_type": "stream",
     "text": [
      "Epoch 30 | Train Loss: 5.4119 | Val Loss: 5.3693\n",
      " Model saved to lstm_1_1744852306.pt\n"
     ]
    },
    {
     "name": "stderr",
     "output_type": "stream",
     "text": [
      "Epoch 31/50: 100%|██████████| 155/155 [00:14<00:00, 10.39it/s]\n"
     ]
    },
    {
     "name": "stdout",
     "output_type": "stream",
     "text": [
      "Epoch 31 | Train Loss: 5.3912 | Val Loss: 5.3510\n",
      " Model saved to lstm_1_1744852306.pt\n"
     ]
    },
    {
     "name": "stderr",
     "output_type": "stream",
     "text": [
      "Epoch 32/50: 100%|██████████| 155/155 [00:14<00:00, 10.42it/s]\n"
     ]
    },
    {
     "name": "stdout",
     "output_type": "stream",
     "text": [
      "Epoch 32 | Train Loss: 5.3720 | Val Loss: 5.3334\n",
      " Model saved to lstm_1_1744852306.pt\n"
     ]
    },
    {
     "name": "stderr",
     "output_type": "stream",
     "text": [
      "Epoch 33/50: 100%|██████████| 155/155 [00:14<00:00, 10.39it/s]\n"
     ]
    },
    {
     "name": "stdout",
     "output_type": "stream",
     "text": [
      "Epoch 33 | Train Loss: 5.3535 | Val Loss: 5.3171\n",
      " Model saved to lstm_1_1744852306.pt\n"
     ]
    },
    {
     "name": "stderr",
     "output_type": "stream",
     "text": [
      "Epoch 34/50: 100%|██████████| 155/155 [00:14<00:00, 10.39it/s]\n"
     ]
    },
    {
     "name": "stdout",
     "output_type": "stream",
     "text": [
      "Epoch 34 | Train Loss: 5.3355 | Val Loss: 5.3002\n",
      " Model saved to lstm_1_1744852306.pt\n"
     ]
    },
    {
     "name": "stderr",
     "output_type": "stream",
     "text": [
      "Epoch 35/50: 100%|██████████| 155/155 [00:14<00:00, 10.42it/s]\n"
     ]
    },
    {
     "name": "stdout",
     "output_type": "stream",
     "text": [
      "Epoch 35 | Train Loss: 5.3182 | Val Loss: 5.2843\n",
      " Model saved to lstm_1_1744852306.pt\n"
     ]
    },
    {
     "name": "stderr",
     "output_type": "stream",
     "text": [
      "Epoch 36/50: 100%|██████████| 155/155 [00:14<00:00, 10.39it/s]\n"
     ]
    },
    {
     "name": "stdout",
     "output_type": "stream",
     "text": [
      "Epoch 36 | Train Loss: 5.3012 | Val Loss: 5.2680\n",
      " Model saved to lstm_1_1744852306.pt\n"
     ]
    },
    {
     "name": "stderr",
     "output_type": "stream",
     "text": [
      "Epoch 37/50: 100%|██████████| 155/155 [00:14<00:00, 10.39it/s]\n"
     ]
    },
    {
     "name": "stdout",
     "output_type": "stream",
     "text": [
      "Epoch 37 | Train Loss: 5.2853 | Val Loss: 5.2535\n",
      " Model saved to lstm_1_1744852306.pt\n"
     ]
    },
    {
     "name": "stderr",
     "output_type": "stream",
     "text": [
      "Epoch 38/50: 100%|██████████| 155/155 [00:14<00:00, 10.41it/s]\n"
     ]
    },
    {
     "name": "stdout",
     "output_type": "stream",
     "text": [
      "Epoch 38 | Train Loss: 5.2699 | Val Loss: 5.2400\n",
      " Model saved to lstm_1_1744852306.pt\n"
     ]
    },
    {
     "name": "stderr",
     "output_type": "stream",
     "text": [
      "Epoch 39/50: 100%|██████████| 155/155 [00:14<00:00, 10.39it/s]\n"
     ]
    },
    {
     "name": "stdout",
     "output_type": "stream",
     "text": [
      "Epoch 39 | Train Loss: 5.2545 | Val Loss: 5.2275\n",
      " Model saved to lstm_1_1744852306.pt\n"
     ]
    },
    {
     "name": "stderr",
     "output_type": "stream",
     "text": [
      "Epoch 40/50: 100%|██████████| 155/155 [00:14<00:00, 10.42it/s]\n"
     ]
    },
    {
     "name": "stdout",
     "output_type": "stream",
     "text": [
      "Epoch 40 | Train Loss: 5.2402 | Val Loss: 5.2132\n",
      " Model saved to lstm_1_1744852306.pt\n"
     ]
    },
    {
     "name": "stderr",
     "output_type": "stream",
     "text": [
      "Epoch 41/50: 100%|██████████| 155/155 [00:14<00:00, 10.39it/s]\n"
     ]
    },
    {
     "name": "stdout",
     "output_type": "stream",
     "text": [
      "Epoch 41 | Train Loss: 5.2258 | Val Loss: 5.2012\n",
      " Model saved to lstm_1_1744852306.pt\n"
     ]
    },
    {
     "name": "stderr",
     "output_type": "stream",
     "text": [
      "Epoch 42/50: 100%|██████████| 155/155 [00:14<00:00, 10.42it/s]\n"
     ]
    },
    {
     "name": "stdout",
     "output_type": "stream",
     "text": [
      "Epoch 42 | Train Loss: 5.2122 | Val Loss: 5.1888\n",
      " Model saved to lstm_1_1744852306.pt\n"
     ]
    },
    {
     "name": "stderr",
     "output_type": "stream",
     "text": [
      "Epoch 43/50: 100%|██████████| 155/155 [00:15<00:00, 10.28it/s]\n"
     ]
    },
    {
     "name": "stdout",
     "output_type": "stream",
     "text": [
      "Epoch 43 | Train Loss: 5.1993 | Val Loss: 5.1780\n",
      " Model saved to lstm_1_1744852306.pt\n"
     ]
    },
    {
     "name": "stderr",
     "output_type": "stream",
     "text": [
      "Epoch 44/50: 100%|██████████| 155/155 [00:14<00:00, 10.39it/s]\n"
     ]
    },
    {
     "name": "stdout",
     "output_type": "stream",
     "text": [
      "Epoch 44 | Train Loss: 5.1863 | Val Loss: 5.1648\n",
      " Model saved to lstm_1_1744852306.pt\n"
     ]
    },
    {
     "name": "stderr",
     "output_type": "stream",
     "text": [
      "Epoch 45/50: 100%|██████████| 155/155 [00:14<00:00, 10.39it/s]\n"
     ]
    },
    {
     "name": "stdout",
     "output_type": "stream",
     "text": [
      "Epoch 45 | Train Loss: 5.1735 | Val Loss: 5.1555\n",
      " Model saved to lstm_1_1744852306.pt\n"
     ]
    },
    {
     "name": "stderr",
     "output_type": "stream",
     "text": [
      "Epoch 46/50: 100%|██████████| 155/155 [00:14<00:00, 10.38it/s]\n"
     ]
    },
    {
     "name": "stdout",
     "output_type": "stream",
     "text": [
      "Epoch 46 | Train Loss: 5.1609 | Val Loss: 5.1435\n",
      " Model saved to lstm_1_1744852306.pt\n"
     ]
    },
    {
     "name": "stderr",
     "output_type": "stream",
     "text": [
      "Epoch 47/50: 100%|██████████| 155/155 [00:14<00:00, 10.39it/s]\n"
     ]
    },
    {
     "name": "stdout",
     "output_type": "stream",
     "text": [
      "Epoch 47 | Train Loss: 5.1492 | Val Loss: 5.1331\n",
      " Model saved to lstm_1_1744852306.pt\n"
     ]
    },
    {
     "name": "stderr",
     "output_type": "stream",
     "text": [
      "Epoch 48/50: 100%|██████████| 155/155 [00:14<00:00, 10.42it/s]\n"
     ]
    },
    {
     "name": "stdout",
     "output_type": "stream",
     "text": [
      "Epoch 48 | Train Loss: 5.1369 | Val Loss: 5.1234\n",
      " Model saved to lstm_1_1744852306.pt\n"
     ]
    },
    {
     "name": "stderr",
     "output_type": "stream",
     "text": [
      "Epoch 49/50: 100%|██████████| 155/155 [00:14<00:00, 10.39it/s]\n"
     ]
    },
    {
     "name": "stdout",
     "output_type": "stream",
     "text": [
      "Epoch 49 | Train Loss: 5.1258 | Val Loss: 5.1135\n",
      " Model saved to lstm_1_1744852306.pt\n"
     ]
    },
    {
     "name": "stderr",
     "output_type": "stream",
     "text": [
      "Epoch 50/50: 100%|██████████| 155/155 [00:14<00:00, 10.39it/s]\n"
     ]
    },
    {
     "name": "stdout",
     "output_type": "stream",
     "text": [
      "Epoch 50 | Train Loss: 5.1144 | Val Loss: 5.1030\n",
      " Model saved to lstm_1_1744852306.pt\n",
      "📈 Saved loss curve as: LSTMLanguageModel_loss_curve_20250416_202530.png\n",
      "\n",
      " Test Perplexity: 164.5215\n",
      " Average BLEU Score: 0.0099\n",
      "\n",
      " Training rnn_0_1744853135 with config: {'embed_dim': 128, 'hidden_dim': 128, 'num_layers': 2, 'lr': 0.001}\n"
     ]
    },
    {
     "name": "stderr",
     "output_type": "stream",
     "text": [
      "Epoch 1/50: 100%|██████████| 155/155 [00:05<00:00, 28.90it/s]\n"
     ]
    },
    {
     "name": "stdout",
     "output_type": "stream",
     "text": [
      "Epoch 1 | Train Loss: 7.0825 | Val Loss: 6.6578\n",
      " Model saved to rnn_0_1744853135.pt\n"
     ]
    },
    {
     "name": "stderr",
     "output_type": "stream",
     "text": [
      "Epoch 2/50: 100%|██████████| 155/155 [00:05<00:00, 29.75it/s]\n"
     ]
    },
    {
     "name": "stdout",
     "output_type": "stream",
     "text": [
      "Epoch 2 | Train Loss: 6.4342 | Val Loss: 6.0911\n",
      " Model saved to rnn_0_1744853135.pt\n"
     ]
    },
    {
     "name": "stderr",
     "output_type": "stream",
     "text": [
      "Epoch 3/50: 100%|██████████| 155/155 [00:05<00:00, 29.79it/s]\n"
     ]
    },
    {
     "name": "stdout",
     "output_type": "stream",
     "text": [
      "Epoch 3 | Train Loss: 5.9940 | Val Loss: 5.7600\n",
      " Model saved to rnn_0_1744853135.pt\n"
     ]
    },
    {
     "name": "stderr",
     "output_type": "stream",
     "text": [
      "Epoch 4/50: 100%|██████████| 155/155 [00:05<00:00, 29.78it/s]\n"
     ]
    },
    {
     "name": "stdout",
     "output_type": "stream",
     "text": [
      "Epoch 4 | Train Loss: 5.7612 | Val Loss: 5.5973\n",
      " Model saved to rnn_0_1744853135.pt\n"
     ]
    },
    {
     "name": "stderr",
     "output_type": "stream",
     "text": [
      "Epoch 5/50: 100%|██████████| 155/155 [00:05<00:00, 29.78it/s]\n"
     ]
    },
    {
     "name": "stdout",
     "output_type": "stream",
     "text": [
      "Epoch 5 | Train Loss: 5.6389 | Val Loss: 5.4972\n",
      " Model saved to rnn_0_1744853135.pt\n"
     ]
    },
    {
     "name": "stderr",
     "output_type": "stream",
     "text": [
      "Epoch 6/50: 100%|██████████| 155/155 [00:05<00:00, 29.76it/s]\n"
     ]
    },
    {
     "name": "stdout",
     "output_type": "stream",
     "text": [
      "Epoch 6 | Train Loss: 5.5586 | Val Loss: 5.4250\n",
      " Model saved to rnn_0_1744853135.pt\n"
     ]
    },
    {
     "name": "stderr",
     "output_type": "stream",
     "text": [
      "Epoch 7/50: 100%|██████████| 155/155 [00:05<00:00, 29.78it/s]\n"
     ]
    },
    {
     "name": "stdout",
     "output_type": "stream",
     "text": [
      "Epoch 7 | Train Loss: 5.4958 | Val Loss: 5.3662\n",
      " Model saved to rnn_0_1744853135.pt\n"
     ]
    },
    {
     "name": "stderr",
     "output_type": "stream",
     "text": [
      "Epoch 8/50: 100%|██████████| 155/155 [00:05<00:00, 28.95it/s]\n"
     ]
    },
    {
     "name": "stdout",
     "output_type": "stream",
     "text": [
      "Epoch 8 | Train Loss: 5.4484 | Val Loss: 5.3210\n",
      " Model saved to rnn_0_1744853135.pt\n"
     ]
    },
    {
     "name": "stderr",
     "output_type": "stream",
     "text": [
      "Epoch 9/50: 100%|██████████| 155/155 [00:05<00:00, 29.77it/s]\n"
     ]
    },
    {
     "name": "stdout",
     "output_type": "stream",
     "text": [
      "Epoch 9 | Train Loss: 5.4080 | Val Loss: 5.2814\n",
      " Model saved to rnn_0_1744853135.pt\n"
     ]
    },
    {
     "name": "stderr",
     "output_type": "stream",
     "text": [
      "Epoch 10/50: 100%|██████████| 155/155 [00:05<00:00, 29.77it/s]\n"
     ]
    },
    {
     "name": "stdout",
     "output_type": "stream",
     "text": [
      "Epoch 10 | Train Loss: 5.3741 | Val Loss: 5.2468\n",
      " Model saved to rnn_0_1744853135.pt\n"
     ]
    },
    {
     "name": "stderr",
     "output_type": "stream",
     "text": [
      "Epoch 11/50: 100%|██████████| 155/155 [00:05<00:00, 29.79it/s]\n"
     ]
    },
    {
     "name": "stdout",
     "output_type": "stream",
     "text": [
      "Epoch 11 | Train Loss: 5.3451 | Val Loss: 5.2163\n",
      " Model saved to rnn_0_1744853135.pt\n"
     ]
    },
    {
     "name": "stderr",
     "output_type": "stream",
     "text": [
      "Epoch 12/50: 100%|██████████| 155/155 [00:05<00:00, 29.77it/s]\n"
     ]
    },
    {
     "name": "stdout",
     "output_type": "stream",
     "text": [
      "Epoch 12 | Train Loss: 5.3192 | Val Loss: 5.1886\n",
      " Model saved to rnn_0_1744853135.pt\n"
     ]
    },
    {
     "name": "stderr",
     "output_type": "stream",
     "text": [
      "Epoch 13/50: 100%|██████████| 155/155 [00:05<00:00, 29.78it/s]\n"
     ]
    },
    {
     "name": "stdout",
     "output_type": "stream",
     "text": [
      "Epoch 13 | Train Loss: 5.2958 | Val Loss: 5.1652\n",
      " Model saved to rnn_0_1744853135.pt\n"
     ]
    },
    {
     "name": "stderr",
     "output_type": "stream",
     "text": [
      "Epoch 14/50: 100%|██████████| 155/155 [00:05<00:00, 29.79it/s]\n"
     ]
    },
    {
     "name": "stdout",
     "output_type": "stream",
     "text": [
      "Epoch 14 | Train Loss: 5.2751 | Val Loss: 5.1464\n",
      " Model saved to rnn_0_1744853135.pt\n"
     ]
    },
    {
     "name": "stderr",
     "output_type": "stream",
     "text": [
      "Epoch 15/50: 100%|██████████| 155/155 [00:05<00:00, 29.77it/s]\n"
     ]
    },
    {
     "name": "stdout",
     "output_type": "stream",
     "text": [
      "Epoch 15 | Train Loss: 5.2562 | Val Loss: 5.1263\n",
      " Model saved to rnn_0_1744853135.pt\n"
     ]
    },
    {
     "name": "stderr",
     "output_type": "stream",
     "text": [
      "Epoch 16/50: 100%|██████████| 155/155 [00:05<00:00, 28.92it/s]\n"
     ]
    },
    {
     "name": "stdout",
     "output_type": "stream",
     "text": [
      "Epoch 16 | Train Loss: 5.2386 | Val Loss: 5.1081\n",
      " Model saved to rnn_0_1744853135.pt\n"
     ]
    },
    {
     "name": "stderr",
     "output_type": "stream",
     "text": [
      "Epoch 17/50: 100%|██████████| 155/155 [00:05<00:00, 29.72it/s]\n"
     ]
    },
    {
     "name": "stdout",
     "output_type": "stream",
     "text": [
      "Epoch 17 | Train Loss: 5.2232 | Val Loss: 5.0922\n",
      " Model saved to rnn_0_1744853135.pt\n"
     ]
    },
    {
     "name": "stderr",
     "output_type": "stream",
     "text": [
      "Epoch 18/50: 100%|██████████| 155/155 [00:05<00:00, 29.74it/s]\n"
     ]
    },
    {
     "name": "stdout",
     "output_type": "stream",
     "text": [
      "Epoch 18 | Train Loss: 5.2087 | Val Loss: 5.0769\n",
      " Model saved to rnn_0_1744853135.pt\n"
     ]
    },
    {
     "name": "stderr",
     "output_type": "stream",
     "text": [
      "Epoch 19/50: 100%|██████████| 155/155 [00:05<00:00, 29.79it/s]\n"
     ]
    },
    {
     "name": "stdout",
     "output_type": "stream",
     "text": [
      "Epoch 19 | Train Loss: 5.1960 | Val Loss: 5.0646\n",
      " Model saved to rnn_0_1744853135.pt\n"
     ]
    },
    {
     "name": "stderr",
     "output_type": "stream",
     "text": [
      "Epoch 20/50: 100%|██████████| 155/155 [00:05<00:00, 29.77it/s]\n"
     ]
    },
    {
     "name": "stdout",
     "output_type": "stream",
     "text": [
      "Epoch 20 | Train Loss: 5.1848 | Val Loss: 5.0518\n",
      " Model saved to rnn_0_1744853135.pt\n"
     ]
    },
    {
     "name": "stderr",
     "output_type": "stream",
     "text": [
      "Epoch 21/50: 100%|██████████| 155/155 [00:05<00:00, 29.79it/s]\n"
     ]
    },
    {
     "name": "stdout",
     "output_type": "stream",
     "text": [
      "Epoch 21 | Train Loss: 5.1731 | Val Loss: 5.0406\n",
      " Model saved to rnn_0_1744853135.pt\n"
     ]
    },
    {
     "name": "stderr",
     "output_type": "stream",
     "text": [
      "Epoch 22/50: 100%|██████████| 155/155 [00:05<00:00, 29.79it/s]\n"
     ]
    },
    {
     "name": "stdout",
     "output_type": "stream",
     "text": [
      "Epoch 22 | Train Loss: 5.1635 | Val Loss: 5.0307\n",
      " Model saved to rnn_0_1744853135.pt\n"
     ]
    },
    {
     "name": "stderr",
     "output_type": "stream",
     "text": [
      "Epoch 23/50: 100%|██████████| 155/155 [00:05<00:00, 29.76it/s]\n"
     ]
    },
    {
     "name": "stdout",
     "output_type": "stream",
     "text": [
      "Epoch 23 | Train Loss: 5.1539 | Val Loss: 5.0232\n",
      " Model saved to rnn_0_1744853135.pt\n"
     ]
    },
    {
     "name": "stderr",
     "output_type": "stream",
     "text": [
      "Epoch 24/50: 100%|██████████| 155/155 [00:05<00:00, 28.92it/s]\n"
     ]
    },
    {
     "name": "stdout",
     "output_type": "stream",
     "text": [
      "Epoch 24 | Train Loss: 5.1450 | Val Loss: 5.0137\n",
      " Model saved to rnn_0_1744853135.pt\n"
     ]
    },
    {
     "name": "stderr",
     "output_type": "stream",
     "text": [
      "Epoch 25/50: 100%|██████████| 155/155 [00:05<00:00, 29.76it/s]\n"
     ]
    },
    {
     "name": "stdout",
     "output_type": "stream",
     "text": [
      "Epoch 25 | Train Loss: 5.1360 | Val Loss: 5.0042\n",
      " Model saved to rnn_0_1744853135.pt\n"
     ]
    },
    {
     "name": "stderr",
     "output_type": "stream",
     "text": [
      "Epoch 26/50: 100%|██████████| 155/155 [00:05<00:00, 29.73it/s]\n"
     ]
    },
    {
     "name": "stdout",
     "output_type": "stream",
     "text": [
      "Epoch 26 | Train Loss: 5.1282 | Val Loss: 4.9980\n",
      " Model saved to rnn_0_1744853135.pt\n"
     ]
    },
    {
     "name": "stderr",
     "output_type": "stream",
     "text": [
      "Epoch 27/50: 100%|██████████| 155/155 [00:05<00:00, 29.70it/s]\n"
     ]
    },
    {
     "name": "stdout",
     "output_type": "stream",
     "text": [
      "Epoch 27 | Train Loss: 5.1210 | Val Loss: 4.9889\n",
      " Model saved to rnn_0_1744853135.pt\n"
     ]
    },
    {
     "name": "stderr",
     "output_type": "stream",
     "text": [
      "Epoch 28/50: 100%|██████████| 155/155 [00:05<00:00, 29.70it/s]\n"
     ]
    },
    {
     "name": "stdout",
     "output_type": "stream",
     "text": [
      "Epoch 28 | Train Loss: 5.1136 | Val Loss: 4.9817\n",
      " Model saved to rnn_0_1744853135.pt\n"
     ]
    },
    {
     "name": "stderr",
     "output_type": "stream",
     "text": [
      "Epoch 29/50: 100%|██████████| 155/155 [00:05<00:00, 29.70it/s]\n"
     ]
    },
    {
     "name": "stdout",
     "output_type": "stream",
     "text": [
      "Epoch 29 | Train Loss: 5.1072 | Val Loss: 4.9764\n",
      " Model saved to rnn_0_1744853135.pt\n"
     ]
    },
    {
     "name": "stderr",
     "output_type": "stream",
     "text": [
      "Epoch 30/50: 100%|██████████| 155/155 [00:05<00:00, 29.71it/s]\n"
     ]
    },
    {
     "name": "stdout",
     "output_type": "stream",
     "text": [
      "Epoch 30 | Train Loss: 5.1000 | Val Loss: 4.9704\n",
      " Model saved to rnn_0_1744853135.pt\n"
     ]
    },
    {
     "name": "stderr",
     "output_type": "stream",
     "text": [
      "Epoch 31/50: 100%|██████████| 155/155 [00:05<00:00, 28.85it/s]\n"
     ]
    },
    {
     "name": "stdout",
     "output_type": "stream",
     "text": [
      "Epoch 31 | Train Loss: 5.0938 | Val Loss: 4.9642\n",
      " Model saved to rnn_0_1744853135.pt\n"
     ]
    },
    {
     "name": "stderr",
     "output_type": "stream",
     "text": [
      "Epoch 32/50: 100%|██████████| 155/155 [00:05<00:00, 29.72it/s]\n"
     ]
    },
    {
     "name": "stdout",
     "output_type": "stream",
     "text": [
      "Epoch 32 | Train Loss: 5.0885 | Val Loss: 4.9577\n",
      " Model saved to rnn_0_1744853135.pt\n"
     ]
    },
    {
     "name": "stderr",
     "output_type": "stream",
     "text": [
      "Epoch 33/50: 100%|██████████| 155/155 [00:05<00:00, 29.70it/s]\n"
     ]
    },
    {
     "name": "stdout",
     "output_type": "stream",
     "text": [
      "Epoch 33 | Train Loss: 5.0825 | Val Loss: 4.9514\n",
      " Model saved to rnn_0_1744853135.pt\n"
     ]
    },
    {
     "name": "stderr",
     "output_type": "stream",
     "text": [
      "Epoch 34/50: 100%|██████████| 155/155 [00:05<00:00, 29.69it/s]\n"
     ]
    },
    {
     "name": "stdout",
     "output_type": "stream",
     "text": [
      "Epoch 34 | Train Loss: 5.0768 | Val Loss: 4.9494\n",
      " Model saved to rnn_0_1744853135.pt\n"
     ]
    },
    {
     "name": "stderr",
     "output_type": "stream",
     "text": [
      "Epoch 35/50: 100%|██████████| 155/155 [00:05<00:00, 29.70it/s]\n"
     ]
    },
    {
     "name": "stdout",
     "output_type": "stream",
     "text": [
      "Epoch 35 | Train Loss: 5.0717 | Val Loss: 4.9436\n",
      " Model saved to rnn_0_1744853135.pt\n"
     ]
    },
    {
     "name": "stderr",
     "output_type": "stream",
     "text": [
      "Epoch 36/50: 100%|██████████| 155/155 [00:05<00:00, 29.70it/s]\n"
     ]
    },
    {
     "name": "stdout",
     "output_type": "stream",
     "text": [
      "Epoch 36 | Train Loss: 5.0662 | Val Loss: 4.9386\n",
      " Model saved to rnn_0_1744853135.pt\n"
     ]
    },
    {
     "name": "stderr",
     "output_type": "stream",
     "text": [
      "Epoch 37/50: 100%|██████████| 155/155 [00:05<00:00, 29.68it/s]\n"
     ]
    },
    {
     "name": "stdout",
     "output_type": "stream",
     "text": [
      "Epoch 37 | Train Loss: 5.0620 | Val Loss: 4.9352\n",
      " Model saved to rnn_0_1744853135.pt\n"
     ]
    },
    {
     "name": "stderr",
     "output_type": "stream",
     "text": [
      "Epoch 38/50: 100%|██████████| 155/155 [00:05<00:00, 29.72it/s]\n"
     ]
    },
    {
     "name": "stdout",
     "output_type": "stream",
     "text": [
      "Epoch 38 | Train Loss: 5.0564 | Val Loss: 4.9275\n",
      " Model saved to rnn_0_1744853135.pt\n"
     ]
    },
    {
     "name": "stderr",
     "output_type": "stream",
     "text": [
      "Epoch 39/50: 100%|██████████| 155/155 [00:05<00:00, 28.86it/s]\n"
     ]
    },
    {
     "name": "stdout",
     "output_type": "stream",
     "text": [
      "Epoch 39 | Train Loss: 5.0521 | Val Loss: 4.9236\n",
      " Model saved to rnn_0_1744853135.pt\n"
     ]
    },
    {
     "name": "stderr",
     "output_type": "stream",
     "text": [
      "Epoch 40/50: 100%|██████████| 155/155 [00:05<00:00, 29.71it/s]\n"
     ]
    },
    {
     "name": "stdout",
     "output_type": "stream",
     "text": [
      "Epoch 40 | Train Loss: 5.0469 | Val Loss: 4.9209\n",
      " Model saved to rnn_0_1744853135.pt\n"
     ]
    },
    {
     "name": "stderr",
     "output_type": "stream",
     "text": [
      "Epoch 41/50: 100%|██████████| 155/155 [00:05<00:00, 29.72it/s]\n"
     ]
    },
    {
     "name": "stdout",
     "output_type": "stream",
     "text": [
      "Epoch 41 | Train Loss: 5.0437 | Val Loss: 4.9148\n",
      " Model saved to rnn_0_1744853135.pt\n"
     ]
    },
    {
     "name": "stderr",
     "output_type": "stream",
     "text": [
      "Epoch 42/50: 100%|██████████| 155/155 [00:05<00:00, 29.71it/s]\n"
     ]
    },
    {
     "name": "stdout",
     "output_type": "stream",
     "text": [
      "Epoch 42 | Train Loss: 5.0394 | Val Loss: 4.9115\n",
      " Model saved to rnn_0_1744853135.pt\n"
     ]
    },
    {
     "name": "stderr",
     "output_type": "stream",
     "text": [
      "Epoch 43/50: 100%|██████████| 155/155 [00:05<00:00, 29.73it/s]\n"
     ]
    },
    {
     "name": "stdout",
     "output_type": "stream",
     "text": [
      "Epoch 43 | Train Loss: 5.0349 | Val Loss: 4.9078\n",
      " Model saved to rnn_0_1744853135.pt\n"
     ]
    },
    {
     "name": "stderr",
     "output_type": "stream",
     "text": [
      "Epoch 44/50: 100%|██████████| 155/155 [00:05<00:00, 29.73it/s]\n"
     ]
    },
    {
     "name": "stdout",
     "output_type": "stream",
     "text": [
      "Epoch 44 | Train Loss: 5.0306 | Val Loss: 4.9038\n",
      " Model saved to rnn_0_1744853135.pt\n"
     ]
    },
    {
     "name": "stderr",
     "output_type": "stream",
     "text": [
      "Epoch 45/50: 100%|██████████| 155/155 [00:05<00:00, 29.74it/s]\n"
     ]
    },
    {
     "name": "stdout",
     "output_type": "stream",
     "text": [
      "Epoch 45 | Train Loss: 5.0265 | Val Loss: 4.9029\n",
      " Model saved to rnn_0_1744853135.pt\n"
     ]
    },
    {
     "name": "stderr",
     "output_type": "stream",
     "text": [
      "Epoch 46/50: 100%|██████████| 155/155 [00:05<00:00, 29.73it/s]\n"
     ]
    },
    {
     "name": "stdout",
     "output_type": "stream",
     "text": [
      "Epoch 46 | Train Loss: 5.0224 | Val Loss: 4.8974\n",
      " Model saved to rnn_0_1744853135.pt\n"
     ]
    },
    {
     "name": "stderr",
     "output_type": "stream",
     "text": [
      "Epoch 47/50: 100%|██████████| 155/155 [00:05<00:00, 28.86it/s]\n"
     ]
    },
    {
     "name": "stdout",
     "output_type": "stream",
     "text": [
      "Epoch 47 | Train Loss: 5.0188 | Val Loss: 4.8933\n",
      " Model saved to rnn_0_1744853135.pt\n"
     ]
    },
    {
     "name": "stderr",
     "output_type": "stream",
     "text": [
      "Epoch 48/50: 100%|██████████| 155/155 [00:05<00:00, 29.73it/s]\n"
     ]
    },
    {
     "name": "stdout",
     "output_type": "stream",
     "text": [
      "Epoch 48 | Train Loss: 5.0158 | Val Loss: 4.8918\n",
      " Model saved to rnn_0_1744853135.pt\n"
     ]
    },
    {
     "name": "stderr",
     "output_type": "stream",
     "text": [
      "Epoch 49/50: 100%|██████████| 155/155 [00:05<00:00, 29.71it/s]\n"
     ]
    },
    {
     "name": "stdout",
     "output_type": "stream",
     "text": [
      "Epoch 49 | Train Loss: 5.0115 | Val Loss: 4.8885\n",
      " Model saved to rnn_0_1744853135.pt\n"
     ]
    },
    {
     "name": "stderr",
     "output_type": "stream",
     "text": [
      "Epoch 50/50: 100%|██████████| 155/155 [00:05<00:00, 29.72it/s]\n"
     ]
    },
    {
     "name": "stdout",
     "output_type": "stream",
     "text": [
      "Epoch 50 | Train Loss: 5.0082 | Val Loss: 4.8850\n",
      " Model saved to rnn_0_1744853135.pt\n",
      "📈 Saved loss curve as: RNNLanguageModel_loss_curve_20250416_203031.png\n",
      "\n",
      " Test Perplexity: 132.2909\n",
      " Average BLEU Score: 0.0101\n",
      "\n",
      " Training transformer_0_1744853436 with config: {'embed_dim': 256, 'num_heads': 4, 'num_layers': 2, 'lr': 0.001}\n"
     ]
    },
    {
     "name": "stderr",
     "output_type": "stream",
     "text": [
      "Epoch 1/50: 100%|██████████| 155/155 [00:14<00:00, 11.04it/s]\n"
     ]
    },
    {
     "name": "stdout",
     "output_type": "stream",
     "text": [
      "Epoch 1 | Train Loss: 6.4797 | Val Loss: 5.8619\n",
      " Model saved to transformer_0_1744853436.pt\n"
     ]
    },
    {
     "name": "stderr",
     "output_type": "stream",
     "text": [
      "Epoch 2/50: 100%|██████████| 155/155 [00:13<00:00, 11.08it/s]\n"
     ]
    },
    {
     "name": "stdout",
     "output_type": "stream",
     "text": [
      "Epoch 2 | Train Loss: 5.7753 | Val Loss: 5.5066\n",
      " Model saved to transformer_0_1744853436.pt\n"
     ]
    },
    {
     "name": "stderr",
     "output_type": "stream",
     "text": [
      "Epoch 3/50: 100%|██████████| 155/155 [00:14<00:00, 10.98it/s]\n"
     ]
    },
    {
     "name": "stdout",
     "output_type": "stream",
     "text": [
      "Epoch 3 | Train Loss: 5.5050 | Val Loss: 5.3041\n",
      " Model saved to transformer_0_1744853436.pt\n"
     ]
    },
    {
     "name": "stderr",
     "output_type": "stream",
     "text": [
      "Epoch 4/50: 100%|██████████| 155/155 [00:14<00:00, 10.88it/s]\n"
     ]
    },
    {
     "name": "stdout",
     "output_type": "stream",
     "text": [
      "Epoch 4 | Train Loss: 5.3290 | Val Loss: 5.1813\n",
      " Model saved to transformer_0_1744853436.pt\n"
     ]
    },
    {
     "name": "stderr",
     "output_type": "stream",
     "text": [
      "Epoch 5/50: 100%|██████████| 155/155 [00:14<00:00, 10.92it/s]\n"
     ]
    },
    {
     "name": "stdout",
     "output_type": "stream",
     "text": [
      "Epoch 5 | Train Loss: 5.2068 | Val Loss: 5.0987\n",
      " Model saved to transformer_0_1744853436.pt\n"
     ]
    },
    {
     "name": "stderr",
     "output_type": "stream",
     "text": [
      "Epoch 6/50: 100%|██████████| 155/155 [00:13<00:00, 11.11it/s]\n"
     ]
    },
    {
     "name": "stdout",
     "output_type": "stream",
     "text": [
      "Epoch 6 | Train Loss: 5.1132 | Val Loss: 5.0182\n",
      " Model saved to transformer_0_1744853436.pt\n"
     ]
    },
    {
     "name": "stderr",
     "output_type": "stream",
     "text": [
      "Epoch 7/50: 100%|██████████| 155/155 [00:14<00:00, 10.81it/s]\n"
     ]
    },
    {
     "name": "stdout",
     "output_type": "stream",
     "text": [
      "Epoch 7 | Train Loss: 5.0380 | Val Loss: 4.9587\n",
      " Model saved to transformer_0_1744853436.pt\n"
     ]
    },
    {
     "name": "stderr",
     "output_type": "stream",
     "text": [
      "Epoch 8/50: 100%|██████████| 155/155 [00:14<00:00, 10.98it/s]\n"
     ]
    },
    {
     "name": "stdout",
     "output_type": "stream",
     "text": [
      "Epoch 8 | Train Loss: 4.9765 | Val Loss: 4.9094\n",
      " Model saved to transformer_0_1744853436.pt\n"
     ]
    },
    {
     "name": "stderr",
     "output_type": "stream",
     "text": [
      "Epoch 9/50: 100%|██████████| 155/155 [00:13<00:00, 11.14it/s]\n"
     ]
    },
    {
     "name": "stdout",
     "output_type": "stream",
     "text": [
      "Epoch 9 | Train Loss: 4.9246 | Val Loss: 4.8690\n",
      " Model saved to transformer_0_1744853436.pt\n"
     ]
    },
    {
     "name": "stderr",
     "output_type": "stream",
     "text": [
      "Epoch 10/50: 100%|██████████| 155/155 [00:14<00:00, 10.98it/s]\n"
     ]
    },
    {
     "name": "stdout",
     "output_type": "stream",
     "text": [
      "Epoch 10 | Train Loss: 4.8781 | Val Loss: 4.8319\n",
      " Model saved to transformer_0_1744853436.pt\n"
     ]
    },
    {
     "name": "stderr",
     "output_type": "stream",
     "text": [
      "Epoch 11/50: 100%|██████████| 155/155 [00:14<00:00, 11.03it/s]\n"
     ]
    },
    {
     "name": "stdout",
     "output_type": "stream",
     "text": [
      "Epoch 11 | Train Loss: 4.8400 | Val Loss: 4.8076\n",
      " Model saved to transformer_0_1744853436.pt\n"
     ]
    },
    {
     "name": "stderr",
     "output_type": "stream",
     "text": [
      "Epoch 12/50: 100%|██████████| 155/155 [00:14<00:00, 10.95it/s]\n"
     ]
    },
    {
     "name": "stdout",
     "output_type": "stream",
     "text": [
      "Epoch 12 | Train Loss: 4.8052 | Val Loss: 4.7795\n",
      " Model saved to transformer_0_1744853436.pt\n"
     ]
    },
    {
     "name": "stderr",
     "output_type": "stream",
     "text": [
      "Epoch 13/50: 100%|██████████| 155/155 [00:14<00:00, 10.94it/s]\n"
     ]
    },
    {
     "name": "stdout",
     "output_type": "stream",
     "text": [
      "Epoch 13 | Train Loss: 4.7734 | Val Loss: 4.7646\n",
      " Model saved to transformer_0_1744853436.pt\n"
     ]
    },
    {
     "name": "stderr",
     "output_type": "stream",
     "text": [
      "Epoch 14/50: 100%|██████████| 155/155 [00:14<00:00, 11.00it/s]\n"
     ]
    },
    {
     "name": "stdout",
     "output_type": "stream",
     "text": [
      "Epoch 14 | Train Loss: 4.7463 | Val Loss: 4.7376\n",
      " Model saved to transformer_0_1744853436.pt\n"
     ]
    },
    {
     "name": "stderr",
     "output_type": "stream",
     "text": [
      "Epoch 15/50: 100%|██████████| 155/155 [00:14<00:00, 11.05it/s]\n"
     ]
    },
    {
     "name": "stdout",
     "output_type": "stream",
     "text": [
      "Epoch 15 | Train Loss: 4.7210 | Val Loss: 4.7213\n",
      " Model saved to transformer_0_1744853436.pt\n"
     ]
    },
    {
     "name": "stderr",
     "output_type": "stream",
     "text": [
      "Epoch 16/50: 100%|██████████| 155/155 [00:14<00:00, 11.06it/s]\n"
     ]
    },
    {
     "name": "stdout",
     "output_type": "stream",
     "text": [
      "Epoch 16 | Train Loss: 4.6978 | Val Loss: 4.7028\n",
      " Model saved to transformer_0_1744853436.pt\n"
     ]
    },
    {
     "name": "stderr",
     "output_type": "stream",
     "text": [
      "Epoch 17/50: 100%|██████████| 155/155 [00:14<00:00, 11.07it/s]\n"
     ]
    },
    {
     "name": "stdout",
     "output_type": "stream",
     "text": [
      "Epoch 17 | Train Loss: 4.6771 | Val Loss: 4.6869\n",
      " Model saved to transformer_0_1744853436.pt\n"
     ]
    },
    {
     "name": "stderr",
     "output_type": "stream",
     "text": [
      "Epoch 18/50: 100%|██████████| 155/155 [00:13<00:00, 11.07it/s]\n"
     ]
    },
    {
     "name": "stdout",
     "output_type": "stream",
     "text": [
      "Epoch 18 | Train Loss: 4.6564 | Val Loss: 4.6734\n",
      " Model saved to transformer_0_1744853436.pt\n"
     ]
    },
    {
     "name": "stderr",
     "output_type": "stream",
     "text": [
      "Epoch 19/50: 100%|██████████| 155/155 [00:14<00:00, 11.05it/s]\n"
     ]
    },
    {
     "name": "stdout",
     "output_type": "stream",
     "text": [
      "Epoch 19 | Train Loss: 4.6385 | Val Loss: 4.6635\n",
      " Model saved to transformer_0_1744853436.pt\n"
     ]
    },
    {
     "name": "stderr",
     "output_type": "stream",
     "text": [
      "Epoch 20/50: 100%|██████████| 155/155 [00:13<00:00, 11.15it/s]\n"
     ]
    },
    {
     "name": "stdout",
     "output_type": "stream",
     "text": [
      "Epoch 20 | Train Loss: 4.6225 | Val Loss: 4.6451\n",
      " Model saved to transformer_0_1744853436.pt\n"
     ]
    },
    {
     "name": "stderr",
     "output_type": "stream",
     "text": [
      "Epoch 21/50: 100%|██████████| 155/155 [00:14<00:00, 10.78it/s]\n"
     ]
    },
    {
     "name": "stdout",
     "output_type": "stream",
     "text": [
      "Epoch 21 | Train Loss: 4.6069 | Val Loss: 4.6394\n",
      " Model saved to transformer_0_1744853436.pt\n"
     ]
    },
    {
     "name": "stderr",
     "output_type": "stream",
     "text": [
      "Epoch 22/50: 100%|██████████| 155/155 [00:14<00:00, 11.04it/s]\n"
     ]
    },
    {
     "name": "stdout",
     "output_type": "stream",
     "text": [
      "Epoch 22 | Train Loss: 4.5908 | Val Loss: 4.6286\n",
      " Model saved to transformer_0_1744853436.pt\n"
     ]
    },
    {
     "name": "stderr",
     "output_type": "stream",
     "text": [
      "Epoch 23/50: 100%|██████████| 155/155 [00:13<00:00, 11.12it/s]\n"
     ]
    },
    {
     "name": "stdout",
     "output_type": "stream",
     "text": [
      "Epoch 23 | Train Loss: 4.5778 | Val Loss: 4.6173\n",
      " Model saved to transformer_0_1744853436.pt\n"
     ]
    },
    {
     "name": "stderr",
     "output_type": "stream",
     "text": [
      "Epoch 24/50: 100%|██████████| 155/155 [00:13<00:00, 11.17it/s]\n"
     ]
    },
    {
     "name": "stdout",
     "output_type": "stream",
     "text": [
      "Epoch 24 | Train Loss: 4.5648 | Val Loss: 4.6108\n",
      " Model saved to transformer_0_1744853436.pt\n"
     ]
    },
    {
     "name": "stderr",
     "output_type": "stream",
     "text": [
      "Epoch 25/50: 100%|██████████| 155/155 [00:13<00:00, 11.14it/s]\n"
     ]
    },
    {
     "name": "stdout",
     "output_type": "stream",
     "text": [
      "Epoch 25 | Train Loss: 4.5526 | Val Loss: 4.6017\n",
      " Model saved to transformer_0_1744853436.pt\n"
     ]
    },
    {
     "name": "stderr",
     "output_type": "stream",
     "text": [
      "Epoch 26/50: 100%|██████████| 155/155 [00:13<00:00, 11.16it/s]\n"
     ]
    },
    {
     "name": "stdout",
     "output_type": "stream",
     "text": [
      "Epoch 26 | Train Loss: 4.5409 | Val Loss: 4.5923\n",
      " Model saved to transformer_0_1744853436.pt\n"
     ]
    },
    {
     "name": "stderr",
     "output_type": "stream",
     "text": [
      "Epoch 27/50: 100%|██████████| 155/155 [00:14<00:00, 10.88it/s]\n"
     ]
    },
    {
     "name": "stdout",
     "output_type": "stream",
     "text": [
      "Epoch 27 | Train Loss: 4.5292 | Val Loss: 4.5855\n",
      " Model saved to transformer_0_1744853436.pt\n"
     ]
    },
    {
     "name": "stderr",
     "output_type": "stream",
     "text": [
      "Epoch 28/50: 100%|██████████| 155/155 [00:14<00:00, 11.06it/s]\n"
     ]
    },
    {
     "name": "stdout",
     "output_type": "stream",
     "text": [
      "Epoch 28 | Train Loss: 4.5184 | Val Loss: 4.5815\n",
      " Model saved to transformer_0_1744853436.pt\n"
     ]
    },
    {
     "name": "stderr",
     "output_type": "stream",
     "text": [
      "Epoch 29/50: 100%|██████████| 155/155 [00:14<00:00, 10.73it/s]\n"
     ]
    },
    {
     "name": "stdout",
     "output_type": "stream",
     "text": [
      "Epoch 29 | Train Loss: 4.5093 | Val Loss: 4.5725\n",
      " Model saved to transformer_0_1744853436.pt\n"
     ]
    },
    {
     "name": "stderr",
     "output_type": "stream",
     "text": [
      "Epoch 30/50: 100%|██████████| 155/155 [00:14<00:00, 11.05it/s]\n"
     ]
    },
    {
     "name": "stdout",
     "output_type": "stream",
     "text": [
      "Epoch 30 | Train Loss: 4.4995 | Val Loss: 4.5671\n",
      " Model saved to transformer_0_1744853436.pt\n"
     ]
    },
    {
     "name": "stderr",
     "output_type": "stream",
     "text": [
      "Epoch 31/50: 100%|██████████| 155/155 [00:14<00:00, 11.05it/s]\n"
     ]
    },
    {
     "name": "stdout",
     "output_type": "stream",
     "text": [
      "Epoch 31 | Train Loss: 4.4887 | Val Loss: 4.5586\n",
      " Model saved to transformer_0_1744853436.pt\n"
     ]
    },
    {
     "name": "stderr",
     "output_type": "stream",
     "text": [
      "Epoch 32/50: 100%|██████████| 155/155 [00:14<00:00, 11.04it/s]\n"
     ]
    },
    {
     "name": "stdout",
     "output_type": "stream",
     "text": [
      "Epoch 32 | Train Loss: 4.4798 | Val Loss: 4.5530\n",
      " Model saved to transformer_0_1744853436.pt\n"
     ]
    },
    {
     "name": "stderr",
     "output_type": "stream",
     "text": [
      "Epoch 33/50: 100%|██████████| 155/155 [00:13<00:00, 11.08it/s]\n"
     ]
    },
    {
     "name": "stdout",
     "output_type": "stream",
     "text": [
      "Epoch 33 | Train Loss: 4.4715 | Val Loss: 4.5496\n",
      " Model saved to transformer_0_1744853436.pt\n"
     ]
    },
    {
     "name": "stderr",
     "output_type": "stream",
     "text": [
      "Epoch 34/50: 100%|██████████| 155/155 [00:14<00:00, 10.95it/s]\n"
     ]
    },
    {
     "name": "stdout",
     "output_type": "stream",
     "text": [
      "Epoch 34 | Train Loss: 4.4639 | Val Loss: 4.5423\n",
      " Model saved to transformer_0_1744853436.pt\n"
     ]
    },
    {
     "name": "stderr",
     "output_type": "stream",
     "text": [
      "Epoch 35/50: 100%|██████████| 155/155 [00:14<00:00, 10.85it/s]\n"
     ]
    },
    {
     "name": "stdout",
     "output_type": "stream",
     "text": [
      "Epoch 35 | Train Loss: 4.4556 | Val Loss: 4.5376\n",
      " Model saved to transformer_0_1744853436.pt\n"
     ]
    },
    {
     "name": "stderr",
     "output_type": "stream",
     "text": [
      "Epoch 36/50: 100%|██████████| 155/155 [00:14<00:00, 10.89it/s]\n"
     ]
    },
    {
     "name": "stdout",
     "output_type": "stream",
     "text": [
      "Epoch 36 | Train Loss: 4.4473 | Val Loss: 4.5327\n",
      " Model saved to transformer_0_1744853436.pt\n"
     ]
    },
    {
     "name": "stderr",
     "output_type": "stream",
     "text": [
      "Epoch 37/50: 100%|██████████| 155/155 [00:13<00:00, 11.13it/s]\n"
     ]
    },
    {
     "name": "stdout",
     "output_type": "stream",
     "text": [
      "Epoch 37 | Train Loss: 4.4404 | Val Loss: 4.5269\n",
      " Model saved to transformer_0_1744853436.pt\n"
     ]
    },
    {
     "name": "stderr",
     "output_type": "stream",
     "text": [
      "Epoch 38/50: 100%|██████████| 155/155 [00:14<00:00, 10.83it/s]\n"
     ]
    },
    {
     "name": "stdout",
     "output_type": "stream",
     "text": [
      "Epoch 38 | Train Loss: 4.4331 | Val Loss: 4.5244\n",
      " Model saved to transformer_0_1744853436.pt\n"
     ]
    },
    {
     "name": "stderr",
     "output_type": "stream",
     "text": [
      "Epoch 39/50: 100%|██████████| 155/155 [00:13<00:00, 11.13it/s]\n"
     ]
    },
    {
     "name": "stdout",
     "output_type": "stream",
     "text": [
      "Epoch 39 | Train Loss: 4.4265 | Val Loss: 4.5186\n",
      " Model saved to transformer_0_1744853436.pt\n"
     ]
    },
    {
     "name": "stderr",
     "output_type": "stream",
     "text": [
      "Epoch 40/50: 100%|██████████| 155/155 [00:13<00:00, 11.09it/s]\n"
     ]
    },
    {
     "name": "stdout",
     "output_type": "stream",
     "text": [
      "Epoch 40 | Train Loss: 4.4193 | Val Loss: 4.5164\n",
      " Model saved to transformer_0_1744853436.pt\n"
     ]
    },
    {
     "name": "stderr",
     "output_type": "stream",
     "text": [
      "Epoch 41/50: 100%|██████████| 155/155 [00:14<00:00, 11.02it/s]\n"
     ]
    },
    {
     "name": "stdout",
     "output_type": "stream",
     "text": [
      "Epoch 41 | Train Loss: 4.4127 | Val Loss: 4.5130\n",
      " Model saved to transformer_0_1744853436.pt\n"
     ]
    },
    {
     "name": "stderr",
     "output_type": "stream",
     "text": [
      "Epoch 42/50: 100%|██████████| 155/155 [00:14<00:00, 10.75it/s]\n"
     ]
    },
    {
     "name": "stdout",
     "output_type": "stream",
     "text": [
      "Epoch 42 | Train Loss: 4.4061 | Val Loss: 4.5064\n",
      " Model saved to transformer_0_1744853436.pt\n"
     ]
    },
    {
     "name": "stderr",
     "output_type": "stream",
     "text": [
      "Epoch 43/50: 100%|██████████| 155/155 [00:14<00:00, 11.02it/s]\n"
     ]
    },
    {
     "name": "stdout",
     "output_type": "stream",
     "text": [
      "Epoch 43 | Train Loss: 4.3997 | Val Loss: 4.5070\n"
     ]
    },
    {
     "name": "stderr",
     "output_type": "stream",
     "text": [
      "Epoch 44/50: 100%|██████████| 155/155 [00:13<00:00, 11.09it/s]\n"
     ]
    },
    {
     "name": "stdout",
     "output_type": "stream",
     "text": [
      "Epoch 44 | Train Loss: 4.3944 | Val Loss: 4.4985\n",
      " Model saved to transformer_0_1744853436.pt\n"
     ]
    },
    {
     "name": "stderr",
     "output_type": "stream",
     "text": [
      "Epoch 45/50: 100%|██████████| 155/155 [00:13<00:00, 11.12it/s]\n"
     ]
    },
    {
     "name": "stdout",
     "output_type": "stream",
     "text": [
      "Epoch 45 | Train Loss: 4.3881 | Val Loss: 4.4925\n",
      " Model saved to transformer_0_1744853436.pt\n"
     ]
    },
    {
     "name": "stderr",
     "output_type": "stream",
     "text": [
      "Epoch 46/50: 100%|██████████| 155/155 [00:14<00:00, 11.02it/s]\n"
     ]
    },
    {
     "name": "stdout",
     "output_type": "stream",
     "text": [
      "Epoch 46 | Train Loss: 4.3812 | Val Loss: 4.4938\n"
     ]
    },
    {
     "name": "stderr",
     "output_type": "stream",
     "text": [
      "Epoch 47/50: 100%|██████████| 155/155 [00:13<00:00, 11.12it/s]\n"
     ]
    },
    {
     "name": "stdout",
     "output_type": "stream",
     "text": [
      "Epoch 47 | Train Loss: 4.3760 | Val Loss: 4.4913\n",
      " Model saved to transformer_0_1744853436.pt\n"
     ]
    },
    {
     "name": "stderr",
     "output_type": "stream",
     "text": [
      "Epoch 48/50: 100%|██████████| 155/155 [00:14<00:00, 10.86it/s]\n"
     ]
    },
    {
     "name": "stdout",
     "output_type": "stream",
     "text": [
      "Epoch 48 | Train Loss: 4.3703 | Val Loss: 4.4867\n",
      " Model saved to transformer_0_1744853436.pt\n"
     ]
    },
    {
     "name": "stderr",
     "output_type": "stream",
     "text": [
      "Epoch 49/50: 100%|██████████| 155/155 [00:13<00:00, 11.14it/s]\n"
     ]
    },
    {
     "name": "stdout",
     "output_type": "stream",
     "text": [
      "Epoch 49 | Train Loss: 4.3654 | Val Loss: 4.4811\n",
      " Model saved to transformer_0_1744853436.pt\n"
     ]
    },
    {
     "name": "stderr",
     "output_type": "stream",
     "text": [
      "Epoch 50/50: 100%|██████████| 155/155 [00:14<00:00, 10.75it/s]\n"
     ]
    },
    {
     "name": "stdout",
     "output_type": "stream",
     "text": [
      "Epoch 50 | Train Loss: 4.3604 | Val Loss: 4.4759\n",
      " Model saved to transformer_0_1744853436.pt\n",
      "📈 Saved loss curve as: TransformerLanguageModel_loss_curve_20250416_204333.png\n",
      "\n",
      " Test Perplexity: 87.8767\n",
      " Average BLEU Score: 0.0127\n",
      "\n",
      " Training transformer_1_1744854218 with config: {'embed_dim': 512, 'num_heads': 8, 'num_layers': 4, 'lr': 0.0005}\n"
     ]
    },
    {
     "name": "stderr",
     "output_type": "stream",
     "text": [
      "Epoch 1/50: 100%|██████████| 155/155 [00:39<00:00,  3.90it/s]\n"
     ]
    },
    {
     "name": "stdout",
     "output_type": "stream",
     "text": [
      "Epoch 1 | Train Loss: 6.5504 | Val Loss: 5.8935\n",
      " Model saved to transformer_1_1744854218.pt\n"
     ]
    },
    {
     "name": "stderr",
     "output_type": "stream",
     "text": [
      "Epoch 2/50: 100%|██████████| 155/155 [00:39<00:00,  3.89it/s]\n"
     ]
    },
    {
     "name": "stdout",
     "output_type": "stream",
     "text": [
      "Epoch 2 | Train Loss: 5.7448 | Val Loss: 5.4637\n",
      " Model saved to transformer_1_1744854218.pt\n"
     ]
    },
    {
     "name": "stderr",
     "output_type": "stream",
     "text": [
      "Epoch 3/50: 100%|██████████| 155/155 [00:39<00:00,  3.89it/s]\n"
     ]
    },
    {
     "name": "stdout",
     "output_type": "stream",
     "text": [
      "Epoch 3 | Train Loss: 5.4304 | Val Loss: 5.2149\n",
      " Model saved to transformer_1_1744854218.pt\n"
     ]
    },
    {
     "name": "stderr",
     "output_type": "stream",
     "text": [
      "Epoch 4/50: 100%|██████████| 155/155 [00:39<00:00,  3.88it/s]\n"
     ]
    },
    {
     "name": "stdout",
     "output_type": "stream",
     "text": [
      "Epoch 4 | Train Loss: 5.2146 | Val Loss: 5.0489\n",
      " Model saved to transformer_1_1744854218.pt\n"
     ]
    },
    {
     "name": "stderr",
     "output_type": "stream",
     "text": [
      "Epoch 5/50: 100%|██████████| 155/155 [00:39<00:00,  3.88it/s]\n"
     ]
    },
    {
     "name": "stdout",
     "output_type": "stream",
     "text": [
      "Epoch 5 | Train Loss: 5.0553 | Val Loss: 4.9348\n",
      " Model saved to transformer_1_1744854218.pt\n"
     ]
    },
    {
     "name": "stderr",
     "output_type": "stream",
     "text": [
      "Epoch 6/50: 100%|██████████| 155/155 [00:39<00:00,  3.91it/s]\n"
     ]
    },
    {
     "name": "stdout",
     "output_type": "stream",
     "text": [
      "Epoch 6 | Train Loss: 4.9319 | Val Loss: 4.8462\n",
      " Model saved to transformer_1_1744854218.pt\n"
     ]
    },
    {
     "name": "stderr",
     "output_type": "stream",
     "text": [
      "Epoch 7/50: 100%|██████████| 155/155 [00:40<00:00,  3.87it/s]\n"
     ]
    },
    {
     "name": "stdout",
     "output_type": "stream",
     "text": [
      "Epoch 7 | Train Loss: 4.8341 | Val Loss: 4.7679\n",
      " Model saved to transformer_1_1744854218.pt\n"
     ]
    },
    {
     "name": "stderr",
     "output_type": "stream",
     "text": [
      "Epoch 8/50: 100%|██████████| 155/155 [00:39<00:00,  3.90it/s]\n"
     ]
    },
    {
     "name": "stdout",
     "output_type": "stream",
     "text": [
      "Epoch 8 | Train Loss: 4.7531 | Val Loss: 4.7164\n",
      " Model saved to transformer_1_1744854218.pt\n"
     ]
    },
    {
     "name": "stderr",
     "output_type": "stream",
     "text": [
      "Epoch 9/50: 100%|██████████| 155/155 [00:39<00:00,  3.92it/s]\n"
     ]
    },
    {
     "name": "stdout",
     "output_type": "stream",
     "text": [
      "Epoch 9 | Train Loss: 4.6817 | Val Loss: 4.6692\n",
      " Model saved to transformer_1_1744854218.pt\n"
     ]
    },
    {
     "name": "stderr",
     "output_type": "stream",
     "text": [
      "Epoch 10/50: 100%|██████████| 155/155 [00:39<00:00,  3.90it/s]\n"
     ]
    },
    {
     "name": "stdout",
     "output_type": "stream",
     "text": [
      "Epoch 10 | Train Loss: 4.6215 | Val Loss: 4.6426\n",
      " Model saved to transformer_1_1744854218.pt\n"
     ]
    },
    {
     "name": "stderr",
     "output_type": "stream",
     "text": [
      "Epoch 11/50: 100%|██████████| 155/155 [00:39<00:00,  3.88it/s]\n"
     ]
    },
    {
     "name": "stdout",
     "output_type": "stream",
     "text": [
      "Epoch 11 | Train Loss: 4.5680 | Val Loss: 4.6057\n",
      " Model saved to transformer_1_1744854218.pt\n"
     ]
    },
    {
     "name": "stderr",
     "output_type": "stream",
     "text": [
      "Epoch 12/50: 100%|██████████| 155/155 [00:39<00:00,  3.88it/s]\n"
     ]
    },
    {
     "name": "stdout",
     "output_type": "stream",
     "text": [
      "Epoch 12 | Train Loss: 4.5192 | Val Loss: 4.5821\n",
      " Model saved to transformer_1_1744854218.pt\n"
     ]
    },
    {
     "name": "stderr",
     "output_type": "stream",
     "text": [
      "Epoch 13/50: 100%|██████████| 155/155 [00:40<00:00,  3.87it/s]\n"
     ]
    },
    {
     "name": "stdout",
     "output_type": "stream",
     "text": [
      "Epoch 13 | Train Loss: 4.4758 | Val Loss: 4.5584\n",
      " Model saved to transformer_1_1744854218.pt\n"
     ]
    },
    {
     "name": "stderr",
     "output_type": "stream",
     "text": [
      "Epoch 14/50: 100%|██████████| 155/155 [00:39<00:00,  3.89it/s]\n"
     ]
    },
    {
     "name": "stdout",
     "output_type": "stream",
     "text": [
      "Epoch 14 | Train Loss: 4.4366 | Val Loss: 4.5401\n",
      " Model saved to transformer_1_1744854218.pt\n"
     ]
    },
    {
     "name": "stderr",
     "output_type": "stream",
     "text": [
      "Epoch 15/50: 100%|██████████| 155/155 [00:39<00:00,  3.91it/s]\n"
     ]
    },
    {
     "name": "stdout",
     "output_type": "stream",
     "text": [
      "Epoch 15 | Train Loss: 4.4005 | Val Loss: 4.5252\n",
      " Model saved to transformer_1_1744854218.pt\n"
     ]
    },
    {
     "name": "stderr",
     "output_type": "stream",
     "text": [
      "Epoch 16/50: 100%|██████████| 155/155 [00:40<00:00,  3.86it/s]\n"
     ]
    },
    {
     "name": "stdout",
     "output_type": "stream",
     "text": [
      "Epoch 16 | Train Loss: 4.3658 | Val Loss: 4.5115\n",
      " Model saved to transformer_1_1744854218.pt\n"
     ]
    },
    {
     "name": "stderr",
     "output_type": "stream",
     "text": [
      "Epoch 17/50: 100%|██████████| 155/155 [00:39<00:00,  3.88it/s]\n"
     ]
    },
    {
     "name": "stdout",
     "output_type": "stream",
     "text": [
      "Epoch 17 | Train Loss: 4.3364 | Val Loss: 4.4984\n",
      " Model saved to transformer_1_1744854218.pt\n"
     ]
    },
    {
     "name": "stderr",
     "output_type": "stream",
     "text": [
      "Epoch 18/50: 100%|██████████| 155/155 [00:39<00:00,  3.91it/s]\n"
     ]
    },
    {
     "name": "stdout",
     "output_type": "stream",
     "text": [
      "Epoch 18 | Train Loss: 4.3076 | Val Loss: 4.4887\n",
      " Model saved to transformer_1_1744854218.pt\n"
     ]
    },
    {
     "name": "stderr",
     "output_type": "stream",
     "text": [
      "Epoch 19/50: 100%|██████████| 155/155 [00:39<00:00,  3.88it/s]\n"
     ]
    },
    {
     "name": "stdout",
     "output_type": "stream",
     "text": [
      "Epoch 19 | Train Loss: 4.2800 | Val Loss: 4.4810\n",
      " Model saved to transformer_1_1744854218.pt\n"
     ]
    },
    {
     "name": "stderr",
     "output_type": "stream",
     "text": [
      "Epoch 20/50: 100%|██████████| 155/155 [00:39<00:00,  3.88it/s]\n"
     ]
    },
    {
     "name": "stdout",
     "output_type": "stream",
     "text": [
      "Epoch 20 | Train Loss: 4.2556 | Val Loss: 4.4690\n",
      " Model saved to transformer_1_1744854218.pt\n"
     ]
    },
    {
     "name": "stderr",
     "output_type": "stream",
     "text": [
      "Epoch 21/50: 100%|██████████| 155/155 [00:39<00:00,  3.89it/s]\n"
     ]
    },
    {
     "name": "stdout",
     "output_type": "stream",
     "text": [
      "Epoch 21 | Train Loss: 4.2318 | Val Loss: 4.4604\n",
      " Model saved to transformer_1_1744854218.pt\n"
     ]
    },
    {
     "name": "stderr",
     "output_type": "stream",
     "text": [
      "Epoch 22/50: 100%|██████████| 155/155 [00:39<00:00,  3.91it/s]\n"
     ]
    },
    {
     "name": "stdout",
     "output_type": "stream",
     "text": [
      "Epoch 22 | Train Loss: 4.2098 | Val Loss: 4.4582\n",
      " Model saved to transformer_1_1744854218.pt\n"
     ]
    },
    {
     "name": "stderr",
     "output_type": "stream",
     "text": [
      "Epoch 23/50: 100%|██████████| 155/155 [00:39<00:00,  3.90it/s]\n"
     ]
    },
    {
     "name": "stdout",
     "output_type": "stream",
     "text": [
      "Epoch 23 | Train Loss: 4.1886 | Val Loss: 4.4496\n",
      " Model saved to transformer_1_1744854218.pt\n"
     ]
    },
    {
     "name": "stderr",
     "output_type": "stream",
     "text": [
      "Epoch 24/50: 100%|██████████| 155/155 [00:40<00:00,  3.87it/s]\n"
     ]
    },
    {
     "name": "stdout",
     "output_type": "stream",
     "text": [
      "Epoch 24 | Train Loss: 4.1690 | Val Loss: 4.4430\n",
      " Model saved to transformer_1_1744854218.pt\n"
     ]
    },
    {
     "name": "stderr",
     "output_type": "stream",
     "text": [
      "Epoch 25/50: 100%|██████████| 155/155 [00:39<00:00,  3.89it/s]\n"
     ]
    },
    {
     "name": "stdout",
     "output_type": "stream",
     "text": [
      "Epoch 25 | Train Loss: 4.1510 | Val Loss: 4.4378\n",
      " Model saved to transformer_1_1744854218.pt\n"
     ]
    },
    {
     "name": "stderr",
     "output_type": "stream",
     "text": [
      "Epoch 26/50: 100%|██████████| 155/155 [00:39<00:00,  3.89it/s]\n"
     ]
    },
    {
     "name": "stdout",
     "output_type": "stream",
     "text": [
      "Epoch 26 | Train Loss: 4.1321 | Val Loss: 4.4388\n"
     ]
    },
    {
     "name": "stderr",
     "output_type": "stream",
     "text": [
      "Epoch 27/50: 100%|██████████| 155/155 [00:39<00:00,  3.90it/s]\n"
     ]
    },
    {
     "name": "stdout",
     "output_type": "stream",
     "text": [
      "Epoch 27 | Train Loss: 4.1160 | Val Loss: 4.4309\n",
      " Model saved to transformer_1_1744854218.pt\n"
     ]
    },
    {
     "name": "stderr",
     "output_type": "stream",
     "text": [
      "Epoch 28/50: 100%|██████████| 155/155 [00:39<00:00,  3.90it/s]\n"
     ]
    },
    {
     "name": "stdout",
     "output_type": "stream",
     "text": [
      "Epoch 28 | Train Loss: 4.0995 | Val Loss: 4.4289\n",
      " Model saved to transformer_1_1744854218.pt\n"
     ]
    },
    {
     "name": "stderr",
     "output_type": "stream",
     "text": [
      "Epoch 29/50: 100%|██████████| 155/155 [00:39<00:00,  3.89it/s]\n"
     ]
    },
    {
     "name": "stdout",
     "output_type": "stream",
     "text": [
      "Epoch 29 | Train Loss: 4.0841 | Val Loss: 4.4222\n",
      " Model saved to transformer_1_1744854218.pt\n"
     ]
    },
    {
     "name": "stderr",
     "output_type": "stream",
     "text": [
      "Epoch 30/50: 100%|██████████| 155/155 [00:39<00:00,  3.88it/s]\n"
     ]
    },
    {
     "name": "stdout",
     "output_type": "stream",
     "text": [
      "Epoch 30 | Train Loss: 4.0684 | Val Loss: 4.4225\n"
     ]
    },
    {
     "name": "stderr",
     "output_type": "stream",
     "text": [
      "Epoch 31/50: 100%|██████████| 155/155 [00:39<00:00,  3.88it/s]\n"
     ]
    },
    {
     "name": "stdout",
     "output_type": "stream",
     "text": [
      "Epoch 31 | Train Loss: 4.0546 | Val Loss: 4.4200\n",
      " Model saved to transformer_1_1744854218.pt\n"
     ]
    },
    {
     "name": "stderr",
     "output_type": "stream",
     "text": [
      "Epoch 32/50: 100%|██████████| 155/155 [00:40<00:00,  3.86it/s]\n"
     ]
    },
    {
     "name": "stdout",
     "output_type": "stream",
     "text": [
      "Epoch 32 | Train Loss: 4.0420 | Val Loss: 4.4165\n",
      " Model saved to transformer_1_1744854218.pt\n"
     ]
    },
    {
     "name": "stderr",
     "output_type": "stream",
     "text": [
      "Epoch 33/50: 100%|██████████| 155/155 [00:39<00:00,  3.90it/s]\n"
     ]
    },
    {
     "name": "stdout",
     "output_type": "stream",
     "text": [
      "Epoch 33 | Train Loss: 4.0281 | Val Loss: 4.4143\n",
      " Model saved to transformer_1_1744854218.pt\n"
     ]
    },
    {
     "name": "stderr",
     "output_type": "stream",
     "text": [
      "Epoch 34/50: 100%|██████████| 155/155 [00:39<00:00,  3.88it/s]\n"
     ]
    },
    {
     "name": "stdout",
     "output_type": "stream",
     "text": [
      "Epoch 34 | Train Loss: 4.0161 | Val Loss: 4.4132\n",
      " Model saved to transformer_1_1744854218.pt\n"
     ]
    },
    {
     "name": "stderr",
     "output_type": "stream",
     "text": [
      "Epoch 35/50: 100%|██████████| 155/155 [00:39<00:00,  3.88it/s]\n"
     ]
    },
    {
     "name": "stdout",
     "output_type": "stream",
     "text": [
      "Epoch 35 | Train Loss: 4.0036 | Val Loss: 4.4130\n",
      " Model saved to transformer_1_1744854218.pt\n"
     ]
    },
    {
     "name": "stderr",
     "output_type": "stream",
     "text": [
      "Epoch 36/50: 100%|██████████| 155/155 [00:39<00:00,  3.88it/s]\n"
     ]
    },
    {
     "name": "stdout",
     "output_type": "stream",
     "text": [
      "Epoch 36 | Train Loss: 3.9919 | Val Loss: 4.4053\n",
      " Model saved to transformer_1_1744854218.pt\n"
     ]
    },
    {
     "name": "stderr",
     "output_type": "stream",
     "text": [
      "Epoch 37/50: 100%|██████████| 155/155 [00:40<00:00,  3.87it/s]\n"
     ]
    },
    {
     "name": "stdout",
     "output_type": "stream",
     "text": [
      "Epoch 37 | Train Loss: 3.9802 | Val Loss: 4.4072\n"
     ]
    },
    {
     "name": "stderr",
     "output_type": "stream",
     "text": [
      "Epoch 38/50: 100%|██████████| 155/155 [00:39<00:00,  3.91it/s]\n"
     ]
    },
    {
     "name": "stdout",
     "output_type": "stream",
     "text": [
      "Epoch 38 | Train Loss: 3.9703 | Val Loss: 4.4099\n"
     ]
    },
    {
     "name": "stderr",
     "output_type": "stream",
     "text": [
      "Epoch 39/50: 100%|██████████| 155/155 [00:39<00:00,  3.88it/s]\n"
     ]
    },
    {
     "name": "stdout",
     "output_type": "stream",
     "text": [
      "Epoch 39 | Train Loss: 3.9158 | Val Loss: 4.4004\n",
      " Model saved to transformer_1_1744854218.pt\n"
     ]
    },
    {
     "name": "stderr",
     "output_type": "stream",
     "text": [
      "Epoch 40/50: 100%|██████████| 155/155 [00:39<00:00,  3.92it/s]\n"
     ]
    },
    {
     "name": "stdout",
     "output_type": "stream",
     "text": [
      "Epoch 40 | Train Loss: 3.8978 | Val Loss: 4.4002\n",
      " Model saved to transformer_1_1744854218.pt\n"
     ]
    },
    {
     "name": "stderr",
     "output_type": "stream",
     "text": [
      "Epoch 41/50: 100%|██████████| 155/155 [00:39<00:00,  3.91it/s]\n"
     ]
    },
    {
     "name": "stdout",
     "output_type": "stream",
     "text": [
      "Epoch 41 | Train Loss: 3.8868 | Val Loss: 4.3977\n",
      " Model saved to transformer_1_1744854218.pt\n"
     ]
    },
    {
     "name": "stderr",
     "output_type": "stream",
     "text": [
      "Epoch 42/50: 100%|██████████| 155/155 [00:39<00:00,  3.90it/s]\n"
     ]
    },
    {
     "name": "stdout",
     "output_type": "stream",
     "text": [
      "Epoch 42 | Train Loss: 3.8775 | Val Loss: 4.4019\n"
     ]
    },
    {
     "name": "stderr",
     "output_type": "stream",
     "text": [
      "Epoch 43/50: 100%|██████████| 155/155 [00:39<00:00,  3.91it/s]\n"
     ]
    },
    {
     "name": "stdout",
     "output_type": "stream",
     "text": [
      "Epoch 43 | Train Loss: 3.8684 | Val Loss: 4.4009\n"
     ]
    },
    {
     "name": "stderr",
     "output_type": "stream",
     "text": [
      "Epoch 44/50: 100%|██████████| 155/155 [00:39<00:00,  3.89it/s]\n"
     ]
    },
    {
     "name": "stdout",
     "output_type": "stream",
     "text": [
      "Epoch 44 | Train Loss: 3.8390 | Val Loss: 4.3988\n"
     ]
    },
    {
     "name": "stderr",
     "output_type": "stream",
     "text": [
      "Epoch 45/50: 100%|██████████| 155/155 [00:39<00:00,  3.90it/s]\n"
     ]
    },
    {
     "name": "stdout",
     "output_type": "stream",
     "text": [
      "Epoch 45 | Train Loss: 3.8300 | Val Loss: 4.3962\n",
      " Model saved to transformer_1_1744854218.pt\n"
     ]
    },
    {
     "name": "stderr",
     "output_type": "stream",
     "text": [
      "Epoch 46/50: 100%|██████████| 155/155 [00:40<00:00,  3.87it/s]\n"
     ]
    },
    {
     "name": "stdout",
     "output_type": "stream",
     "text": [
      "Epoch 46 | Train Loss: 3.8245 | Val Loss: 4.3985\n"
     ]
    },
    {
     "name": "stderr",
     "output_type": "stream",
     "text": [
      "Epoch 47/50: 100%|██████████| 155/155 [00:39<00:00,  3.88it/s]\n"
     ]
    },
    {
     "name": "stdout",
     "output_type": "stream",
     "text": [
      "Epoch 47 | Train Loss: 3.8195 | Val Loss: 4.3972\n"
     ]
    },
    {
     "name": "stderr",
     "output_type": "stream",
     "text": [
      "Epoch 48/50: 100%|██████████| 155/155 [00:40<00:00,  3.87it/s]\n"
     ]
    },
    {
     "name": "stdout",
     "output_type": "stream",
     "text": [
      "Epoch 48 | Train Loss: 3.8033 | Val Loss: 4.3971\n"
     ]
    },
    {
     "name": "stderr",
     "output_type": "stream",
     "text": [
      "Epoch 49/50: 100%|██████████| 155/155 [00:39<00:00,  3.92it/s]\n"
     ]
    },
    {
     "name": "stdout",
     "output_type": "stream",
     "text": [
      "Epoch 49 | Train Loss: 3.7997 | Val Loss: 4.3974\n"
     ]
    },
    {
     "name": "stderr",
     "output_type": "stream",
     "text": [
      "Epoch 50/50: 100%|██████████| 155/155 [00:39<00:00,  3.89it/s]\n"
     ]
    },
    {
     "name": "stdout",
     "output_type": "stream",
     "text": [
      "Epoch 50 | Train Loss: 3.7911 | Val Loss: 4.3968\n",
      "📈 Saved loss curve as: TransformerLanguageModel_loss_curve_20250416_211953.png\n",
      "\n",
      " Test Perplexity: 81.1430\n",
      " Average BLEU Score: 0.0152\n"
     ]
    }
   ],
   "source": [
    "\n",
    "from gru_model import GRULanguageModel\n",
    "from lstm_model import LSTMLanguageModel\n",
    "from rnn_model import RNNLanguageModel\n",
    "from transformer_model import TransformerLanguageModel\n",
    "\n",
    "EPOCHS = 30\n",
    "\n",
    "run_experiments(\"gru\", GRULanguageModel, hyperparams_grid[\"gru\"], tokenizer, train_loader, test_loader, DEVICE)\n",
    "run_experiments(\"lstm\", LSTMLanguageModel, hyperparams_grid[\"lstm\"], tokenizer, train_loader, test_loader, DEVICE)\n",
    "run_experiments(\"rnn\", RNNLanguageModel, hyperparams_grid[\"rnn\"], tokenizer, train_loader, test_loader, DEVICE)\n",
    "run_experiments(\"transformer\", TransformerLanguageModel, hyperparams_grid[\"transformer\"], tokenizer, train_loader, test_loader, DEVICE)\n",
    "\n",
    "  "
   ]
  },
  {
   "cell_type": "code",
   "execution_count": 8,
   "id": "aa112955-97a9-4e42-a541-9d6727e2752f",
   "metadata": {
    "tags": []
   },
   "outputs": [
    {
     "data": {
      "text/html": [
       "<div>\n",
       "<style scoped>\n",
       "    .dataframe tbody tr th:only-of-type {\n",
       "        vertical-align: middle;\n",
       "    }\n",
       "\n",
       "    .dataframe tbody tr th {\n",
       "        vertical-align: top;\n",
       "    }\n",
       "\n",
       "    .dataframe thead th {\n",
       "        text-align: right;\n",
       "    }\n",
       "</style>\n",
       "<table border=\"1\" class=\"dataframe\">\n",
       "  <thead>\n",
       "    <tr style=\"text-align: right;\">\n",
       "      <th></th>\n",
       "      <th>model_type</th>\n",
       "      <th>config</th>\n",
       "      <th>perplexity</th>\n",
       "      <th>bleu_score</th>\n",
       "      <th>model_path</th>\n",
       "    </tr>\n",
       "  </thead>\n",
       "  <tbody>\n",
       "    <tr>\n",
       "      <th>6</th>\n",
       "      <td>transformer</td>\n",
       "      <td>{'embed_dim': 512, 'num_heads': 8, 'num_layers...</td>\n",
       "      <td>81.142958</td>\n",
       "      <td>0.015212</td>\n",
       "      <td>transformer_1_1744854218.pt</td>\n",
       "    </tr>\n",
       "    <tr>\n",
       "      <th>5</th>\n",
       "      <td>transformer</td>\n",
       "      <td>{'embed_dim': 256, 'num_heads': 4, 'num_layers...</td>\n",
       "      <td>87.876736</td>\n",
       "      <td>0.012722</td>\n",
       "      <td>transformer_0_1744853436.pt</td>\n",
       "    </tr>\n",
       "    <tr>\n",
       "      <th>0</th>\n",
       "      <td>gru</td>\n",
       "      <td>{'embed_dim': 128, 'hidden_dim': 256, 'num_lay...</td>\n",
       "      <td>94.899851</td>\n",
       "      <td>0.013920</td>\n",
       "      <td>gru_0_1744850565.pt</td>\n",
       "    </tr>\n",
       "    <tr>\n",
       "      <th>1</th>\n",
       "      <td>gru</td>\n",
       "      <td>{'embed_dim': 256, 'hidden_dim': 512, 'num_lay...</td>\n",
       "      <td>96.209134</td>\n",
       "      <td>0.014286</td>\n",
       "      <td>gru_1_1744851030.pt</td>\n",
       "    </tr>\n",
       "    <tr>\n",
       "      <th>2</th>\n",
       "      <td>lstm</td>\n",
       "      <td>{'embed_dim': 128, 'hidden_dim': 256, 'num_lay...</td>\n",
       "      <td>100.709278</td>\n",
       "      <td>0.012821</td>\n",
       "      <td>lstm_0_1744851828.pt</td>\n",
       "    </tr>\n",
       "    <tr>\n",
       "      <th>4</th>\n",
       "      <td>rnn</td>\n",
       "      <td>{'embed_dim': 128, 'hidden_dim': 128, 'num_lay...</td>\n",
       "      <td>132.290910</td>\n",
       "      <td>0.010129</td>\n",
       "      <td>rnn_0_1744853135.pt</td>\n",
       "    </tr>\n",
       "    <tr>\n",
       "      <th>3</th>\n",
       "      <td>lstm</td>\n",
       "      <td>{'embed_dim': 256, 'hidden_dim': 512, 'num_lay...</td>\n",
       "      <td>164.521526</td>\n",
       "      <td>0.009868</td>\n",
       "      <td>lstm_1_1744852306.pt</td>\n",
       "    </tr>\n",
       "  </tbody>\n",
       "</table>\n",
       "</div>"
      ],
      "text/plain": [
       "    model_type                                             config  perplexity  \\\n",
       "6  transformer  {'embed_dim': 512, 'num_heads': 8, 'num_layers...   81.142958   \n",
       "5  transformer  {'embed_dim': 256, 'num_heads': 4, 'num_layers...   87.876736   \n",
       "0          gru  {'embed_dim': 128, 'hidden_dim': 256, 'num_lay...   94.899851   \n",
       "1          gru  {'embed_dim': 256, 'hidden_dim': 512, 'num_lay...   96.209134   \n",
       "2         lstm  {'embed_dim': 128, 'hidden_dim': 256, 'num_lay...  100.709278   \n",
       "4          rnn  {'embed_dim': 128, 'hidden_dim': 128, 'num_lay...  132.290910   \n",
       "3         lstm  {'embed_dim': 256, 'hidden_dim': 512, 'num_lay...  164.521526   \n",
       "\n",
       "   bleu_score                   model_path  \n",
       "6    0.015212  transformer_1_1744854218.pt  \n",
       "5    0.012722  transformer_0_1744853436.pt  \n",
       "0    0.013920          gru_0_1744850565.pt  \n",
       "1    0.014286          gru_1_1744851030.pt  \n",
       "2    0.012821         lstm_0_1744851828.pt  \n",
       "4    0.010129          rnn_0_1744853135.pt  \n",
       "3    0.009868         lstm_1_1744852306.pt  "
      ]
     },
     "execution_count": 8,
     "metadata": {},
     "output_type": "execute_result"
    }
   ],
   "source": [
    "results_df = pd.DataFrame(results)\n",
    "results_df.to_csv(\"experiment_results.csv\", index=False)\n",
    "results_df.sort_values(by=\"perplexity\").head(10)"
   ]
  },
  {
   "cell_type": "code",
   "execution_count": 15,
   "id": "540c63d0-1836-4978-9dbf-775977d3c556",
   "metadata": {
    "tags": []
   },
   "outputs": [
    {
     "data": {
      "text/html": [
       "<div>\n",
       "<style scoped>\n",
       "    .dataframe tbody tr th:only-of-type {\n",
       "        vertical-align: middle;\n",
       "    }\n",
       "\n",
       "    .dataframe tbody tr th {\n",
       "        vertical-align: top;\n",
       "    }\n",
       "\n",
       "    .dataframe thead th {\n",
       "        text-align: right;\n",
       "    }\n",
       "</style>\n",
       "<table border=\"1\" class=\"dataframe\">\n",
       "  <thead>\n",
       "    <tr style=\"text-align: right;\">\n",
       "      <th></th>\n",
       "      <th>model_type</th>\n",
       "      <th>config</th>\n",
       "      <th>perplexity</th>\n",
       "      <th>bleu_score</th>\n",
       "      <th>model_path</th>\n",
       "    </tr>\n",
       "  </thead>\n",
       "  <tbody>\n",
       "    <tr>\n",
       "      <th>0</th>\n",
       "      <td>gru</td>\n",
       "      <td>{'embed_dim': 128, 'hidden_dim': 256, 'num_lay...</td>\n",
       "      <td>94.899851</td>\n",
       "      <td>0.013920</td>\n",
       "      <td>gru_0_1744850565.pt</td>\n",
       "    </tr>\n",
       "    <tr>\n",
       "      <th>1</th>\n",
       "      <td>gru</td>\n",
       "      <td>{'embed_dim': 256, 'hidden_dim': 512, 'num_lay...</td>\n",
       "      <td>96.209134</td>\n",
       "      <td>0.014286</td>\n",
       "      <td>gru_1_1744851030.pt</td>\n",
       "    </tr>\n",
       "    <tr>\n",
       "      <th>2</th>\n",
       "      <td>lstm</td>\n",
       "      <td>{'embed_dim': 128, 'hidden_dim': 256, 'num_lay...</td>\n",
       "      <td>100.709278</td>\n",
       "      <td>0.012821</td>\n",
       "      <td>lstm_0_1744851828.pt</td>\n",
       "    </tr>\n",
       "    <tr>\n",
       "      <th>3</th>\n",
       "      <td>lstm</td>\n",
       "      <td>{'embed_dim': 256, 'hidden_dim': 512, 'num_lay...</td>\n",
       "      <td>164.521526</td>\n",
       "      <td>0.009868</td>\n",
       "      <td>lstm_1_1744852306.pt</td>\n",
       "    </tr>\n",
       "    <tr>\n",
       "      <th>4</th>\n",
       "      <td>rnn</td>\n",
       "      <td>{'embed_dim': 128, 'hidden_dim': 128, 'num_lay...</td>\n",
       "      <td>132.290910</td>\n",
       "      <td>0.010129</td>\n",
       "      <td>rnn_0_1744853135.pt</td>\n",
       "    </tr>\n",
       "    <tr>\n",
       "      <th>5</th>\n",
       "      <td>transformer</td>\n",
       "      <td>{'embed_dim': 256, 'num_heads': 4, 'num_layers...</td>\n",
       "      <td>87.876736</td>\n",
       "      <td>0.012722</td>\n",
       "      <td>transformer_0_1744853436.pt</td>\n",
       "    </tr>\n",
       "    <tr>\n",
       "      <th>6</th>\n",
       "      <td>transformer</td>\n",
       "      <td>{'embed_dim': 512, 'num_heads': 8, 'num_layers...</td>\n",
       "      <td>81.142958</td>\n",
       "      <td>0.015212</td>\n",
       "      <td>transformer_1_1744854218.pt</td>\n",
       "    </tr>\n",
       "  </tbody>\n",
       "</table>\n",
       "</div>"
      ],
      "text/plain": [
       "    model_type                                             config  perplexity  \\\n",
       "0          gru  {'embed_dim': 128, 'hidden_dim': 256, 'num_lay...   94.899851   \n",
       "1          gru  {'embed_dim': 256, 'hidden_dim': 512, 'num_lay...   96.209134   \n",
       "2         lstm  {'embed_dim': 128, 'hidden_dim': 256, 'num_lay...  100.709278   \n",
       "3         lstm  {'embed_dim': 256, 'hidden_dim': 512, 'num_lay...  164.521526   \n",
       "4          rnn  {'embed_dim': 128, 'hidden_dim': 128, 'num_lay...  132.290910   \n",
       "5  transformer  {'embed_dim': 256, 'num_heads': 4, 'num_layers...   87.876736   \n",
       "6  transformer  {'embed_dim': 512, 'num_heads': 8, 'num_layers...   81.142958   \n",
       "\n",
       "   bleu_score                   model_path  \n",
       "0    0.013920          gru_0_1744850565.pt  \n",
       "1    0.014286          gru_1_1744851030.pt  \n",
       "2    0.012821         lstm_0_1744851828.pt  \n",
       "3    0.009868         lstm_1_1744852306.pt  \n",
       "4    0.010129          rnn_0_1744853135.pt  \n",
       "5    0.012722  transformer_0_1744853436.pt  \n",
       "6    0.015212  transformer_1_1744854218.pt  "
      ]
     },
     "execution_count": 15,
     "metadata": {},
     "output_type": "execute_result"
    }
   ],
   "source": [
    "results_df.sort_values(by=\"model_type\").head(11)"
   ]
  },
  {
   "cell_type": "code",
   "execution_count": 28,
   "id": "468f8827-376d-491e-a3b1-c69a31437627",
   "metadata": {
    "tags": []
   },
   "outputs": [
    {
     "name": "stdout",
     "output_type": "stream",
     "text": [
      "\n",
      " Test Perplexity: 81.1430\n",
      " Average BLEU Score: 0.0152\n",
      "\n",
      "--- Generations using TRANSFORMER ---\n",
      " Prompt    : What do you prefer — cat or dog?\n",
      " Generated : I come here in the wood. You may sleep in that coach, and you will come down, father. He took Cosette gently in his hands, and kissed her, propped himself down, kissed her hand. Cosette kept saying to the child.\n",
      " Prompt    : old Mr Fox stirred under the bench, and cudgelled all the rabble, and drove them and Mrs Fox out of the house. SECOND STORY When old Mr Fox was dead, the wolf came as a suitor, and knocked at the\n",
      " Generated : door; he could not open it, and hurried off by the door asking whether, if anything could be; but the who was looking up, I would find it a young fox stretched out in the direction, and should\n"
     ]
    }
   ],
   "source": [
    "\n",
    "from transformer_model import TransformerLanguageModel\n",
    "\n",
    "# Example config — must match the config used during training\n",
    "config = {\n",
    "    \"embed_dim\": 512,\n",
    "    \"num_heads\": 8,\n",
    "    \"num_layers\": 4\n",
    "}\n",
    "MODEL_TYPE='Transformer'\n",
    "# Rebuild the model\n",
    "model = TransformerLanguageModel(\n",
    "    vocab_size=VOCAB_SIZE,\n",
    "    embed_dim=config[\"embed_dim\"],\n",
    "    num_heads=config[\"num_heads\"],\n",
    "    num_layers=config[\"num_layers\"],\n",
    "    pad_token_id=tokenizer.get_pad_id()\n",
    ").to(DEVICE)\n",
    "\n",
    "evaluate_model(model, 'transformer_1_1744854218.pt', test_loader, tokenizer, DEVICE)\n",
    "\n",
    "# --- Step 5: Sample Generation ---\n",
    "custom_prompts = [\n",
    " \n",
    "    \"What do you prefer — cat or dog?\",\n",
    "    \"old Mr Fox stirred under the bench, and cudgelled all the rabble, and drove them and Mrs Fox out of the house. SECOND STORY When old Mr Fox was dead, the wolf came as a suitor, and knocked at the\"\n",
    "]\n",
    "\n",
    "print(f\"\\n--- Generations using {MODEL_TYPE.upper()} ---\")\n",
    "for prompt in custom_prompts:\n",
    "    output = model.generate(tokenizer, prompt, device=DEVICE, return_continuation_only=True)\n",
    "    print(f\" Prompt    : {prompt}\")\n",
    "    print(f\" Generated : {output}\")\n"
   ]
  },
  {
   "cell_type": "code",
   "execution_count": 29,
   "id": "c305bd63-e9a1-454b-ab5a-9a7b4864ccd7",
   "metadata": {
    "tags": []
   },
   "outputs": [
    {
     "name": "stdout",
     "output_type": "stream",
     "text": [
      "\n",
      " Test Perplexity: 94.8999\n",
      " Average BLEU Score: 0.0139\n",
      "\n",
      "--- Generations using GRU ---\n",
      " Prompt    : What do you prefer — cat or dog?\n",
      " Generated : exclaimed Covent. It is with a dreamet drawn me when he spoke. The doctor shook his head. Where is Madeleine? said Fantine. The light is almost, a car. Marius was now lifted and cared, so Rapurzel\n",
      " Prompt    : old Mr Fox stirred under the bench, and cudgelled all the rabble, and drove them and Mrs Fox out of the house. SECOND STORY When old Mr Fox was dead, the wolf came as a suitor, and knocked at the\n",
      " Generated : window; he sang, resolutely. The tree got. Her bows hid so long as we could just lean upon a run. around the air was way juffily, and made nothing of it, a fearful\n"
     ]
    }
   ],
   "source": [
    "from gru_model import GRULanguageModel\n",
    "\n",
    "config = {\n",
    "    \"embed_dim\": 128,     # Must match training\n",
    "    \"hidden_dim\": 256,    # Must match training\n",
    "    \"num_layers\": 2       # Must match training\n",
    "}\n",
    "\n",
    "model = GRULanguageModel(\n",
    "    vocab_size=VOCAB_SIZE,\n",
    "    embed_dim=config[\"embed_dim\"],\n",
    "    hidden_dim=config[\"hidden_dim\"],\n",
    "    num_layers=config[\"num_layers\"],\n",
    "    pad_token_id=tokenizer.get_pad_id()\n",
    ").to(DEVICE)\n",
    "\n",
    "MODEL_TYPE='gru'\n",
    "\n",
    "evaluate_model(model, 'gru_0_1744850565.pt', test_loader, tokenizer, DEVICE)\n",
    "\n",
    "# --- Step 5: Sample Generation ---\n",
    "custom_prompts = [\n",
    " \n",
    "    \"What do you prefer — cat or dog?\",\n",
    "    \"old Mr Fox stirred under the bench, and cudgelled all the rabble, and drove them and Mrs Fox out of the house. SECOND STORY When old Mr Fox was dead, the wolf came as a suitor, and knocked at the\"\n",
    "]\n",
    "\n",
    "print(f\"\\n--- Generations using {MODEL_TYPE.upper()} ---\")\n",
    "for prompt in custom_prompts:\n",
    "    output = model.generate(tokenizer, prompt, device=DEVICE, return_continuation_only=True)\n",
    "    print(f\" Prompt    : {prompt}\")\n",
    "    print(f\" Generated : {output}\")\n",
    "\n"
   ]
  },
  {
   "cell_type": "code",
   "execution_count": 30,
   "id": "88c4a8b1-30dd-4ca2-8918-4a8fa4f52633",
   "metadata": {
    "tags": []
   },
   "outputs": [
    {
     "name": "stdout",
     "output_type": "stream",
     "text": [
      "\n",
      " Test Perplexity: 100.7093\n",
      " Average BLEU Score: 0.0128\n",
      "\n",
      "--- Generations using LSTM ---\n",
      " Prompt    : What do you prefer — cat or dog?\n",
      " Generated : asked Il, said she, why will not, how good? Why if I have, as he was old? Char10. Then ran up to the bandit, but Cleft, M. de And what ⁇ , such to be borne in passage\n",
      " Prompt    : old Mr Fox stirred under the bench, and cudgelled all the rabble, and drove them and Mrs Fox out of the house. SECOND STORY When old Mr Fox was dead, the wolf came as a suitor, and knocked at the\n",
      " Generated : throne of king and lamented an account of that must best scorn when her mind would have been himself long even lived so\n"
     ]
    }
   ],
   "source": [
    "from lstm_model import LSTMLanguageModel\n",
    "\n",
    "config = {\n",
    "    \"embed_dim\": 128,     # Must match training\n",
    "    \"hidden_dim\": 256,    # Must match training\n",
    "    \"num_layers\": 2       # Must match training\n",
    "}\n",
    "\n",
    "model = LSTMLanguageModel(\n",
    "    vocab_size=VOCAB_SIZE,\n",
    "    embed_dim=config[\"embed_dim\"],\n",
    "    hidden_dim=config[\"hidden_dim\"],\n",
    "    num_layers=config[\"num_layers\"],\n",
    "    pad_token_id=tokenizer.get_pad_id()\n",
    ").to(DEVICE)\n",
    "\n",
    "MODEL_TYPE='lstm'\n",
    "\n",
    "evaluate_model(model, 'lstm_0_1744851828.pt', test_loader, tokenizer, DEVICE)\n",
    "\n",
    "# --- Step 5: Sample Generation ---\n",
    "custom_prompts = [\n",
    " \n",
    "    \"What do you prefer — cat or dog?\",\n",
    "    \"old Mr Fox stirred under the bench, and cudgelled all the rabble, and drove them and Mrs Fox out of the house. SECOND STORY When old Mr Fox was dead, the wolf came as a suitor, and knocked at the\"\n",
    "]\n",
    "\n",
    "print(f\"\\n--- Generations using {MODEL_TYPE.upper()} ---\")\n",
    "for prompt in custom_prompts:\n",
    "    output = model.generate(tokenizer, prompt, device=DEVICE, return_continuation_only=True)\n",
    "    print(f\" Prompt    : {prompt}\")\n",
    "    print(f\" Generated : {output}\")\n",
    "\n"
   ]
  },
  {
   "cell_type": "code",
   "execution_count": 31,
   "id": "87d02cbf-77ae-415d-aad4-1fbaae5e3297",
   "metadata": {
    "tags": []
   },
   "outputs": [
    {
     "name": "stdout",
     "output_type": "stream",
     "text": [
      "\n",
      " Test Perplexity: 132.2909\n",
      " Average BLEU Score: 0.0101\n",
      "\n",
      "--- Generations using RNN ---\n",
      " Prompt    : What do you prefer — cat or dog?\n",
      " Generated : What has since you be rained atlook to these fortune, I would not face what to give me to death. Thritted the second of them. He is. This is me that such a couple of people began faming bare up but their\n",
      " Prompt    : old Mr Fox stirred under the bench, and cudgelled all the rabble, and drove them and Mrs Fox out of the house. SECOND STORY When old Mr Fox was dead, the wolf came as a suitor, and knocked at the\n",
      " Generated : stones down cried and over the seat violently, and again near him. I will make this assistance, and said the King wouldn ⁇ , this Alice was quite a dadz, taking a red merry to the drive Dorothy handed himself upon him. The\n"
     ]
    }
   ],
   "source": [
    "from rnn_model import RNNLanguageModel\n",
    "\n",
    "config = {\n",
    "    \"embed_dim\": 128,     # Must match training\n",
    "    \"hidden_dim\": 128,    # Must match training\n",
    "    \"num_layers\": 2       # Must match training\n",
    "}\n",
    "\n",
    "model = RNNLanguageModel(\n",
    "    vocab_size=VOCAB_SIZE,\n",
    "    embed_dim=config[\"embed_dim\"],\n",
    "    hidden_dim=config[\"hidden_dim\"],\n",
    "    num_layers=config[\"num_layers\"],\n",
    "    pad_token_id=tokenizer.get_pad_id()\n",
    ").to(DEVICE)\n",
    "\n",
    "MODEL_TYPE='rnn'\n",
    "\n",
    "evaluate_model(model, 'rnn_0_1744853135.pt', test_loader, tokenizer, DEVICE)\n",
    "\n",
    "# --- Step 5: Sample Generation ---\n",
    "custom_prompts = [\n",
    " \n",
    "    \"What do you prefer — cat or dog?\",\n",
    "    \"old Mr Fox stirred under the bench, and cudgelled all the rabble, and drove them and Mrs Fox out of the house. SECOND STORY When old Mr Fox was dead, the wolf came as a suitor, and knocked at the\"\n",
    "]\n",
    "\n",
    "print(f\"\\n--- Generations using {MODEL_TYPE.upper()} ---\")\n",
    "for prompt in custom_prompts:\n",
    "    output = model.generate(tokenizer, prompt, device=DEVICE, return_continuation_only=True)\n",
    "    print(f\" Prompt    : {prompt}\")\n",
    "    print(f\" Generated : {output}\")"
   ]
  },
  {
   "cell_type": "code",
   "execution_count": null,
   "id": "9459dcf9-c361-49d9-8aaf-791c02a14ce9",
   "metadata": {},
   "outputs": [],
   "source": []
  }
 ],
 "metadata": {
  "kernelspec": {
   "display_name": "[System Module] Python 3.11.5",
   "language": "python",
   "name": "python3"
  },
  "language_info": {
   "codemirror_mode": {
    "name": "ipython",
    "version": 3
   },
   "file_extension": ".py",
   "mimetype": "text/x-python",
   "name": "python",
   "nbconvert_exporter": "python",
   "pygments_lexer": "ipython3",
   "version": "3.11.5"
  }
 },
 "nbformat": 4,
 "nbformat_minor": 5
}
